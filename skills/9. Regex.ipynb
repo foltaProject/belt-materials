{
 "cells": [
  {
   "cell_type": "markdown",
   "id": "5e6ef1b1-815d-4f01-b509-8f448ef156f6",
   "metadata": {
    "deletable": false,
    "editable": false,
    "tags": []
   },
   "source": [
    "# **Using Regular Expressions to Search Text**\n",
    "This lesson covers regular expressions, or **regexes**, a powerful tool for searching and parsing text. Regexes are more difficult than most of the concepts we've covered so far, but they can be invaluable for language processing.\n",
    "\n",
    "### Why are regexes useful?\n",
    "Suppose you are trying to check if a string matches a possible age. We know the string should be only numeric digits and no more than 3 characters long, so we could write the following `if` statement:"
   ]
  },
  {
   "cell_type": "code",
   "execution_count": null,
   "id": "5e042ef3-c890-4377-824c-ae4afce243e3",
   "metadata": {
    "tags": []
   },
   "outputs": [],
   "source": [
    "age_string = \"64\"\n",
    "\n",
    "if len(age_string) <= 3 and age_string.isnumeric():\n",
    "    print(\"The string is an age\")"
   ]
  },
  {
   "cell_type": "markdown",
   "id": "36130146-59f3-4e92-a9a4-63df44b7c7d8",
   "metadata": {
    "deletable": false,
    "editable": false,
    "tags": []
   },
   "source": [
    "However, what if we are trying to match a string that contains a name *and* an age, in the format `\"Hannah, 42\"`. With the tools we have for parsing text, there's no obvious way to do this. \n",
    "\n",
    "With regexes, this is easy. We can write the following **regex pattern string** that describes the pattern we are looking to match."
   ]
  },
  {
   "cell_type": "code",
   "execution_count": null,
   "id": "7c02e414-7276-4a49-98c3-5e2d9af9c830",
   "metadata": {
    "tags": []
   },
   "outputs": [],
   "source": [
    "import re\n",
    "\n",
    "name_age_pattern = r\"^[A-Za-z]+, [0-9]{1,3}$\"\n",
    "\n",
    "if re.search(name_age_pattern, \"Hannah, 42\"):\n",
    "    print(\"'Hannah, 42' matches\")\n",
    "    \n",
    "if re.search(name_age_pattern, \"Hannah\"):\n",
    "    print(\"'Hannah' matches\")\n",
    "    \n",
    "if re.search(name_age_pattern, \"42\"):\n",
    "    print(\"'42' matches\")"
   ]
  },
  {
   "cell_type": "markdown",
   "id": "17089020-96a7-4c20-af90-4483b5239d86",
   "metadata": {
    "deletable": false,
    "editable": false,
    "tags": []
   },
   "source": [
    "Calling `re.search(pattern, string)` returns the first match for the pattern in the string, or `None` if there is no match.\n",
    "\n",
    "### Components of an example regex\n",
    "Let's break down the pattern string `^[A-Za-z]+, [0-9]{1,3}$`. \n",
    "\n",
    "First, `^` matches the start of the string.\n",
    "\n",
    "Next, the bracketed set `[A-Za-z]` matches any letter in the English alphabet, upper or lowercase. Adding `+` allows the pattern to match one or more letters."
   ]
  },
  {
   "cell_type": "code",
   "execution_count": null,
   "id": "5ddc092d-e509-455e-9604-0cbf02999dce",
   "metadata": {
    "tags": []
   },
   "outputs": [],
   "source": [
    "letter_pattern = r\"^[A-Za-z]+$\"\n",
    "\n",
    "print(re.search(letter_pattern, \"Hello\")) # Matches\n",
    "print(re.search(letter_pattern, \"12344\")) # Doesn't match\n",
    "print(re.search(letter_pattern, \"Hello1234\")) # Doesn't match"
   ]
  },
  {
   "cell_type": "markdown",
   "id": "3b055a3e-6201-4a84-995d-2789b17474ae",
   "metadata": {
    "deletable": false,
    "editable": false,
    "tags": []
   },
   "source": [
    "Next, the pattern `, ` matches a literal comma and space. In regex, writing non-special characters matches the exact string."
   ]
  },
  {
   "cell_type": "code",
   "execution_count": null,
   "id": "0d9fdb1b-92dc-4150-95a2-82d928625df6",
   "metadata": {
    "tags": []
   },
   "outputs": [],
   "source": [
    "exact_pattern = r\"^Hello$\"\n",
    "\n",
    "print(re.search(exact_pattern, \"Hello\")) # Matches\n",
    "print(re.search(exact_pattern, \"Hi\")) # Doesn't match\n",
    "print(re.search(exact_pattern, \"Hello1234\")) # Doesn't match"
   ]
  },
  {
   "cell_type": "markdown",
   "id": "92d3f099-d2af-4cb4-b677-2f0cc5843cc2",
   "metadata": {
    "deletable": false,
    "editable": false,
    "tags": []
   },
   "source": [
    "The set `[0-9]` matches any digit character, and `{1,3}` requires between 1 and 3 digits in a row.  "
   ]
  },
  {
   "cell_type": "code",
   "execution_count": null,
   "id": "baeaa5ac-3840-41db-8b6a-537b2be1b079",
   "metadata": {
    "tags": []
   },
   "outputs": [],
   "source": [
    "digit_pattern = r\"^[0-9]{1,3}$\"\n",
    "\n",
    "print(re.search(digit_pattern, \"72\")) # Matches\n",
    "print(re.search(digit_pattern, \"1\")) # Matches\n",
    "print(re.search(digit_pattern, \"882\")) # Matches\n",
    "print(re.search(digit_pattern, \"1002\")) # Doesn't match, too many digits\n",
    "print(re.search(digit_pattern, \"a12\")) # Doesn't match, includes non-digit"
   ]
  },
  {
   "cell_type": "markdown",
   "id": "882449a9-f0d8-4f6b-9a06-7bd3b0b752b3",
   "metadata": {
    "deletable": false,
    "editable": false,
    "tags": []
   },
   "source": [
    "Finally, the `$` character matches the end of the string."
   ]
  },
  {
   "cell_type": "markdown",
   "id": "dfa84e00-c090-40b2-b935-b28b20b198d0",
   "metadata": {
    "deletable": false,
    "editable": false,
    "tags": []
   },
   "source": [
    "## **Using Regex to Search**\n",
    "If we want to match an entire string with a pattern, we put `^` and `$` at the start and end of the pattern. However, if we want to match a pattern *anywhere in the string*, we can omit these character. For example, we can find the first chunk of letters in the string using the following regex."
   ]
  },
  {
   "cell_type": "code",
   "execution_count": null,
   "id": "2217ca24-4d44-4677-a3c8-76c920538552",
   "metadata": {
    "tags": []
   },
   "outputs": [],
   "source": [
    "letters_pattern = r\"[A-Za-z]+\"\n",
    "\n",
    "print(re.search(letters_pattern, \"The quick brown fox jumped over the lazy dog\"))"
   ]
  },
  {
   "cell_type": "markdown",
   "id": "4e9eb65c-3157-40b9-8782-100222415abb",
   "metadata": {
    "deletable": false,
    "editable": false,
    "tags": []
   },
   "source": [
    "If we want to find *all* of the matches for a regex in a string, we can use `re.findall`."
   ]
  },
  {
   "cell_type": "code",
   "execution_count": null,
   "id": "cfe56c78-3e00-4d3a-a5f3-b8d99546cad9",
   "metadata": {
    "tags": []
   },
   "outputs": [],
   "source": [
    "print(re.findall(letters_pattern, \"The quick brown fox jumped over the lazy dog\"))"
   ]
  },
  {
   "cell_type": "markdown",
   "id": "85463e6e-f7ab-488d-9f2e-4f19aa10643f",
   "metadata": {
    "deletable": false,
    "editable": false,
    "tags": []
   },
   "source": [
    "We can see how this would be useful to separate the words in a raw text file. "
   ]
  },
  {
   "cell_type": "markdown",
   "id": "e07981ed-971e-4224-a22d-2c53a7372f2e",
   "metadata": {
    "deletable": false,
    "editable": false,
    "tags": []
   },
   "source": [
    "## **Regex Special Characters**\n",
    "Regex has a number of useful special characters to make pattern matching easy. You can find a complete list [here](https://www.w3schools.com/python/python_regex.asp).\n",
    "\n",
    "You've seen the `+` symbol, which matches one or more instances of a symbol. We can also use `*`, which matches zero or more instances, and `?`, which matches zero or one instance."
   ]
  },
  {
   "cell_type": "code",
   "execution_count": null,
   "id": "355e27d9-c694-4f82-8935-c7e38b70a2ff",
   "metadata": {
    "tags": []
   },
   "outputs": [],
   "source": [
    "plus_pattern     = r\"^A+$\"\n",
    "star_pattern     = r\"^A*$\"\n",
    "optional_pattern = r\"^A?$\"\n",
    "\n",
    "for string in [\"\", \"A\", \"AA\"]:\n",
    "    if re.search(plus_pattern, string) != None:\n",
    "        print(f\"'{string}' matches {plus_pattern}\")\n",
    "    if re.search(star_pattern, string) != None:\n",
    "        print(f\"'{string}' matches {star_pattern}\")\n",
    "    if re.search(optional_pattern, string) != None:\n",
    "        print(f\"'{string}' matches {optional_pattern}\")\n",
    "    print('\\n')"
   ]
  },
  {
   "cell_type": "markdown",
   "id": "7b2e588b-589a-4c1a-ada3-9e4f4897d6b1",
   "metadata": {
    "deletable": false,
    "editable": false,
    "tags": []
   },
   "source": [
    "#### **Exercise 1**\n",
    "Create a regex that matches one or more `A` characters followed by one or zero `B` characters.\n",
    "\n",
    "<details>\n",
    "  <summary>Show answer</summary>\n",
    "      <pre style=\"background-color: honeydew; padding: 10px; border-radius: 5px;\"><code style=\"background: none;\">ab_pattern = \"^A+B?$\" </code></pre>\n",
    "</details>"
   ]
  },
  {
   "cell_type": "code",
   "execution_count": null,
   "id": "26ad4a2b-6393-4120-8477-e4a5198ebdb2",
   "metadata": {
    "tags": []
   },
   "outputs": [],
   "source": [
    "# TODO: Replace the following with your own regex\n",
    "ab_pattern = \"\" \n",
    "\n",
    "print(re.search(ab_pattern, \"AAB\") != None, \"Should be true\")\n",
    "print(re.search(ab_pattern, \"AA\") != None, \"Should be true\")\n",
    "print(re.search(ab_pattern, \"AABBB\") != None, \"Should be false\")\n",
    "print(re.search(ab_pattern, \"BB\") != None, \"Should be false\")"
   ]
  },
  {
   "cell_type": "markdown",
   "id": "0c7e8a42-17d4-4153-8182-c2862a57824c",
   "metadata": {
    "deletable": false,
    "editable": false,
    "tags": []
   },
   "source": [
    "### Special sequences\n",
    "We can also use the following special sequences as shortcuts for common patterns.\n",
    "- `\\d` matches a digit character (number)\n",
    "- `\\s` matches a whitespace character (space, newline, tab, etc.)\n",
    "- `\\w` matches a word character (letter, digit, or underscore)"
   ]
  },
  {
   "cell_type": "code",
   "execution_count": null,
   "id": "7e161a38-fa56-4ebd-952d-f5f3de86a554",
   "metadata": {
    "tags": []
   },
   "outputs": [],
   "source": [
    "word_pattern = r\"\\w+\"\n",
    "number_pattern = r\"\\d+\"\n",
    "whitespace_pattern = r\"\\s+\"\n",
    "\n",
    "print(re.findall(word_pattern, \"The 22 quick brown foxes jumped over the 304 lazy dogs\"))\n",
    "print(re.findall(number_pattern, \"The 22 quick brown foxes jumped over the 304 lazy dogs\"))\n",
    "print(re.findall(whitespace_pattern, \"The 22 quick brown foxes jumped over the 304 lazy dogs\"))"
   ]
  },
  {
   "cell_type": "markdown",
   "id": "6ba84087-499c-4f15-8a60-a03aaff70d10",
   "metadata": {
    "deletable": false,
    "editable": false,
    "tags": []
   },
   "source": [
    "If we want to match a character that is otherwise a special character, we can use the backslash `\\` to **escape** the special character."
   ]
  },
  {
   "cell_type": "code",
   "execution_count": null,
   "id": "30322691-1663-4dc9-8379-e8da7140258d",
   "metadata": {
    "tags": []
   },
   "outputs": [],
   "source": [
    "title_pattern = r\"\\w+\\.\" # Matches some word characters followed by a period\n",
    "\n",
    "print(re.findall(title_pattern, \"Mr. Smith and Mrs. Smith went to Dr. Hartman for help\"))"
   ]
  },
  {
   "cell_type": "markdown",
   "id": "21bcbb1e-281c-4906-80dd-cacc93f42dd0",
   "metadata": {
    "deletable": false,
    "editable": false,
    "tags": []
   },
   "source": [
    "#### **Exercise 2**\n",
    "Create a regex that matches whole words 1-3 letters long. Words should be surrounded by spaces on either side.\n",
    "\n",
    "<details>\n",
    "  <summary>Show answer</summary>\n",
    "      <pre style=\"background-color: honeydew; padding: 10px; border-radius: 5px;\"><code style=\"background: none;\">short_word_pattern = r\"\\s\\w{1,3}\\s\" </code></pre>\n",
    "</details>"
   ]
  },
  {
   "cell_type": "code",
   "execution_count": null,
   "id": "f67e7772-2616-4b34-8a43-b60cdbc484a4",
   "metadata": {
    "tags": []
   },
   "outputs": [],
   "source": [
    "# TODO: Replace the following with your own regex\n",
    "short_word_pattern = r\"\" \n",
    "\n",
    "print(re.findall(short_word_pattern, \" I am going to the mall with my family \"))"
   ]
  },
  {
   "cell_type": "markdown",
   "id": "2483c208-8607-48a6-bac1-8d1ba770f7ba",
   "metadata": {
    "deletable": false,
    "editable": false,
    "tags": []
   },
   "source": [
    "### Sets\n",
    "We've seen a few regex sets, which allow you to match several different characters.\n",
    "- `[A-Z]` matches all uppercase letters\n",
    "- `[a-z]` matches all lowercase letters\n",
    "- `[0-9]` matches all digits (you can also use `\\d`)\n",
    "- `[xyz]` matches `x`, `y`, or `z`\n",
    "- `[^xyz]` matches anything *except* `x`, `y`, or `z`"
   ]
  },
  {
   "cell_type": "markdown",
   "id": "a54c06cc-3b9f-4a18-8e36-5b20f39d1e0c",
   "metadata": {
    "deletable": false,
    "editable": false,
    "tags": []
   },
   "source": [
    "#### **Exercise 3**\n",
    "Create a regex that matches any string of characters, surrounded by spaces, that **does not** contain any digits.\n",
    "\n",
    "<details>\n",
    "  <summary>Show answer</summary>\n",
    "      <pre style=\"background-color: honeydew; padding: 10px; border-radius: 5px;\"><code style=\"background: none;\">short_word_pattern = r\"\\s\\w{1,3}\\s\" </code></pre>\n",
    "</details>"
   ]
  },
  {
   "cell_type": "code",
   "execution_count": null,
   "id": "c01e9082-260b-48a7-9dea-420d2d24a50b",
   "metadata": {
    "tags": []
   },
   "outputs": [],
   "source": [
    "# TODO: Replace the following with your own regex\n",
    "no_numbers_pattern = r\"\" \n",
    "\n",
    "print(re.findall(no_numbers_pattern, \" hello hell0 123 coo1 easy 3ASY \"))"
   ]
  },
  {
   "cell_type": "markdown",
   "id": "58e41a88-362a-4624-bfbb-35293e95d480",
   "metadata": {
    "deletable": false,
    "editable": false,
    "tags": []
   },
   "source": [
    "#### **Exercise 4**\n",
    "Use a regex to extract all of the names in the following text, where names start with an uppercase letter and only contain letters.\n",
    "\n",
    "<details>\n",
    "  <summary>Show answer</summary>\n",
    "      <pre style=\"background-color: honeydew; padding: 10px; border-radius: 5px;\"><code style=\"background: none;\">name_regex = r\"[A-Z][a-z]+\"\n",
    "print(re.findall(name_regex, text))</code></pre>\n",
    "</details>"
   ]
  },
  {
   "cell_type": "code",
   "execution_count": null,
   "id": "a8d77f5c-9742-45a0-a477-07abaad19182",
   "metadata": {
    "tags": []
   },
   "outputs": [],
   "source": [
    "text = \"Sarah told Ally and Michael that Henry was coming to her party with Chris\"\n",
    "\n",
    "# TODO: Extract all of the names using a regex and findall\n"
   ]
  },
  {
   "cell_type": "markdown",
   "id": "686761bb-9e0d-4544-bfaf-5c0ffc56b4a6",
   "metadata": {},
   "source": [
    "## **Conclusion**\n",
    "In this lesson, we learned about using regular expressions to parse text.\n",
    "- Using metacharacters like `+` and `*` to match a particular number of characters\n",
    "- Using special sequences like `\\d` and `\\w` to match common types of symbols\n",
    "- Using sets like `[A-Z]` to match one of several possible characters\n",
    "\n",
    "Regular expressions are an incredibly useful tool for language processing, although their syntax can be intimidating. The best way to get comfortable using regexes is by creating and testing them yourself. You can use tools such as [regex101](https://regex101.com) to try out regexes with live updates.\n",
    "\n",
    "Next, we'll take a look at using machine learning tools in Python.\n",
    "\n",
    "[Next Lesson](<./10. Machine Learning.ipynb>)"
   ]
  },
  {
   "cell_type": "code",
   "execution_count": null,
   "id": "581ad277-4153-4739-9d02-722d9dee1a3f",
   "metadata": {
    "deletable": false,
    "editable": false,
    "tags": []
   },
   "outputs": [],
   "source": []
  }
 ],
 "metadata": {
  "kernelspec": {
   "display_name": "Python 3 (ipykernel)",
   "language": "python",
   "name": "python3"
  },
  "language_info": {
   "codemirror_mode": {
    "name": "ipython",
    "version": 3
   },
   "file_extension": ".py",
   "mimetype": "text/x-python",
   "name": "python",
   "nbconvert_exporter": "python",
   "pygments_lexer": "ipython3",
   "version": "3.10.6"
  }
 },
 "nbformat": 4,
 "nbformat_minor": 5
}
