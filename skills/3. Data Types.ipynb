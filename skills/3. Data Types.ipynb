{
 "cells": [
  {
   "cell_type": "markdown",
   "id": "aa6b6dcd-4447-4d4c-9abe-0ba36ebecf5d",
   "metadata": {
    "deletable": false,
    "editable": false,
    "tags": []
   },
   "source": [
    "# **Data Types**\n",
    "Now that you know a little bit about how Python works, let's take a closer look at the types of data Python variables can handle.\n",
    "\n",
    "## **Integers**\n",
    "You've already seen an example of integer (whole number) variables in Python."
   ]
  },
  {
   "cell_type": "code",
   "execution_count": 1,
   "id": "0f254f19-5e8c-40cc-a69a-afa328918144",
   "metadata": {
    "tags": []
   },
   "outputs": [],
   "source": [
    "my_int = 3"
   ]
  },
  {
   "cell_type": "markdown",
   "id": "91ef9f81-5191-44ad-bbb0-35efc882694c",
   "metadata": {
    "deletable": false,
    "editable": false,
    "tags": []
   },
   "source": [
    "Integers can be added, subtracted, multiplied, and divided."
   ]
  },
  {
   "cell_type": "code",
   "execution_count": 7,
   "id": "789b2736-10d5-4689-ab89-8cc03b98657c",
   "metadata": {
    "tags": []
   },
   "outputs": [
    {
     "name": "stdout",
     "output_type": "stream",
     "text": [
      "6\n",
      "-2\n",
      "9\n",
      "1.5\n"
     ]
    }
   ],
   "source": [
    "print(my_int + 3)\n",
    "print(my_int - 5)\n",
    "print(my_int * 3)\n",
    "print(my_int / 2)"
   ]
  },
  {
   "cell_type": "markdown",
   "id": "92136898-a831-43f5-b492-3c7b8572d076",
   "metadata": {
    "deletable": false,
    "editable": false,
    "tags": []
   },
   "source": [
    "Another common type of operator we can use is the **equality-assignment operators**."
   ]
  },
  {
   "cell_type": "code",
   "execution_count": 8,
   "id": "3e4c3cf9-6206-4706-a993-d0af2411f622",
   "metadata": {
    "tags": []
   },
   "outputs": [
    {
     "name": "stdout",
     "output_type": "stream",
     "text": [
      "5\n"
     ]
    }
   ],
   "source": [
    "my_int = 3\n",
    "\n",
    "# This is the same as writing my_int = my_int + 2\n",
    "my_int += 2\n",
    "\n",
    "print(my_int)"
   ]
  },
  {
   "cell_type": "markdown",
   "id": "35634fd4-c697-4b6d-989b-3cf8eb96870a",
   "metadata": {
    "deletable": false,
    "editable": false,
    "tags": []
   },
   "source": [
    "## **Floats**\n",
    "Floats hold numbers that include decimals. They support the same operations as integers."
   ]
  },
  {
   "cell_type": "code",
   "execution_count": 3,
   "id": "574f3ec9-0f0d-4cff-a86d-8efeeac844c8",
   "metadata": {
    "tags": []
   },
   "outputs": [
    {
     "name": "stdout",
     "output_type": "stream",
     "text": [
      "6.14159\n",
      "-1.8584100000000001\n",
      "9.424769999999999\n",
      "1.570795\n"
     ]
    }
   ],
   "source": [
    "my_float = 3.14159\n",
    "\n",
    "print(my_float + 3)\n",
    "print(my_float - 5)\n",
    "print(my_float * 3)\n",
    "print(my_float / 2)"
   ]
  },
  {
   "cell_type": "markdown",
   "id": "341d5009-795f-4675-b480-b82f1b47195a",
   "metadata": {
    "deletable": false,
    "editable": false,
    "tags": []
   },
   "source": [
    "## **Booleans**\n",
    "\n",
    "Boolean variables hold a value that is either true or false. "
   ]
  },
  {
   "cell_type": "code",
   "execution_count": 4,
   "id": "2b813bf4-be4c-4aa6-9b54-f769c7d4caa3",
   "metadata": {
    "tags": []
   },
   "outputs": [
    {
     "name": "stdout",
     "output_type": "stream",
     "text": [
      "True\n",
      "False\n"
     ]
    }
   ],
   "source": [
    "my_bool = True\n",
    "\n",
    "print(my_bool)\n",
    "print(not my_bool)"
   ]
  },
  {
   "cell_type": "markdown",
   "id": "ca2df244-a995-4f72-b8a2-913f7a9bb40b",
   "metadata": {
    "deletable": false,
    "editable": false,
    "tags": []
   },
   "source": [
    "Boolean variables often come up as the result of a **conditional statement**."
   ]
  },
  {
   "cell_type": "code",
   "execution_count": 6,
   "id": "ae9b0381-9805-416c-ada0-c2c71974830b",
   "metadata": {
    "tags": []
   },
   "outputs": [
    {
     "name": "stdout",
     "output_type": "stream",
     "text": [
      "True\n",
      "False\n"
     ]
    }
   ],
   "source": [
    "my_bool = 3 > 2\n",
    "print(my_bool)\n",
    "\n",
    "my_bool = 3 < 2\n",
    "print(my_bool)"
   ]
  },
  {
   "cell_type": "markdown",
   "id": "99fe36f3-1a88-4f83-b464-369b16f0622a",
   "metadata": {
    "deletable": false,
    "editable": false,
    "tags": []
   },
   "source": [
    "## **Strings**\n",
    "Strings hold text and can be marked with either a single quote (') or double quote (\")."
   ]
  },
  {
   "cell_type": "code",
   "execution_count": 9,
   "id": "fe063a84-7e58-418a-bdbe-5fd6df05b31d",
   "metadata": {
    "tags": []
   },
   "outputs": [
    {
     "name": "stdout",
     "output_type": "stream",
     "text": [
      "Hello, world!\n",
      "Hello, world! How are you doing today?\n"
     ]
    }
   ],
   "source": [
    "my_string = \"Hello, world!\"\n",
    "print(my_string)\n",
    "\n",
    "my_string += \" How are you doing today?\"\n",
    "print(my_string)"
   ]
  },
  {
   "cell_type": "markdown",
   "id": "bdcc23c0-7bb4-475f-998b-04be3949d5fa",
   "metadata": {
    "deletable": false,
    "editable": false,
    "tags": []
   },
   "source": [
    "## **Lists**\n",
    "Lists hold several values in a single variable."
   ]
  },
  {
   "cell_type": "code",
   "execution_count": 11,
   "id": "a480dc94-ff32-4507-b079-fe35029cc8fa",
   "metadata": {
    "tags": []
   },
   "outputs": [
    {
     "name": "stdout",
     "output_type": "stream",
     "text": [
      "[1, 2, 4]\n",
      "[1, 2, 4, 5]\n",
      "[1, 2, 4, 5, 'hi']\n"
     ]
    }
   ],
   "source": [
    "my_list = [1, 2, 4]\n",
    "print(my_list)\n",
    "\n",
    "my_list.append(5)\n",
    "print(my_list)\n",
    "\n",
    "my_list.append(\"hi\")\n",
    "print(my_list)"
   ]
  },
  {
   "cell_type": "markdown",
   "id": "0ee0f13f-6cbd-4a99-a366-2de0b5f40d3a",
   "metadata": {
    "deletable": false,
    "editable": false,
    "tags": []
   },
   "source": [
    "#### **Exercise 1**\n",
    "Create a list containing an integer, a float, and a string.\n",
    "\n",
    "<details>\n",
    "  <summary>Show answer</summary>\n",
    "      <pre style=\"background-color: honeydew; padding: 10px; border-radius: 5px;\"><code style=\"background: none;\">my_list = [1, 1.01, \"hello\"]</code></pre>\n",
    "</details>"
   ]
  },
  {
   "cell_type": "code",
   "execution_count": 12,
   "id": "77760776-2b2f-47d6-8521-26dbcb33ee8e",
   "metadata": {
    "tags": []
   },
   "outputs": [],
   "source": [
    "# TODO: Exercise 1"
   ]
  },
  {
   "cell_type": "markdown",
   "id": "362fdfff-4e0f-44fa-b531-54cc944437a1",
   "metadata": {
    "deletable": false,
    "editable": false,
    "tags": []
   },
   "source": [
    "## **Summary**\n",
    "In this lesson we learned about the main data types in Python. \n",
    "\n",
    "- Integers, for whole numbers\n",
    "- Floats, for decimal numbers\n",
    "- Strings, for text\n",
    "- Lists, for collections of values\n",
    "\n",
    "To see a complete list of data types, refer to the [W3Schools Tutorial](https://www.w3schools.com/python/python_datatypes.asp). \n",
    "\n",
    "Next, we'll learn more about structures for control flow and logic in our programs.\n",
    "\n",
    "[Next Lesson](<./4. Logical Structures.ipynb>)"
   ]
  },
  {
   "cell_type": "code",
   "execution_count": null,
   "id": "88e2aef1-6c59-402f-9830-02bb37f3e058",
   "metadata": {},
   "outputs": [],
   "source": []
  }
 ],
 "metadata": {
  "kernelspec": {
   "display_name": "Python 3 (ipykernel)",
   "language": "python",
   "name": "python3"
  },
  "language_info": {
   "codemirror_mode": {
    "name": "ipython",
    "version": 3
   },
   "file_extension": ".py",
   "mimetype": "text/x-python",
   "name": "python",
   "nbconvert_exporter": "python",
   "pygments_lexer": "ipython3",
   "version": "3.10.6"
  }
 },
 "nbformat": 4,
 "nbformat_minor": 5
}
