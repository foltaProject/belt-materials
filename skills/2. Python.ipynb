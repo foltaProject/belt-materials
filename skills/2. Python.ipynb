{
 "cells": [
  {
   "cell_type": "markdown",
   "id": "37243115-4963-412e-8c6f-80ecedde36dc",
   "metadata": {
    "deletable": false,
    "editable": false,
    "tags": []
   },
   "source": [
    "# **Introduction to Python**\n",
    "Welcome to your first skill lesson! In this skill, we will cover a brief overview of Python, assuming you have no programming experience.\n",
    "\n",
    "## **The Python Language**\n",
    "[Python](https://www.python.org) is a popular programming language used in both scientific contexts and software development. This makes Python a great choice for building language technology, since it combines powerful tools for analyzing data (like R or Matlab) with frameworks for building actual, deployable applications (like C or Java).\n",
    "\n",
    "<div class=\"alert alert-block alert-info\">\n",
    "    Most industry-standard language applications, like Microsoft Word, don't run on Python for a variety of reasons. However, we believe that in the context of low-resource language development, Python is the best way to get off the ground fast with usable apps.\n",
    "</div>\n",
    "\n",
    "Let's take a look at how Python works."
   ]
  },
  {
   "cell_type": "markdown",
   "id": "3fa4db0d-9a37-464e-9175-da217fdec437",
   "metadata": {
    "deletable": false,
    "editable": false,
    "tags": []
   },
   "source": [
    "### Code execution\n",
    "Like most programming languages, Python executes code line-by-line, in the order that you write it. For instance, the following cell will print out three names in the order they were written."
   ]
  },
  {
   "cell_type": "code",
   "execution_count": null,
   "id": "cc6378ed-6d1b-4e4a-83f7-b86d7577bb4b",
   "metadata": {
    "tags": []
   },
   "outputs": [],
   "source": [
    "print(\"Adam\")\n",
    "print(\"Beth\")\n",
    "print(\"Charlie\")"
   ]
  },
  {
   "cell_type": "markdown",
   "id": "1df61f99-8032-4905-9a32-09a2cc7a8f78",
   "metadata": {
    "deletable": false,
    "editable": false,
    "tags": []
   },
   "source": [
    "### Comments\n",
    "A comment is a bit of text that doesn't affect the code, denoted by the `#` symbol. We will use comments to explain lines of code."
   ]
  },
  {
   "cell_type": "code",
   "execution_count": null,
   "id": "0f743101-099e-4186-b317-45b363b659f4",
   "metadata": {
    "tags": []
   },
   "outputs": [],
   "source": [
    "# Hi, I'm a comment\n",
    "# I don't affect the code at all\n",
    "# I can have as many of these as I want\n",
    "print(\"Hi\")"
   ]
  },
  {
   "cell_type": "markdown",
   "id": "e268abcc-41be-4f6c-92d6-8804d751a89d",
   "metadata": {
    "deletable": false,
    "editable": false,
    "tags": []
   },
   "source": [
    "## **Variables**\n",
    "Python uses **variables** to store values. For instance, the following code creates a variable named `name` and assigns it the value \"Michael\"."
   ]
  },
  {
   "cell_type": "code",
   "execution_count": null,
   "id": "fab2a04e-44e1-444e-84af-3fcc0bad7a8f",
   "metadata": {
    "tags": []
   },
   "outputs": [],
   "source": [
    "name = \"Michael\""
   ]
  },
  {
   "cell_type": "markdown",
   "id": "e242e30c-b0bb-47d2-88da-ef77f284d0b2",
   "metadata": {
    "deletable": false,
    "editable": false,
    "tags": []
   },
   "source": [
    "Now, we can access that variable, and the value will be the same."
   ]
  },
  {
   "cell_type": "code",
   "execution_count": null,
   "id": "465183ec-38cf-4479-a3de-8051aac8b68c",
   "metadata": {
    "tags": []
   },
   "outputs": [],
   "source": [
    "print(name)"
   ]
  },
  {
   "cell_type": "markdown",
   "id": "7cae5aca-5bda-48b7-9606-e96eb7ccd3e1",
   "metadata": {
    "deletable": false,
    "editable": false,
    "tags": []
   },
   "source": [
    "We can also change the value of the variable if we like:"
   ]
  },
  {
   "cell_type": "code",
   "execution_count": null,
   "id": "65209f9d-e84c-4728-addc-fddf86b4a73f",
   "metadata": {
    "tags": []
   },
   "outputs": [],
   "source": [
    "name = \"John\"\n",
    "print(name)"
   ]
  },
  {
   "cell_type": "markdown",
   "id": "79639d4a-e282-418d-82d2-3a69c2ccf687",
   "metadata": {
    "deletable": false,
    "editable": false,
    "tags": []
   },
   "source": [
    "Variables can hold values of many different types. You'll learn more about the different types of values in **Data Types**.\n",
    "\n",
    "<div class=\"alert alert-block alert-info\">\n",
    "    In Python, it is standard to name variables with <b>snake case</b>, which uses all lowercase letters and underscores between words.\n",
    "</div>"
   ]
  },
  {
   "cell_type": "code",
   "execution_count": null,
   "id": "c37c53e8-826f-4f3b-91b5-aafbe37a8760",
   "metadata": {
    "tags": []
   },
   "outputs": [],
   "source": [
    "number = 5\n",
    "decimal_number = 5.01\n",
    "list_of_numbers = [1, 2, 3]\n",
    "\n",
    "print(number)\n",
    "print(decimal_number)\n",
    "print(list_of_numbers)"
   ]
  },
  {
   "cell_type": "markdown",
   "id": "20b8718f-c6bf-4564-8cea-a16ffe630ddb",
   "metadata": {
    "deletable": false,
    "editable": false,
    "tags": []
   },
   "source": [
    "We can perform operations on variables, such as adding (for numbers) or concatenating (for strings)."
   ]
  },
  {
   "cell_type": "code",
   "execution_count": null,
   "id": "05269998-3e11-454d-a0c1-80ae19715079",
   "metadata": {
    "tags": []
   },
   "outputs": [],
   "source": [
    "number_a = 1\n",
    "number_b = 2\n",
    "\n",
    "print(number_a + number_b)\n",
    "\n",
    "str_a = \"hello \"\n",
    "str_b = \"world\"\n",
    "\n",
    "print(str_a + str_b)"
   ]
  },
  {
   "cell_type": "markdown",
   "id": "b5e82eae-4a98-451f-b46b-950da54c9449",
   "metadata": {
    "deletable": false,
    "editable": false,
    "tags": []
   },
   "source": [
    "#### **Exercise 1**\n",
    "Create a variable called `my_name` and assign it a string containing your name. Then, print that variable.\n",
    "\n",
    "<details>\n",
    "  <summary>Show answer</summary>\n",
    "      <pre style=\"background-color: honeydew; padding: 10px; border-radius: 5px;\"><code style=\"background: none;\">my_name = \"Michael\"\n",
    "print(my_name)</code></pre>\n",
    "</details>"
   ]
  },
  {
   "cell_type": "code",
   "execution_count": null,
   "id": "79e44089-e250-40db-b5d5-81e8941082d8",
   "metadata": {
    "tags": []
   },
   "outputs": [],
   "source": [
    "# TODO: Exercise 1"
   ]
  },
  {
   "cell_type": "markdown",
   "id": "b86745ed-b789-4a98-97ce-bdb2137c1990",
   "metadata": {
    "deletable": false,
    "editable": false,
    "tags": []
   },
   "source": [
    "Variables will keep their value between cells, but not between Jupyter sessions–if you close the notebook, your variables will be deleted.\n",
    "\n",
    "***"
   ]
  },
  {
   "cell_type": "markdown",
   "id": "a28a1370-1e80-42f4-9ac2-9b61618c32d7",
   "metadata": {
    "deletable": false,
    "editable": false,
    "tags": []
   },
   "source": [
    "## **Functions**\n",
    "A key component of most programming language is creating **functions**. A function defines a block of code that you want to reuse multiple times. For instance, suppose we wanted to make a program that calculates the square of a bunch of numbers. We could do this:"
   ]
  },
  {
   "cell_type": "code",
   "execution_count": null,
   "id": "1f575cc1-f60c-450d-af18-a1123f4cb7b7",
   "metadata": {
    "tags": []
   },
   "outputs": [],
   "source": [
    "a = 1\n",
    "b = 2\n",
    "c = 3\n",
    "d = 4\n",
    "\n",
    "print(a * a)\n",
    "print(b * b)\n",
    "print(c * c)\n",
    "print(d * d)"
   ]
  },
  {
   "cell_type": "markdown",
   "id": "1a4a21f7-9562-41e6-a2c7-799c41c4edd3",
   "metadata": {
    "deletable": false,
    "editable": false,
    "tags": []
   },
   "source": [
    "But this is a little redundant. Instead, we can create a function that takes a number and returns the square of that number:"
   ]
  },
  {
   "cell_type": "code",
   "execution_count": null,
   "id": "8e9b18e1-d216-4977-aa90-83ff7702f8c7",
   "metadata": {
    "tags": []
   },
   "outputs": [],
   "source": [
    "def calculate_square(number):\n",
    "    return number * number\n",
    "\n",
    "print(calculate_square(a))\n",
    "print(calculate_square(b))\n",
    "print(calculate_square(c))\n",
    "print(calculate_square(d))"
   ]
  },
  {
   "cell_type": "markdown",
   "id": "adfc00eb-13d6-4b96-ba40-5f2f8176e446",
   "metadata": {
    "deletable": false,
    "editable": false,
    "tags": []
   },
   "source": [
    "Here, we've created a function named `calculate_square` that takes a single parameters named `number`. The function **returns** a value using the `return` keyword.\n",
    "\n",
    "Notice how Python uses indentation to indicate structure. The code within the function is indented using a single tab character. Later on, we will see other structures that require indentation.\n",
    "\n",
    "Functions don't have to have parameters:"
   ]
  },
  {
   "cell_type": "code",
   "execution_count": null,
   "id": "019eff59-e316-43cc-ba87-03b54e213262",
   "metadata": {
    "tags": []
   },
   "outputs": [],
   "source": [
    "def return_my_name():\n",
    "    return \"Michael\"\n",
    "\n",
    "print(return_my_name())"
   ]
  },
  {
   "cell_type": "markdown",
   "id": "8f73b52b-d7bb-4320-9ee4-e0c71a8bb84e",
   "metadata": {
    "deletable": false,
    "editable": false,
    "tags": []
   },
   "source": [
    "Functions can also take multiple parameters:"
   ]
  },
  {
   "cell_type": "code",
   "execution_count": null,
   "id": "f79d39d2-a458-46ef-be3b-998cbb09001e",
   "metadata": {
    "tags": []
   },
   "outputs": [],
   "source": [
    "def add_numbers(a, b, c):\n",
    "    return a + b + c\n",
    "\n",
    "print(add_numbers(1, 2, 3))"
   ]
  },
  {
   "cell_type": "markdown",
   "id": "af658421-d246-4493-aace-3a6227b8ee99",
   "metadata": {
    "deletable": false,
    "editable": false,
    "tags": []
   },
   "source": [
    "Functions also don't have to have a return value:"
   ]
  },
  {
   "cell_type": "code",
   "execution_count": null,
   "id": "4003a886-1f5f-401e-8d5e-de0f7ea18701",
   "metadata": {
    "tags": []
   },
   "outputs": [],
   "source": [
    "def print_greeting(name):\n",
    "    print(\"Hello, \", name)\n",
    "    \n",
    "print_greeting(\"Michael\")"
   ]
  },
  {
   "cell_type": "markdown",
   "id": "a7316f32-05d5-4311-bdaf-fb0edbefe919",
   "metadata": {
    "deletable": false,
    "editable": false,
    "tags": []
   },
   "source": [
    "#### **Exercise 2**\n",
    "Create a function called `concatenate` that takes three strings, concatenates them together, and returns that string. For example, calling \n",
    "\n",
    "```python\n",
    "concatenate(\"Hello, \", \"how are you doing, \", \"Jane?\")\n",
    "``` \n",
    "\n",
    "should return `\"Hello, how are you doing, Jane?\"`\n",
    "\n",
    "<details>\n",
    "  <summary>Show answer</summary>\n",
    "      <pre style=\"background-color: honeydew; padding: 10px; border-radius: 5px;\"><code style=\"background: none;\">def concatenate(str1, str2, str3):\n",
    "    return str1 + str2 + str3</code></pre>\n",
    "</details>"
   ]
  },
  {
   "cell_type": "code",
   "execution_count": null,
   "id": "9365481e-07f2-4263-b6a3-ccff63372f6c",
   "metadata": {
    "tags": []
   },
   "outputs": [],
   "source": [
    "# TODO: Create your function here:\n",
    "\n",
    "\n",
    "print(concatenate(\"Hello\", \"how are you doing, \", \"Jane?\"))"
   ]
  },
  {
   "cell_type": "markdown",
   "id": "06cdc547-e580-499d-a163-4737ad83ab4c",
   "metadata": {
    "deletable": false,
    "editable": false,
    "tags": []
   },
   "source": [
    "Although these functions are very simple, we will start to see more and more complicated functions. For instance, when we build a spellchecker, we might have a function that spellchecks a block of text and returns the mispelled words.\n",
    "\n",
    "***"
   ]
  },
  {
   "cell_type": "markdown",
   "id": "c8dc5d4f-2eb9-4b41-9e23-1af29b926c4c",
   "metadata": {
    "deletable": false,
    "editable": false,
    "tags": []
   },
   "source": [
    "## **Using Python Modules**\n",
    "A key benefit of Python is the ability to use **modules**, which contain code other people have written. There are Python modules for a huge range of tasks, including manipulating text, performing math computations, and even building advanced machine learning systems.\n",
    "\n",
    "To use a module, we simply `import` it."
   ]
  },
  {
   "cell_type": "code",
   "execution_count": null,
   "id": "5023617a-71e5-40ae-8d8e-9ec641b829de",
   "metadata": {
    "tags": []
   },
   "outputs": [],
   "source": [
    "import math\n",
    "\n",
    "# Calculates the square root\n",
    "print(math.sqrt(4))"
   ]
  },
  {
   "cell_type": "markdown",
   "id": "e65fc0cc-d0a8-41a4-887d-3d6934b017ea",
   "metadata": {
    "deletable": false,
    "editable": false,
    "tags": []
   },
   "source": [
    "Here, we have imported the `sqrt` function from the `math` module, which calculates the square root. If we only want to use this function, we can import it directly by doing:"
   ]
  },
  {
   "cell_type": "code",
   "execution_count": null,
   "id": "707ce61c-26cb-4684-8827-1303628df1e1",
   "metadata": {
    "tags": []
   },
   "outputs": [],
   "source": [
    "from math import sqrt\n",
    "\n",
    "print(sqrt(4))"
   ]
  },
  {
   "cell_type": "markdown",
   "id": "d6d8f98c-a491-48fa-987d-ed82a86fa38a",
   "metadata": {},
   "source": [
    "We can also change the name of an imported package. We might do this to make the name shorter."
   ]
  },
  {
   "cell_type": "code",
   "execution_count": null,
   "id": "0f632aa4-4d5a-41c7-a17e-6fe29812a3d7",
   "metadata": {
    "tags": []
   },
   "outputs": [],
   "source": [
    "import math as m\n",
    "\n",
    "print(m.sqrt(4))"
   ]
  },
  {
   "cell_type": "markdown",
   "id": "3c20452c-2c5f-40da-a3a3-9f2cbeb76646",
   "metadata": {
    "deletable": false,
    "editable": false,
    "tags": []
   },
   "source": [
    "Our Python environment comes with a variety of modules preinstalled such as `math`, `random`, and `re`. We've also installed a number of third-party packages, which you can see using the following command:"
   ]
  },
  {
   "cell_type": "code",
   "execution_count": null,
   "id": "f4531a91-2cf7-4677-bde2-caf5bf9cb222",
   "metadata": {
    "tags": []
   },
   "outputs": [],
   "source": [
    "%pip list"
   ]
  },
  {
   "cell_type": "markdown",
   "id": "a60a180b-e85f-4326-a079-082f2e383f71",
   "metadata": {
    "deletable": false,
    "editable": false,
    "tags": []
   },
   "source": [
    "Python modules can often save you lots of work, so it's always a good idea to check them out when you need some function.\n",
    "\n",
    "#### **Exercise 3**\n",
    "Import the `random` module and use it to print a random integer between 1 and 10. Refer to https://docs.python.org/3/library/random.html for information on what functions are available.\n",
    "\n",
    "<details>\n",
    "  <summary>Show answer</summary>\n",
    "      <pre style=\"background-color: honeydew; padding: 10px; border-radius: 5px;\"><code style=\"background: none;\">import random\n",
    "print(random.randint(1, 10))</code></pre>\n",
    "</details>"
   ]
  },
  {
   "cell_type": "code",
   "execution_count": null,
   "id": "64e3e48c-76e4-4d0c-aa4f-fae49ce642f0",
   "metadata": {
    "tags": []
   },
   "outputs": [],
   "source": [
    "# TODO: Print a random integer between 1 and 10"
   ]
  },
  {
   "cell_type": "markdown",
   "id": "cf28150b-721f-447c-b849-6bc2e0890940",
   "metadata": {
    "deletable": false,
    "editable": true,
    "tags": []
   },
   "source": [
    "## **Summary**\n",
    "In this lesson, we covered a variety of Python basics.\n",
    "- Comments, used to annotate code without affecting it\n",
    "- Variables, which hold values\n",
    "- Functions, used to write reusable blocks of code\n",
    "- Importing modules, to use pre-existing Python tools and frameworks\n",
    "\n",
    "Next, we'll learn more about the types of values that can be used in variables."
   ]
  },
  {
   "cell_type": "code",
   "execution_count": null,
   "id": "5b3fa8db-e598-4030-ad7d-da5d5e22cae6",
   "metadata": {},
   "outputs": [],
   "source": []
  }
 ],
 "metadata": {
  "kernelspec": {
   "display_name": "Python 3 (ipykernel)",
   "language": "python",
   "name": "python3"
  },
  "language_info": {
   "codemirror_mode": {
    "name": "ipython",
    "version": 3
   },
   "file_extension": ".py",
   "mimetype": "text/x-python",
   "name": "python",
   "nbconvert_exporter": "python",
   "pygments_lexer": "ipython3",
   "version": "3.10.6"
  }
 },
 "nbformat": 4,
 "nbformat_minor": 5
}
