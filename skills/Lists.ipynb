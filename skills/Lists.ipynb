{
 "cells": [
  {
   "cell_type": "markdown",
   "id": "39e849fa-fd04-4dfb-8ebd-2e7252a04711",
   "metadata": {},
   "source": [
    "# **Working with Lists**\n",
    "Lists are the data type used to store a collection of values. Lists can hold any types of values, and you can even mix and match."
   ]
  },
  {
   "cell_type": "code",
   "execution_count": null,
   "id": "81076623-bf2f-475f-888e-8d61ea1d59e0",
   "metadata": {
    "tags": []
   },
   "outputs": [],
   "source": [
    "my_list = [42, \"a\", 3.3]\n",
    "print(my_list)"
   ]
  },
  {
   "cell_type": "markdown",
   "id": "e6f590bd-c171-4ebf-b479-ebdcc0e37cfd",
   "metadata": {},
   "source": [
    "### Length\n",
    "We can get the number of items in a list using the `len` function."
   ]
  },
  {
   "cell_type": "code",
   "execution_count": null,
   "id": "009a5794-036a-4aab-a1b7-51428962c6de",
   "metadata": {
    "tags": []
   },
   "outputs": [],
   "source": [
    "print(len(my_list))"
   ]
  },
  {
   "cell_type": "markdown",
   "id": "2a69f1ba-07b4-4d5a-86c2-3befc097e9c4",
   "metadata": {},
   "source": [
    "### Accessing items\n",
    "We can access an item at a particular position using the indexing notation:"
   ]
  },
  {
   "cell_type": "code",
   "execution_count": null,
   "id": "3c908530-aa35-4bad-a451-b92f78675532",
   "metadata": {
    "tags": []
   },
   "outputs": [],
   "source": [
    "print(my_list[2])"
   ]
  },
  {
   "cell_type": "markdown",
   "id": "6fc52d51-60f7-4e12-a04f-4690bb47252e",
   "metadata": {},
   "source": [
    "Notice that list indices start at 0, not 1, so the first item is accessed as follows:"
   ]
  },
  {
   "cell_type": "code",
   "execution_count": null,
   "id": "013c9528-b458-409c-8fcd-c776adce460a",
   "metadata": {
    "tags": []
   },
   "outputs": [],
   "source": [
    "print(my_list[0])"
   ]
  },
  {
   "cell_type": "markdown",
   "id": "2f1fa496-bc9c-431e-8fb0-45bcbd4f1d24",
   "metadata": {},
   "source": [
    "If we try to access a position that isn't in the list, we'll get an error."
   ]
  },
  {
   "cell_type": "code",
   "execution_count": null,
   "id": "43a77881-ecb5-4ffc-b7f8-f1a654974eb2",
   "metadata": {
    "tags": []
   },
   "outputs": [],
   "source": [
    "print(my_list[5])"
   ]
  },
  {
   "cell_type": "markdown",
   "id": "03ff6dc7-ebc3-4c98-b6f5-06698bf82ae9",
   "metadata": {},
   "source": [
    "### List slicing\n",
    "\n",
    "We can also access a *range* of values in the list by specifying a **slice** of indices:"
   ]
  },
  {
   "cell_type": "code",
   "execution_count": null,
   "id": "6b69ea09-185e-4983-9c67-6d8b9ab785ee",
   "metadata": {
    "tags": []
   },
   "outputs": [],
   "source": [
    "my_list = ['a', 'b', 'c', 'd', 'e']\n",
    "\n",
    "print(my_list[1:3])"
   ]
  },
  {
   "cell_type": "markdown",
   "id": "da098313-6fef-4e3d-84ae-652e2f7d37f4",
   "metadata": {},
   "source": [
    "The slice takes the form\n",
    "\n",
    "```python\n",
    "list[start:stop:increment]\n",
    "```\n",
    "\n",
    "But we can omit any of these values. For instance, we can select all values up to the 2nd position by doing:"
   ]
  },
  {
   "cell_type": "code",
   "execution_count": null,
   "id": "b09b270d-bfca-407c-8116-7631b38c474e",
   "metadata": {
    "tags": []
   },
   "outputs": [],
   "source": [
    "print(my_list[:2])"
   ]
  },
  {
   "cell_type": "markdown",
   "id": "5bca0b14-2c21-4a14-821d-14d2f9ff04ee",
   "metadata": {
    "tags": []
   },
   "source": [
    "Some more examples:"
   ]
  },
  {
   "cell_type": "code",
   "execution_count": null,
   "id": "bad802c9-29fc-49ff-96d1-f2c69b2d670a",
   "metadata": {
    "tags": []
   },
   "outputs": [],
   "source": [
    "# Print from the second item onward\n",
    "print(my_list[1:])\n",
    "\n",
    "# Print in reverse order\n",
    "print(my_list[::-1])\n",
    "\n",
    "# Print skipping every other index\n",
    "print(my_list[::2])"
   ]
  },
  {
   "cell_type": "markdown",
   "id": "848540db-22e7-4d61-a3bd-c815fba57268",
   "metadata": {},
   "source": [
    "### Adding and removing items\n",
    "\n",
    "We can add items to the end of a list using the `append` method."
   ]
  },
  {
   "cell_type": "code",
   "execution_count": null,
   "id": "7f907315-352a-432b-ae1a-6a1d33550062",
   "metadata": {
    "tags": []
   },
   "outputs": [],
   "source": [
    "my_list = [1, 2, 3]\n",
    "my_list.append(4)\n",
    "print(my_list)"
   ]
  },
  {
   "cell_type": "markdown",
   "id": "64ecbab8-381a-43b7-ad8d-281f9172b418",
   "metadata": {
    "tags": []
   },
   "source": [
    "We can also add items at a particular index using the `insert` method."
   ]
  },
  {
   "cell_type": "code",
   "execution_count": null,
   "id": "163a7184-2b04-4871-abfe-7cfb79fc2a35",
   "metadata": {
    "tags": []
   },
   "outputs": [],
   "source": [
    "my_list = [1, 2, 3]\n",
    "\n",
    "# Insert 4 at position 0\n",
    "my_list.insert(0, 4)\n",
    "\n",
    "print(my_list)"
   ]
  },
  {
   "cell_type": "markdown",
   "id": "533d05e1-55e4-4cdd-86b8-f9a231e9ada7",
   "metadata": {},
   "source": [
    "We can remove list items using `remove`."
   ]
  },
  {
   "cell_type": "code",
   "execution_count": null,
   "id": "c3515ef0-acb2-4153-8a8c-ddc7594c7352",
   "metadata": {
    "tags": []
   },
   "outputs": [],
   "source": [
    "my_list = [1, 2, 3]\n",
    "my_list.remove(2)\n",
    "print(my_list)"
   ]
  },
  {
   "cell_type": "markdown",
   "id": "c76fcc9a-e6d7-4b5c-8d25-cb64a5c1c69b",
   "metadata": {
    "tags": []
   },
   "source": [
    "### Combining lists\n",
    "We can combine two lists using the `+` operator."
   ]
  },
  {
   "cell_type": "code",
   "execution_count": null,
   "id": "fca02985-baec-404b-8c99-59dff6cf929c",
   "metadata": {
    "tags": []
   },
   "outputs": [],
   "source": [
    "list1 = [1, 3]\n",
    "list2 = [4, 6]\n",
    "\n",
    "print(list1 + list2)"
   ]
  },
  {
   "cell_type": "markdown",
   "id": "cde0cf69-3dbd-4951-a3a9-dcbe952f22ca",
   "metadata": {},
   "source": [
    "### List functions \n",
    "A number of functions exist for manipulating lists. One helpful function automatically sorts a list (in numerical or alphabetical order)."
   ]
  },
  {
   "cell_type": "code",
   "execution_count": null,
   "id": "8dfb9cb8-79b6-4ef9-bc83-c8fd25b8b1ca",
   "metadata": {
    "tags": []
   },
   "outputs": [],
   "source": [
    "my_list = ['a', 'c', 'b']\n",
    "\n",
    "print(sorted(my_list))"
   ]
  },
  {
   "cell_type": "markdown",
   "id": "b7639c1a-123a-41f0-80ee-73ea7ef7af09",
   "metadata": {},
   "source": [
    "Another helpful function is `sum`, which calculates the sum of all the items in this list."
   ]
  },
  {
   "cell_type": "code",
   "execution_count": null,
   "id": "64b52d9d-9048-4996-a95a-ea560d12d160",
   "metadata": {
    "tags": []
   },
   "outputs": [],
   "source": [
    "my_list = [1, 2, 5]\n",
    "print(sum(my_list))"
   ]
  },
  {
   "cell_type": "markdown",
   "id": "c49cbeb6-beba-48a3-be9a-cbd9bb22b147",
   "metadata": {},
   "source": [
    "### Checking if an item is in a list\n",
    "Finally, we can easily check if an item is in a list using the `in` keyword."
   ]
  },
  {
   "cell_type": "code",
   "execution_count": null,
   "id": "a115d7ce-9904-44fd-93f0-4d467be5e0ae",
   "metadata": {
    "tags": []
   },
   "outputs": [],
   "source": [
    "my_list = [1, 4, 9]\n",
    "\n",
    "print(2 in my_list)\n",
    "\n",
    "if 1 in my_list:\n",
    "    print(\"Found a 1\")"
   ]
  },
  {
   "cell_type": "markdown",
   "id": "9dc4c743-cb4c-4b2b-ae84-b635c35a30ee",
   "metadata": {},
   "source": [
    "#### **Exercise 1**\n",
    "Using the list `names`, sort the list in alphabetical order. Then, print the last 3 items.\n",
    "\n",
    "<details>\n",
    "  <summary>Show answer</summary>\n",
    "      <pre style=\"background-color: honeydew; padding: 10px; border-radius: 5px;\"><code style=\"background: none;\">names = sorted(names)\n",
    "print(names[2:])</code></pre>\n",
    "</details>"
   ]
  },
  {
   "cell_type": "code",
   "execution_count": null,
   "id": "d10540ad-7a33-4c2b-a20a-fa940a373bf7",
   "metadata": {
    "tags": []
   },
   "outputs": [],
   "source": [
    "names = [\"John\", \"Mary\", \"Camilo\", \"Ali\", \"Maria\"]\n",
    "\n",
    "# TODO: Sort the list in alphabetical order\n",
    "\n",
    "# TODO: Print the last three items"
   ]
  },
  {
   "cell_type": "markdown",
   "id": "4d8eb823-13a3-4769-9ecc-ab647bbc7d0a",
   "metadata": {},
   "source": [
    "## **Tuples**\n",
    "A tuple is another type of collection in Python. Like a list, it stores multiple values in order with indices. Unlike a list, you cannot add, remove, or change items in a tuple. Tuples can be useful when you know that you will never need to add items–for useful, to store names and ages together."
   ]
  },
  {
   "cell_type": "code",
   "execution_count": null,
   "id": "7fac3f89-8e64-46dd-84f8-17f09e923491",
   "metadata": {
    "tags": []
   },
   "outputs": [],
   "source": [
    "my_tuple = (\"Michael\", 22)\n",
    "\n",
    "print(my_tuple)\n",
    "print(my_tuple[0])\n",
    "print(my_tuple[1])"
   ]
  },
  {
   "cell_type": "markdown",
   "id": "adb77ef3-76ac-4257-8136-f8da7c215a0a",
   "metadata": {},
   "source": [
    "We can get the elements of a tuple easily using **tuple unpacking**."
   ]
  },
  {
   "cell_type": "code",
   "execution_count": null,
   "id": "dfb5bbc0-4446-4dd1-a6fc-41ca01e8e011",
   "metadata": {
    "tags": []
   },
   "outputs": [],
   "source": [
    "name, age = my_tuple\n",
    "print(name)\n",
    "print(age)"
   ]
  },
  {
   "cell_type": "markdown",
   "id": "18572b04-0dd4-4049-9de0-3de99b1a0a14",
   "metadata": {},
   "source": [
    "We often use tuples as the return value of a function when we need to return multiple values. For instance, consider a function that returns the square and cube of a number."
   ]
  },
  {
   "cell_type": "code",
   "execution_count": null,
   "id": "3be17ab0-3929-48b9-b967-38fafb2030a3",
   "metadata": {
    "tags": []
   },
   "outputs": [],
   "source": [
    "def square_and_cube(number):\n",
    "    square = number * number\n",
    "    cube = number * number * number\n",
    "    return (square, cube)\n",
    "\n",
    "value_squared, value_cubed = square_and_cube(3)\n",
    "print(value_squared)\n",
    "print(value_cubed)"
   ]
  },
  {
   "cell_type": "markdown",
   "id": "5e15becf-efe8-4949-8fe9-91085c5078c4",
   "metadata": {},
   "source": [
    "#### **Exercise 2**\n",
    "Create a function named `sum_and_average` that takes a list and returns the sum and average of the values in the list, as a tuple.\n",
    "\n",
    "<details>\n",
    "  <summary>Show answer</summary>\n",
    "      <pre style=\"background-color: honeydew; padding: 10px; border-radius: 5px;\"><code style=\"background: none;\">def sum_and_average(my_list):\n",
    "    list_sum = sum(my_list)\n",
    "    return list_sum, list_sum / len(my_list)</code></pre>\n",
    "</details>"
   ]
  },
  {
   "cell_type": "code",
   "execution_count": null,
   "id": "2bc8f2e8-ac9f-4af8-ab5d-55e5c101f348",
   "metadata": {
    "tags": []
   },
   "outputs": [],
   "source": [
    "# TODO: Define your function here\n",
    "\n",
    "\n",
    "\n",
    "my_list = [3, 5, 8, 10]\n",
    "list_sum, list_average = sum_and_average(my_list)\n",
    "print(list_sum, list_average)"
   ]
  },
  {
   "cell_type": "markdown",
   "id": "12ca16c5-0cdb-4de1-8487-f541612a1109",
   "metadata": {},
   "source": [
    "## **Sets**\n",
    "Sometimes, we may want to keep a collection of *unique* values, where each value can appear only once. For this, we can use a Python **Set**, another type of collection. Sets are *unordered* and will always contain unique values."
   ]
  },
  {
   "cell_type": "code",
   "execution_count": null,
   "id": "aa3b26bb-db8f-4aa0-be1f-b8632379a7cd",
   "metadata": {
    "tags": []
   },
   "outputs": [],
   "source": [
    "my_set = set()\n",
    "\n",
    "# Notice that we use `add`, not `append`\n",
    "my_set.add(1)\n",
    "my_set.add(2)\n",
    "\n",
    "print(my_set)\n",
    "\n",
    "my_set.add(1)\n",
    "print(my_set)"
   ]
  },
  {
   "cell_type": "markdown",
   "id": "dde9d38b-11b0-491f-838e-4e54a69f0d94",
   "metadata": {},
   "source": [
    "#### **Exercise 3**\n",
    "Using the list of words `words`, create a set of only the *unique* words.\n",
    "\n",
    "<details>\n",
    "  <summary>Show answer</summary>\n",
    "      <pre style=\"background-color: honeydew; padding: 10px; border-radius: 5px;\"><code style=\"background: none;\">unique_words = set()\n",
    "for word in words:\n",
    "    unique_words.add(word)</code></pre>\n",
    "</details>"
   ]
  },
  {
   "cell_type": "code",
   "execution_count": null,
   "id": "2ef21f97-45ce-49e6-915d-803dc55db3e0",
   "metadata": {
    "tags": []
   },
   "outputs": [],
   "source": [
    "words = [\"it\", \"was\", \"the\", \"best\", \"of\", \"times\", \"it\", \"was\", \"the\", \"worst\", \"of\", \"times\"]\n",
    "\n",
    "# TODO: Create a set named unique_words that contains only the unique words\n",
    "\n",
    "print(unique_words)"
   ]
  },
  {
   "cell_type": "markdown",
   "id": "47345ed8-ba59-43b5-9ae4-492aa1a75a90",
   "metadata": {},
   "source": [
    "## **Dictionaries**\n",
    "The final type of collection we'll use is a **Dictionary**. A dictionary is like a set in that it is an *unordered* list of *unique* items, which we call keys. For each key in a dictionary, there is a value (which doesn't have to be a duplicate). For example:"
   ]
  },
  {
   "cell_type": "code",
   "execution_count": null,
   "id": "921bf2e6-b961-481c-a08d-7107fe7b2af4",
   "metadata": {
    "tags": []
   },
   "outputs": [],
   "source": [
    "# A dictionary of names and their associated ages\n",
    "ages = {\n",
    "    \"Ally\": 19,\n",
    "    \"Kim\": 39,\n",
    "    \"Joe\": 12\n",
    "}\n",
    "\n",
    "print(ages)"
   ]
  },
  {
   "cell_type": "markdown",
   "id": "b4d6a34c-74a8-42b6-95f9-39f8f9c7e9f1",
   "metadata": {},
   "source": [
    "We can access the value for a particular key:"
   ]
  },
  {
   "cell_type": "code",
   "execution_count": null,
   "id": "988502a9-af41-4a04-b746-26153323d972",
   "metadata": {
    "tags": []
   },
   "outputs": [],
   "source": [
    "print(ages[\"Ally\"])"
   ]
  },
  {
   "cell_type": "markdown",
   "id": "418a46bb-e8a3-4157-80bc-9fd1de45e60c",
   "metadata": {},
   "source": [
    "#### **Exercise 4**\n",
    "Using the list of words `words`, fill a dictionary `words_and_counts` where the keys are the words that appear in `words` and the values are the number of times that each word occurs. It may be helpful to check if a key exists in a dictionary using the `in` operator.\n",
    "\n",
    "<details>\n",
    "  <summary>Show answer</summary>\n",
    "      <pre style=\"background-color: honeydew; padding: 10px; border-radius: 5px;\"><code style=\"background: none;\">for word in words:\n",
    "    if word in words_and_counts:\n",
    "        words_and_counts[word] += 1\n",
    "    else:\n",
    "        words_and_counts[word] = 1</code></pre>\n",
    "</details>"
   ]
  },
  {
   "cell_type": "code",
   "execution_count": null,
   "id": "4cf1cab9-743a-4b22-99a4-9720264a3fb4",
   "metadata": {
    "tags": []
   },
   "outputs": [],
   "source": [
    "words = [\"it\", \"was\", \"the\", \"best\", \"of\", \"times\", \"it\", \"was\", \"the\", \"worst\", \"of\", \"times\"]\n",
    "\n",
    "words_and_counts = dict()\n",
    "\n",
    "# TODO: Fill the dictionary with the unique words and their counts\n",
    "\n",
    "\n",
    "print(words_and_counts)"
   ]
  },
  {
   "cell_type": "markdown",
   "id": "2cba7ff5-90bf-4aab-8386-f4c51806adcd",
   "metadata": {},
   "source": [
    "## **Summary**\n",
    "In this lesson, we learned about collection types in Python.\n",
    "- Lists, for storing ordered values\n",
    "- Tuples, for ordered and unchangeable values\n",
    "- Sets, for unordered, unique values\n",
    "- Dictionaries, for key/value pairs\n",
    "\n",
    "Next, we'll learn about Python strings."
   ]
  },
  {
   "cell_type": "code",
   "execution_count": null,
   "id": "7159fe48-dfa5-4443-baf9-63f251b61586",
   "metadata": {},
   "outputs": [],
   "source": []
  }
 ],
 "metadata": {
  "kernelspec": {
   "display_name": "Python 3 (ipykernel)",
   "language": "python",
   "name": "python3"
  },
  "language_info": {
   "codemirror_mode": {
    "name": "ipython",
    "version": 3
   },
   "file_extension": ".py",
   "mimetype": "text/x-python",
   "name": "python",
   "nbconvert_exporter": "python",
   "pygments_lexer": "ipython3",
   "version": "3.10.6"
  }
 },
 "nbformat": 4,
 "nbformat_minor": 5
}
