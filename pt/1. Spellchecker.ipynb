{
  "cells": [
    {
      "cell_type": "markdown",
      "id": "91d04320-6db7-403a-9084-6a2026032361",
      "metadata": {
        "deletable": false,
        "editable": true,
        "tags": []
      },
      "source": [
        "**Corretor automático**\n",
        "\n",
        "<div>\n",
        "<img src=\"../assets/spelling.png\" width=\"500\" style=\" display: block; margin-left: auto; margin-right: auto;\"/>\n",
        "</div>\n",
        "\n",
        "Vamos criar um aplicativo para verificar o texto em nosso idioma. Enquanto o Microsoft Word e outros editores de texto suportam a verificação ortográfica em idiomas de alto recurso, como inglês ou espanhol, a maioria dos idiomas de baixo recurso não são suportados.\n",
        "\n",
        "#### Como fazemos isso?\n",
        "Há duas abordagens possíveis para criar um sistema de verificação ortográfica. \n",
        "1. Armazene uma lista enorme com cada palavra na língua. Quando o usuário digita uma palavra, ela é verificada nessa lista.\n",
        "2. Armazene os *radicais* ou *palavras-raiz* para cada palavra na língua. Quando o usuário digita uma palavra, verifique se a palavra é uma forma válida de uma das radicais. Isto requer conhecimento da morfologia da língua.\n",
        "\n",
        "Ao contrário do que possamos supor, os aplicativos mais modernos usam **Abordagem 1**. É mais fácil implementar e corre mais rápido.\n",
        "\n",
        "***"
      ]
    },
    {
      "cell_type": "markdown",
      "id": "3de568f8-3193-44d0-b722-2e9f68019fb1",
      "metadata": {
        "deletable": false,
        "editable": false,
        "tags": []
      },
      "source": [
        "## **Preparação dos dados**"
      ]
    },
    {
      "cell_type": "markdown",
      "id": "a559e542-643b-4c1d-b879-748d88550772",
      "metadata": {
        "deletable": false,
        "editable": false,
        "tags": []
      },
      "source": [
        "### Carregar o corpus"
      ]
    },
    {
      "cell_type": "markdown",
      "id": "716e825d-8dcf-411f-8c8c-02516904d901",
      "metadata": {
        "deletable": false,
        "editable": true,
        "tags": []
      },
      "source": [
        "<div>\n",
        "<img src=\"../assets/corpus.png\" width=\"500\" style=\" display: block; margin-left: auto; margin-right: auto;\"/>\n",
        "</div>\n",
        "\n",
        "Para este projeto e futuros projetos, usaremos um corpus de [Uspanteko](https://www.ethnologue.com/language/usp). Uspanteko é um língua da família maia, falada no México por cerca de 5.000 pessoas. É uma língua com morfologia aglutinativa e uma escrita que utiliza o alfabeto latino.\n",
        "\n",
        "Nosso corpus tem 23 arquivos de texto simples em Uspanteko. Vamos ler todos os arquivos e concatená-los juntos.\n",
        "\n",
        "<div class=\"alert alert-block alert-warning\">\n",
        "    Se quiser usar dados de outra língua e já tiver um corpus, sinta-se à vontade para usá-la.\n",
        "</div>"
      ]
    },
    {
      "cell_type": "code",
      "execution_count": null,
      "id": "88373e3e-3551-442a-81e3-89c42d22a80d",
      "metadata": {
        "tags": []
      },
      "outputs": [],
      "source": [
        "from typing import List, Dict, Tuple\n",
        "import os\n",
        "\n",
        "corpus = \"\"\n",
        "\n",
        "\n",
        "# If you're using your own corpus, change this to the correct directory\n",
        "corpus_directory = \"../../corpora/usp\"\n",
        "\n",
        "# Loop over each file in the corpus so we can read it in\n",
        "for file_name in os.listdir(corpus_directory):\n",
        "    \n",
        "    # We will save one corpus entry, 50, for testing\n",
        "    if file_name == \"50.txt\":\n",
        "        continue\n",
        "        \n",
        "    \n",
        "    #  Make sure we only read text files\n",
        "    if \".txt\" not in file_name:\n",
        "        continue\n",
        "        \n",
        "        \n",
        "    # Read the current file as a string\n",
        "    file_path = os.path.join(corpus_directory, file_name)\n",
        "    \n",
        "    with open(file_path, 'r') as file:\n",
        "        file_contents = file.read()\n",
        "        corpus += (file_contents + \"\\n\")\n",
        "        \n",
        "print(corpus[:300])"
      ]
    },
    {
      "cell_type": "markdown",
      "id": "e2503ef9-3038-4c67-b713-2de6032d5f38",
      "metadata": {
        "deletable": false,
        "editable": false,
        "tags": []
      },
      "source": [
        "### Pré-processamento\n",
        "Vamos pré-processar o nosso texto um pouco para a verificação ortográfica."
      ]
    },
    {
      "cell_type": "code",
      "execution_count": null,
      "id": "5d8f4edb-3350-423f-bd22-7569e94ff2f8",
      "metadata": {
        "tags": []
      },
      "outputs": [],
      "source": [
        "# First, strip accent marks (they aren't usually written in Uspanteko).\n",
        "\n",
        "from util import strip_accents\n",
        "\n",
        "corpus = strip_accents(corpus)\n",
        "strip_accents(\"ójor taq tziij kita' jaa,\")"
      ]
    },
    {
      "cell_type": "markdown",
      "id": "0506efe7-3ba9-4e16-b52e-6dbb628f00d7",
      "metadata": {
        "deletable": false,
        "editable": false,
        "tags": []
      },
      "source": [
        "#### **Exercício 1**\n",
        "Termine a próxima célula para tornar todo o corpus em letra minúscula.\n",
        "<details>\n",
        "  <summary>Mostrar resposta</summary>\n",
        "      <pre style=\"background-color: honeydew; padding: 10px; border-radius: 5px;\"><code style=\"background: none;\">corpus = corpus.lower()</code></pre>\n",
        "</details>"
      ]
    },
    {
      "cell_type": "code",
      "execution_count": null,
      "id": "4556503f-72df-49c2-ac3a-6e1621944b18",
      "metadata": {
        "tags": []
      },
      "outputs": [],
      "source": [
        "# TODO: Finish me!!\n",
        "\n",
        "\n",
        "print(corpus[:99])"
      ]
    },
    {
      "cell_type": "markdown",
      "id": "32dd7d96-a256-4b7a-98d4-32cae7a7e353",
      "metadata": {
        "deletable": false,
        "editable": false,
        "tags": []
      },
      "source": [
        "## **Criar uma Lista de Palavras**\n",
        "Vamos criar uma lista com todas as palavras que ocorrem em nosso corpus. Ignoraremos sinais de pontuação e assumiremos que uma palavra está rodeada de espaços ou pontuação. Além disso, manteremos uma contagem da frequência de cada palavra para ser usada mais tarde."
      ]
    },
    {
      "cell_type": "markdown",
      "id": "3bd9cda2-0ca6-4e61-afc1-a633c219a8a8",
      "metadata": {
        "deletable": false,
        "editable": false,
        "tags": []
      },
      "source": [
        "### Tokenizar palavras usando uma expressão regular\n",
        "\n",
        "> **Tokenizar** refere-se ao processo de quebra de um sequência em tokens. Tokens podem ser palavras, caracteres ou morfemas. Neste caso, os tokens serão palavras.\n",
        "\n",
        "Usaremos uma [expressão regular](./skills/regex.ipynb) que procura por grupos de letras e apóstrofes. Quando passamos a regex no nosso texto, cada grupo que encontra é uma palavra distinta.\n",
        "\n",
        "Por exemplo, no texto seguinte:\n",
        "\n",
        "```ójor taq tziij kita' jaa```\n",
        "\n",
        "A regex vai produzir:\n",
        "\n",
        "```[\"ojor\", \"taq\", \"tziij\", \"kita'\", \"jaa\"]```\n",
        "\n",
        "Em Uspanteko, as palavras são sempre divididas por pontuação ou espaço em branco. Portanto, podemos presumir que cada grupo que contém apenas letras constitui uma palavra.\n",
        "\n",
        "<div class=\"alert alert-block alert-warning\">\n",
        "Outras línguas podem precisar de uma regex personalizada para detectar palavras. Por favor consulte a lição sobre expressões regulares para informações. Você pode usar uma ferramenta de teste de regex, como <a href='https://regex101.com'>regex101</a>, para certificar-se de que sua expressão regular funciona como espera.\n",
        "</div>"
      ]
    },
    {
      "cell_type": "code",
      "execution_count": null,
      "id": "a1c7386d-a990-4494-9172-0a3e1aa60e6a",
      "metadata": {
        "tags": []
      },
      "outputs": [],
      "source": [
        "import re\n",
        "\n",
        "# If your language uses some other character within words (like hyphens) you may need to update this regex appropriately\n",
        "word_regex = r\"[\\w|\\']+\"\n",
        "\n",
        "def tokenize(text: str) -> List[str]:\n",
        "    return re.findall(word_regex, text)\n",
        "\n",
        "words = tokenize(corpus)\n",
        "print(words[:100])"
      ]
    },
    {
      "cell_type": "markdown",
      "id": "89287992-57a0-4cd2-859f-2032cac88831",
      "metadata": {
        "deletable": false,
        "editable": false,
        "tags": []
      },
      "source": [
        "### Criar um léxico\n",
        "\n",
        "Um **léxico** se refere a todas as palavras utilizadas no corpus\n",
        "\n",
        "Para criar um léxico, vamos iterar sobre cada palavra do corpus. Usamos um [set](./skills/sets.ipynb) para criar uma lista com todas as palavras independentes no léxico. "
      ]
    },
    {
      "cell_type": "markdown",
      "id": "ebf21fbd-bbfd-4204-ba86-886127981bcb",
      "metadata": {
        "deletable": false,
        "editable": true,
        "tags": []
      },
      "source": [
        "#### **Exercício 2**\n",
        "Crie um conjunto de todas as palavras independentes no léxico chamado `léxico`. Em seguida, imprima o número de itens do léxico.\n",
        "\n",
        "<details>\n",
        "  <summary>Mostrar resposta</summary>\n",
        "      <pre style=\"background-color: honeydew; padding: 10px; border-radius: 5px;\"><code style=\"background: none;\">lexicon = set()\n",
        "for word in words:\n",
        "    lexicon.add(word)</code></pre>\n",
        "      <pre style=\"background-color: honeydew; padding: 10px; border-radius: 5px;\"><code style=\"background: none;\">print(len(lexicon))\n",
        "</code></pre>\n",
        "</details>"
      ]
    },
    {
      "cell_type": "code",
      "execution_count": null,
      "id": "86257940-26f6-43bd-bcf3-7d028b4ecc08",
      "metadata": {
        "tags": []
      },
      "outputs": [],
      "source": [
        "# TODO: Loop over the corpus and add each word to the lexicon\n",
        "\n",
        "\n",
        "# TODO: Print the number of elements in the lexicon\n",
        "\n",
        "\n",
        "# Store the lexicon to permanent storage so we can retrieve it later if needed\n",
        "%store lexicon"
      ]
    },
    {
      "cell_type": "markdown",
      "id": "6e87a36c-a221-4994-8af5-3484092f03d7",
      "metadata": {
        "deletable": false,
        "editable": false,
        "tags": []
      },
      "source": [
        "## **Construir um Corretor Automático**\n",
        "Agora, temos um léxico com todas as palavras do corpus e as suas frequências. Estamos prontos para construir nosso programa de corretor automático. "
      ]
    },
    {
      "cell_type": "markdown",
      "id": "01de21f2-3edc-4101-8e79-98a6ecd2942e",
      "metadata": {
        "deletable": false,
        "editable": false,
        "tags": []
      },
      "source": [
        "### Detectar palavras erradas\n",
        "Vamos criar uma função que receba uma frase e encontre qualquer palavra errada. Cada palavra é verificada para confira se consta no léxico. Se não, é considerada um erro de escrita.\n",
        "\n",
        "No momento, sempre que encontramos uma palavra que não está no nosso léxico, esta é marcada como um erro (mesmo que seja uma palavra nova, escrita corretamente). Vamos melhorar isso mais tarde."
      ]
    },
    {
      "cell_type": "markdown",
      "id": "3b47ac8a-752c-4439-9abf-2a4f8182d413",
      "metadata": {
        "deletable": false,
        "tags": []
      },
      "source": [
        "#### **Exercício 3**\n",
        "Termine o código a seguir para criar uma função que encontre palavras marcadas com erradas.\n",
        "\n",
        "<details>\n",
        "  <summary>Mostrar resposta</summary>\n",
        "      <pre style=\"background-color: honeydew; padding: 10px; border-radius: 5px;\"><code style=\"background: none;\">def spellcheck(s: str):\n",
        "    # Pré-processamento e tokenizar\n",
        "    # TODO: Tirar acentos\n",
        "    s = strip_accents(s)<br/>\n",
        "    # TODO: Torne s minúscula\n",
        "    s = s.lower()<br/>\n",
        "    # TODO: Tokenizar s\n",
        "    input_tokenized = tokenize(s)<br/>\n",
        "    # TODO: Para cada palavra no input, verifique se a palavra está no léxico.\n",
        "    # Se não, adicione a palavra em \"palavras_erradas\".\n",
        "    mispelled_words = []<br/>\n",
        "    for word in input_tokenized:\n",
        "        if word not in lexicon:\n",
        "            mispelled_words.append(word)<br/>\n",
        "    return mispelled_words\n",
        "</code></pre>\n",
        "</details>\n",
        "\n",
        "<details>\n",
        "  <summary>Mostrar resposta alternativa</summary>\n",
        "      <pre style=\"background-color: honeydew; padding: 10px; border-radius: 5px;\"><code style=\"background: none;\">def spellcheck(s: str):\n",
        "        # Preprocess and tokenize\n",
        "    # TODO: Strip accents\n",
        "    s = strip_accents(s)<br/>\n",
        "    # TODO: Make s lowercase\n",
        "    s = s.lower()<br/>\n",
        "    # TODO: Tokenize s\n",
        "    input_tokenized = tokenize(s)<br/>\n",
        "    # TODO: Para cada palavra no input, verifique se a palavra está no léxico.\n",
        "    # Se não, adicione a palavra em \"palavras_erradas\".\n",
        "    mispelled_words = [word for word in input_tokenized if word not in lexicon]\n",
        "    return mispelled_words</code></pre>\n",
        "</details>"
      ]
    },
    {
      "cell_type": "code",
      "execution_count": null,
      "id": "cee73016-29bc-452c-a26a-de18713fff5e",
      "metadata": {
        "tags": []
      },
      "outputs": [],
      "source": [
        "def spellcheck(s: str):\n",
        "    # Preprocess and tokenize\n",
        "    # TODO: Strip accents\n",
        "    \n",
        "    \n",
        "    # TODO: Make s lowercase\n",
        "    \n",
        "    \n",
        "    # TODO: Tokenize s\n",
        "    \n",
        "    \n",
        "    # TODO: For each word in the input, check if the word is in the lexicon.\n",
        "    # If not, add the word to \"mispelled_words\".\n",
        "    \n",
        "    # TODO: Return mispelled_words\n",
        "\n",
        "# This sentence has one mispelling ('tzijj')\n",
        "test_sentence = \"Kwand xink'uli'k', re ójr taq tzijj in ák'el na.\"\n",
        "mispelled_words = spellcheck(test_sentence)\n",
        "print(\"Mispelled words:\", mispelled_words)\n",
        "print(\"✅ Correct\" if mispelled_words == ['tzijj'] else \"❌ Incorrect\")"
      ]
    },
    {
      "cell_type": "markdown",
      "id": "ad91f7d6-29b0-4bf4-89e2-12f28e53b2b3",
      "metadata": {
        "deletable": false,
        "editable": false,
        "tags": []
      },
      "source": [
        "### Encontrar as posições de palavra erradas\n",
        "No futuro, talvez desejemos saber *onde* as palavras erradas ocorrem no texto. A função a seguir encontra a localização de palavras erradas usando a nossa função `corretor automático`."
      ]
    },
    {
      "cell_type": "code",
      "execution_count": null,
      "id": "928fe4e4-4d90-416b-8aa1-cebf16b6a47e",
      "metadata": {
        "tags": []
      },
      "outputs": [],
      "source": [
        "def find_mispelled(text: str):\n",
        "    \"\"\"Finds mispelled words in a string.\n",
        "    :return: A list of tuples. Each tuple is (word, index) where `word` is the mispelled word and `index` is the index where it occurs.\n",
        "    \"\"\"\n",
        "    mispelled_words = spellcheck(text)\n",
        "    \n",
        "    mispelled_words_and_positions = []\n",
        "    \n",
        "    for word in mispelled_words:\n",
        "        # This regex searches for the given word, surrounded by whitespace or punctuation\n",
        "        word_regex = f\"(^|\\W)({word})($|\\W)\"\n",
        "        \n",
        "        # There might be multiple matches if we mispelled a word multiple times\n",
        "        for match in re.finditer(word_regex, text):\n",
        "            mispelled_words_and_positions.append({\n",
        "                'word': word,\n",
        "                'start': match.start(2),\n",
        "                'end': match.start(2) + len(word),\n",
        "                'entity': 'MISPELLED'\n",
        "            })\n",
        "        \n",
        "    # 4. Return the mispelled words, sorted by their position\n",
        "    return {\n",
        "        'text': text,\n",
        "        'entities': sorted(mispelled_words_and_positions, key = lambda x: x['start'])\n",
        "    }\n",
        "\n",
        "print(find_mispelled(test_sentence))"
      ]
    },
    {
      "cell_type": "markdown",
      "id": "79955b23-48a1-43dd-8f1a-3139aa0f65b4",
      "metadata": {
        "deletable": false,
        "editable": false,
        "tags": []
      },
      "source": [
        "## **Tornar o Corretor Automático um Aplicativo Autônomo**\n",
        "\n",
        "Nossa função `find_mispelled` funciona para detectar erros ortográficos. Mas não é uma ferramenta fácil para um usuário. Vamos criar um aplicativo autônomo que os usuários podem usar.\n",
        "\n",
        "Vamos usar o [Gradio](https://gradio.app), uma estrutura gratuita que permite transformar código Python em aplicativos compartilháveis. Usar Gradio requer somente três linhas de código."
      ]
    },
    {
      "cell_type": "code",
      "execution_count": null,
      "id": "c901a143-3dc7-497b-b5a0-e025ae187ae1",
      "metadata": {
        "tags": []
      },
      "outputs": [],
      "source": [
        "import gradio as gr\n",
        "\n",
        "gr.close_all()\n",
        "\n",
        "spellchecker = gr.Interface(fn=find_mispelled, inputs=\"text\", outputs=\"text\", live=True)\n",
        "spellchecker.launch(share=True)"
      ]
    },
    {
      "cell_type": "markdown",
      "id": "d675821d-b89c-4bf4-81bf-1a854159cc4a",
      "metadata": {
        "deletable": false,
        "editable": false,
        "tags": []
      },
      "source": [
        "### Melhorar a interface do usuário\n",
        "\n",
        "Essa estrutura funciona muito bem, e podemos até compartilhar o aplicativo usando o link da web acima. Agora vamos deixar a interface do usuário um pouco mais agradável."
      ]
    },
    {
      "cell_type": "code",
      "execution_count": null,
      "id": "5ab739a2-ddfb-4d16-8b23-140d6433dca0",
      "metadata": {
        "tags": []
      },
      "outputs": [],
      "source": [
        "gr.close_all()\n",
        "\n",
        "with gr.Blocks(theme=gr.themes.Soft(), title=\"Uspanteko Spellchecker\") as spellchecker:\n",
        "    gr.Markdown(\"# Uspanteko Spellchecker\")\n",
        "    \n",
        "    with gr.Row():\n",
        "        input_textbox = gr.Textbox(label=\"Text\", info=\"Text to spellcheck\", lines=3)\n",
        "        output_textbox = gr.HighlightedText(label=\"Spellchecked\", combine_adjacent=True)\n",
        "    \n",
        "    gr.Examples(\n",
        "        examples=[\"Kwand xink'uli'k', re ójr taq tzijj in ák'el na.\"],\n",
        "        inputs=input_textbox,\n",
        "        outputs=output_textbox,\n",
        "        fn=find_mispelled,\n",
        "    )\n",
        "    \n",
        "    # Connect the input to the output using our function\n",
        "    input_textbox.change(find_mispelled, input_textbox, output_textbox)\n",
        "    \n",
        "    \n",
        "spellchecker.launch(share=True)"
      ]
    },
    {
      "cell_type": "markdown",
      "id": "d9271857-5550-4e22-be9a-5bcaacc1fdc4",
      "metadata": {
        "deletable": false,
        "editable": false,
        "tags": []
      },
      "source": [
        "## **Permitir Palavras Novas**\n",
        "Existem alguns problemas com o nosso aplicativo. Primeiro, se o usuário digitar uma palavra escrita corretamente, mas que ainda não consta no corpus, será marcada como errada.\n",
        "\n",
        "Lembra quando salvamos um arquivo de nosso corpus para testes? Vamos ver quantas palavras ainda não vistas ocorrem nesse arquivo."
      ]
    },
    {
      "cell_type": "code",
      "execution_count": null,
      "id": "b09ce01a-d9ea-4033-bbda-f1acc5179f78",
      "metadata": {
        "tags": []
      },
      "outputs": [],
      "source": [
        "test_text = \"\"\n",
        "\n",
        "with open(\"../../corpora/usp/50.txt\", 'r') as file:\n",
        "    test_text = file.read()\n",
        "\n",
        "len(find_mispelled(test_text)['entities'])"
      ]
    },
    {
      "cell_type": "markdown",
      "id": "5f756499-d4a5-4c7a-aa8e-39da4c64c59c",
      "metadata": {
        "deletable": false,
        "editable": false,
        "tags": []
      },
      "source": [
        "### Implementar o botão \"Adicionar palavra\" na interface do usuário\n",
        "\n",
        "Detectamos muitas palavras erradas! Como nosso sistema foi construído utilizando um corpus pequeno, ele não contém todas as palavras válidas na língua. Boas ferramentas de processamento de palavras corrigem esse problema, permitindo que o usuário adicione facilmente palavras novas ao léxico. Então, vamos modificar nossa ferramenta para fazer isso. \n",
        "\n",
        "Para isso, introduzimos a ideia de [Gradio State](https://gradio.app/docs/#state). Manter um `Estado` nos permite usar uma variável global em nossas interfaces Gradio. Usaremos uma variável `Estado` para manter o controle das palavras erradas.\n",
        "\n",
        "#### **Exercício 4**\n",
        "Termine a função `adicionar_word_to_lexicon` para adicionar a `palavra` ao `léxico`. O argumento `mispelled` é o resultado de chamar `find_mispelled`.\n",
        "\n",
        "<details>\n",
        "  <summary>Mostrar resposta</summary>\n",
        "      <pre style=\"background-color: honeydew; padding: 10px; border-radius: 5px;\"><code style=\"background: none;\">def add_word_to_lexicon(mispelled):\n",
        "    first_mispelled_word = mispelled['entities'][0]['word']<br/>\n",
        "    lexicon.add(first_mispelled_word)</code></pre>\n",
        "</details>"
      ]
    },
    {
      "cell_type": "code",
      "execution_count": null,
      "id": "d6ab8676-d3b5-47cc-9a8d-ad16ad7bfa79",
      "metadata": {
        "tags": []
      },
      "outputs": [],
      "source": [
        "gr.close_all()\n",
        "\n",
        "def add_word_to_lexicon(mispelled):\n",
        "    # TODO: Add the first mispelled word to the lexicon\n",
        "    \n",
        "\n",
        "# NEW: We'll use this function when the input changes instead of `find_mispelled`. \n",
        "# We need to update 1) the output text, 2) the button, and 3) the global state\n",
        "def input_text_changed(text):\n",
        "    mispelled = find_mispelled(text)\n",
        "    \n",
        "    should_show_button = len(mispelled['entities']) > 0\n",
        "    first_mispelled_word = mispelled['entities'][0]['word'] if should_show_button else ''\n",
        "\n",
        "    # Here we use an \"update\" function to change the textbox properties. Learn more: https://gradio.app/docs/#update\n",
        "    add_to_lexicon_button_updater = gr.Button.update(visible=should_show_button, \n",
        "                                                     value=f\"Add '{first_mispelled_word}' to lexicon\")\n",
        "\n",
        "    return mispelled, add_to_lexicon_button_updater, mispelled\n",
        "\n",
        "    \n",
        "# Interface\n",
        "with gr.Blocks(theme=gr.themes.Soft(), title=\"Uspanteko Spellchecker\") as spellchecker:\n",
        "    # NEW: A 'State' variable that keeps track of the mispelled words\n",
        "    mispelled_words_state = gr.State(None)\n",
        "    \n",
        "    gr.Markdown(\"# Uspanteko Spellchecker\")\n",
        "    \n",
        "    with gr.Row():\n",
        "        input_textbox = gr.Textbox(label=\"Text\", info=\"Text to spellcheck\", lines=3)\n",
        "        \n",
        "        with gr.Column():\n",
        "            output_textbox = gr.HighlightedText(label=\"Spellchecked\", combine_adjacent=True)\n",
        "            \n",
        "            # NEW: A button that adds the first mispelled word to the lexicon\n",
        "            add_word_button = gr.Button(value=f\"Add word to lexicon\", visible=False)\n",
        "            \n",
        "    gr.Examples(\n",
        "        examples=[\"Kwand xink'uli'k', re ójr taq tzijj in ák'el na.\"],\n",
        "        inputs=input_textbox,\n",
        "        outputs=output_textbox,\n",
        "        fn=find_mispelled,\n",
        "    )\n",
        "    \n",
        "    input_textbox.change(input_text_changed, input_textbox, [output_textbox, add_word_button, mispelled_words_state])\n",
        "    \n",
        "    # NEW: Run a function when the button is called, then update the state\n",
        "    add_word_button \\\n",
        "        .click(add_word_to_lexicon, [mispelled_words_state]) \\\n",
        "        .then(input_text_changed, input_textbox, [output_textbox, add_word_button, mispelled_words_state])\n",
        "    \n",
        "        \n",
        "spellchecker.launch(share=True)"
      ]
    },
    {
      "cell_type": "markdown",
      "id": "82380b8a-c3f4-4cdf-9cc7-46f3cd22268e",
      "metadata": {},
      "source": [
        "Agora, podemos facilmente adicionar qualquer palavra escrita corretamente ao nosso léxico, e ela não será marcada como erro no futuro!"
      ]
    },
    {
      "cell_type": "markdown",
      "id": "d068ac35-b4bc-49a1-822c-e51ef2cc8ee0",
      "metadata": {
        "deletable": false,
        "editable": false,
        "tags": []
      },
      "source": [
        "## **Correção ortográfica**\n",
        "Por último, seria bom atualizar o nosso corretor ortográfico para que dê sugestões de ortografia correta quando encontra um erro. Para isso, precisamos determinar qual palavra em nosso léxico é mais próxima do que foi digitado. Usaremos **editar distância**, que mede quantas edições (adições, exclusões, alterações) são necessárias para transformar uma sequência em outra."
      ]
    },
    {
      "cell_type": "code",
      "execution_count": null,
      "id": "f7f39974-5d96-4cd9-991a-5c5885ba222a",
      "metadata": {
        "tags": []
      },
      "outputs": [],
      "source": [
        "import nltk\n",
        "\n",
        "def spelling_suggestions(mispelled_word, n):\n",
        "    # 1. Calculate the edit distance between the word and every word in the lexicon\n",
        "    candidate_spellings = []\n",
        "    \n",
        "    for word in lexicon:\n",
        "        edit_distance = nltk.edit_distance(word, mispelled_word)\n",
        "        candidate_spellings.append((word, edit_distance))\n",
        "    \n",
        "    # 2. Find the top n closest words\n",
        "    sorted_candidates = sorted(candidate_spellings, key=lambda x: (x[1]))\n",
        "    top_n_candidates = sorted_candidates[:n]\n",
        "    top_n_words_only = [candidate[0] for candidate in top_n_candidates]\n",
        "    return top_n_words_only\n",
        "\n",
        "spelling_suggestions(\"tzijj\", 3)"
      ]
    },
    {
      "cell_type": "markdown",
      "id": "dc570d4d-062c-4302-b362-d6d4820b3810",
      "metadata": {
        "deletable": false,
        "editable": false,
        "tags": []
      },
      "source": [
        "### Implementar sugestões na interface do usuário\n",
        "Vamos implementar esta funcionalidade na interface do usuário!"
      ]
    },
    {
      "cell_type": "code",
      "execution_count": null,
      "id": "bc13b84e-326d-42e0-8062-d328c940da89",
      "metadata": {
        "tags": []
      },
      "outputs": [],
      "source": [
        "gr.close_all()\n",
        "\n",
        "def input_text_changed2(text):\n",
        "    mispelled = find_mispelled(text)\n",
        "    \n",
        "    should_show_button = len(mispelled['entities']) > 0\n",
        "    first_mispelled_word = mispelled['entities'][0]['word'] if should_show_button else ''\n",
        "\n",
        "    add_to_lexicon_button_updater = gr.Button.update(visible=should_show_button, \n",
        "                                                     value=f\"Add '{first_mispelled_word}' to lexicon\")\n",
        "    \n",
        "    # NEW: Generate suggestions for the closest spelling\n",
        "    suggestions = spelling_suggestions(first_mispelled_word, 3)\n",
        "    suggestions_text = \" | \".join(suggestions)\n",
        "\n",
        "    return mispelled, add_to_lexicon_button_updater, mispelled, suggestions_text\n",
        "\n",
        "    \n",
        "# Interface\n",
        "with gr.Blocks(theme=gr.themes.Soft(), title=\"Uspanteko Spellchecker\") as spellchecker:\n",
        "    mispelled_words_state = gr.State(None)\n",
        "    \n",
        "    gr.Markdown(\"# Uspanteko Spellchecker\")\n",
        "    \n",
        "    with gr.Row():\n",
        "        input_textbox = gr.Textbox(label=\"Text\", info=\"Text to spellcheck\", lines=3)\n",
        "        \n",
        "        with gr.Column():\n",
        "            output_textbox = gr.HighlightedText(label=\"Spellchecked\", combine_adjacent=True)\n",
        "            add_word_button = gr.Button(value=f\"Add word to lexicon\", visible=False)\n",
        "            \n",
        "            # NEW: Show suggested spellings\n",
        "            suggestions_textbox = gr.Textbox(label=\"Suggestions\", interactive=False)\n",
        "            \n",
        "    gr.Examples(\n",
        "        examples=[\"Kwand xink'uli'k', re ójr taq tzijj in ák'el na.\"],\n",
        "        inputs=input_textbox,\n",
        "        outputs=output_textbox,\n",
        "        fn=find_mispelled,\n",
        "    )\n",
        "    \n",
        "    input_textbox.change(input_text_changed2, input_textbox, [output_textbox, add_word_button, mispelled_words_state, suggestions_textbox])\n",
        "    \n",
        "    add_word_button \\\n",
        "        .click(add_word_to_lexicon, [mispelled_words_state]) \\\n",
        "        .then(input_text_changed2, input_textbox, [output_textbox, add_word_button, mispelled_words_state, suggestions_textbox])\n",
        "    \n",
        "        \n",
        "spellchecker.launch(share=True)"
      ]
    },
    {
      "cell_type": "markdown",
      "id": "624dd3af-c5fd-40ae-839d-d61c282a06fc",
      "metadata": {
        "deletable": false,
        "editable": false,
        "tags": []
      },
      "source": [
        "## **Resumo**\n",
        "Neste tutorial, construímos uma ferramenta de verificação ortográfica para uma linguagem de baixo recurso. Isso incluiu:\n",
        "- A construção do léxico a partir dos textos originais\n",
        "- A detecção de palavras erradas\n",
        "- A previsão da ortografia correta usando métricas de similaridade\n",
        "\n",
        "### **Desafios**\n",
        "1. No momento, nosso verificador ortográfico só permite adicionar a primeira palavra errada ao léxico. Melhore esta funcionalidade criando dois botões novos. Um botão permitirá que o usuário **Adicione todas** as palavras erradas ao léxico. O outro botão permite **ignorar** uma palavra errada e passar para a próxima. \n",
        "2. Nosso verificador ortográfico exibe sugestões, mas não permite utilizá-las. Substitua a caixa de texto por botões para cada sugestão. Clicando em uma sugestão, ela deve substituir a palavra errada no campo de texto."
      ]
    },
    {
      "cell_type": "code",
      "execution_count": null,
      "id": "e64b2aa5-4bf9-41d7-88c2-573a63eb1a79",
      "metadata": {},
      "outputs": [],
      "source": []
    }
  ],
  "metadata": {
    "kernelspec": {
      "display_name": "Python 3 (ipykernel)",
      "language": "python",
      "name": "python3"
    },
    "language_info": {
      "codemirror_mode": {
        "name": "ipython",
        "version": 3
      },
      "file_extension": ".py",
      "mimetype": "text/x-python",
      "name": "python",
      "nbconvert_exporter": "python",
      "pygments_lexer": "ipython3",
      "version": "3.10.6"
    }
  },
  "nbformat": 4,
  "nbformat_minor": 5
}