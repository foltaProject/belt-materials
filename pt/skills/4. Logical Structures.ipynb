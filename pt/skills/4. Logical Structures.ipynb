{
  "cells": [
    {
      "cell_type": "markdown",
      "id": "abe4d6ed-4134-45af-a2f8-951045856f20",
      "metadata": {
        "deletable": false,
        "editable": false,
        "tags": []
      },
      "source": [
        "# **Logical Structures**\n",
        "\n",
        "Often in our code, we need to make decisions about what to do next. For instance, when we make a spellchecker, we will need to decide if each word is spelled correctly or not. If the word is mispelled, we should take some action. To do this, we need **logical structures** (you may also see this called \"control flow\")."
      ]
    },
    {
      "cell_type": "markdown",
      "id": "7b0ef029-8826-4e68-b15b-372485b7dea4",
      "metadata": {
        "deletable": false,
        "editable": false,
        "tags": []
      },
      "source": [
        "## **If Statements**\n",
        "The first structure we will use is the `if` statement. \n",
        "\n",
        "```python\n",
        "if condition:\n",
        "    Execute some code\n",
        "```\n",
        "\n",
        "An `if` statement executes a block of code only if the condition is true. If the condition is false, we skip the block. The **condition** is a statement that results in a boolean value."
      ]
    },
    {
      "cell_type": "code",
      "execution_count": null,
      "id": "ca447a68-05af-40c9-aabb-b45536e13676",
      "metadata": {
        "tags": []
      },
      "outputs": [],
      "source": [
        "my_var = 3\n",
        "\n",
        "if my_var > 2:\n",
        "    print(\"my_var is larger than 2\")\n",
        "    \n",
        "my_var = 1\n",
        "\n",
        "if my_var > 2:\n",
        "    print(\"my_var is larger than 2\")"
      ]
    },
    {
      "cell_type": "markdown",
      "id": "db1e4e63-fef6-42f7-95e6-d4f4566a1152",
      "metadata": {
        "deletable": false,
        "editable": false,
        "tags": []
      },
      "source": [
        "Notice how indentation is used to define the block of code that the `if` statement exectues. If we have an `if` statement inside an `if` statement, we must indent with two tabs:"
      ]
    },
    {
      "cell_type": "code",
      "execution_count": null,
      "id": "07f4d8c9-9b19-4341-b3e1-48d2540385fe",
      "metadata": {
        "tags": []
      },
      "outputs": [],
      "source": [
        "my_var = 3\n",
        "\n",
        "if my_var > 2:\n",
        "    if my_var < 4:\n",
        "        print(\"my_var is larger than 2 and smaller than 4\")"
      ]
    },
    {
      "cell_type": "markdown",
      "id": "664888ac-8ad8-4803-bd4a-7a73d25cdc6e",
      "metadata": {
        "deletable": false,
        "editable": false,
        "tags": []
      },
      "source": [
        "### Else\n",
        "What if we want to run a different block of code when the condition is false? For that, we can add an `else` clause to the `if` statement."
      ]
    },
    {
      "cell_type": "code",
      "execution_count": null,
      "id": "66feaa8d-a6cb-4332-a987-0f39cf321c42",
      "metadata": {
        "tags": []
      },
      "outputs": [],
      "source": [
        "my_var = 3\n",
        "\n",
        "if my_var > 4:\n",
        "    print(\"my_var is larger than 4\")\n",
        "else:\n",
        "    print(\"my_var is not larger than 4\")"
      ]
    },
    {
      "cell_type": "markdown",
      "id": "98c7a3e7-926b-4272-af2d-d126bf927889",
      "metadata": {
        "deletable": false,
        "editable": false,
        "tags": []
      },
      "source": [
        "### Elif\n",
        "Finally, what if we want to run multiple different blocks of code based on different conditions? For this, we can use the `elif` clause (short for \"else if\"). An `elif` clause comes after the `if` clause but before the `else` clause, and defines alternate conditions. If *none* of the conditions are true, then the `else` clause runs."
      ]
    },
    {
      "cell_type": "code",
      "execution_count": null,
      "id": "91024ed5-b7aa-4b46-a134-b72a5a82717f",
      "metadata": {
        "tags": []
      },
      "outputs": [],
      "source": [
        "my_var = 3\n",
        "\n",
        "if my_var > 4:\n",
        "    print(\"my_var is larger than 4\")\n",
        "elif my_var > 2:\n",
        "    print(\"my_var is larger than 2\")\n",
        "else:\n",
        "    print(\"my var is not larger than 2\")"
      ]
    },
    {
      "cell_type": "markdown",
      "id": "383b5d8f-8e63-4519-92fc-629e103cc6ab",
      "metadata": {
        "deletable": false,
        "editable": false,
        "tags": []
      },
      "source": [
        "### Equality conditions\n",
        "In Python, to check if a variable is equal to some value we must use the `==` operator.\n",
        "\n",
        "<div class=\"alert alert-block alert-warning\">\n",
        "    Make sure not to use the assignment operator `=`, which will not produce the desired result.\n",
        "</div>"
      ]
    },
    {
      "cell_type": "code",
      "execution_count": null,
      "id": "ded9a386-9b3f-4a59-b556-e06ff8427b17",
      "metadata": {
        "tags": []
      },
      "outputs": [],
      "source": [
        "my_string = \"apple\"\n",
        "\n",
        "if my_string == \"apple\":\n",
        "    print(\"We have an apple\")\n",
        "    \n",
        "# We can also use != to check if a variable is not equal to something\n",
        "if my_string != \"banana\":\n",
        "    print(\"We don't have a banana\")"
      ]
    },
    {
      "cell_type": "markdown",
      "id": "b4aa5c6e-2134-4191-872b-32dacb0234f6",
      "metadata": {
        "deletable": false,
        "editable": false,
        "tags": []
      },
      "source": [
        "### Conditional Operators\n",
        "Besides the equality operator, we can use the following operators.\n",
        "\n",
        "- Less than `a < b`\n",
        "- Greater than `a > b`\n",
        "- Less than or equal `a <= b`\n",
        "- Greater than or equal `a >= b`"
      ]
    },
    {
      "cell_type": "markdown",
      "id": "6525a5fa-d9b3-448c-96af-8d4c1de624e7",
      "metadata": {
        "deletable": false,
        "editable": false,
        "tags": []
      },
      "source": [
        "### Combining conditions\n",
        "Finally, we might want to combine conditions. For instance, suppose we are trying to match a person's full name, using their given and family name. To do this, we can use the `and` keyword, which requires that both conditions be true."
      ]
    },
    {
      "cell_type": "code",
      "execution_count": null,
      "id": "88597c0e-b78e-4295-be05-0a3273822952",
      "metadata": {
        "tags": []
      },
      "outputs": [],
      "source": [
        "family = \"Smith\"\n",
        "given = \"Joe\"\n",
        "\n",
        "if family == \"Smith\" and given == \"Joe\":\n",
        "    print(\"We found him\")\n",
        "    \n",
        "if family == \"Smith\" and given == \"Sarah\":\n",
        "    print(\"We found her\")"
      ]
    },
    {
      "cell_type": "markdown",
      "id": "1d95e5ea-0057-4295-b98a-c6672fa3ad73",
      "metadata": {
        "deletable": false,
        "editable": false,
        "tags": []
      },
      "source": [
        "What if we only need to match one of the conditions? To this, we can use the `or` keyword, that only requires that one of the conditions be true."
      ]
    },
    {
      "cell_type": "code",
      "execution_count": null,
      "id": "31455fd3-c7ad-4b47-ace7-f05bfabac55e",
      "metadata": {
        "tags": []
      },
      "outputs": [],
      "source": [
        "family = \"Smith\"\n",
        "given = \"Joe\"\n",
        "\n",
        "if family == \"Smith\" or given == \"Joe\":\n",
        "    print(\"We found a Joe or a Smith\")"
      ]
    },
    {
      "cell_type": "markdown",
      "id": "02420001-10f1-4fce-b8e5-4d9d8840d96f",
      "metadata": {
        "deletable": false,
        "editable": false,
        "tags": []
      },
      "source": [
        "#### **Exercise 1**\n",
        "Create an `if` statement that prints \"She can rent a car\" if the `name` variable holds \"Sarah\" and the `age` variable is greater than 25.\n",
        "\n",
        "<details>\n",
        "  <summary>Show answer</summary>\n",
        "      <pre style=\"background-color: honeydew; padding: 10px; border-radius: 5px;\"><code style=\"background: none;\">if name == \"Sarah\" and age > 25:\n",
        "    print(\"She can rent a car\")</code></pre>\n",
        "</details>"
      ]
    },
    {
      "cell_type": "code",
      "execution_count": null,
      "id": "55bce486-84e6-4eed-b7b9-0eb91d99c5f2",
      "metadata": {
        "tags": []
      },
      "outputs": [],
      "source": [
        "name = \"Sarah\"\n",
        "age = 30\n",
        "\n",
        "# TODO: Write your if statement here"
      ]
    },
    {
      "cell_type": "markdown",
      "id": "adca1398-aac4-479e-8bc3-f8808bd25782",
      "metadata": {
        "deletable": false,
        "editable": false,
        "tags": []
      },
      "source": [
        "### Ternary operator\n",
        "There is also a shortcut for an `if` statement called the `ternary operator`. \n",
        "```python\n",
        "true_result if condition else false_result\n",
        "```\n",
        "This is useful when your `if` statement simply needs to return a value."
      ]
    },
    {
      "cell_type": "code",
      "execution_count": null,
      "id": "e6f69838-5328-47b0-b1b9-876f72e1354d",
      "metadata": {
        "tags": []
      },
      "outputs": [],
      "source": [
        "age = 28\n",
        "\n",
        "age_type = 'adult' if age > 18 else 'child'\n",
        "\n",
        "print(age_type)"
      ]
    },
    {
      "cell_type": "markdown",
      "id": "d3c04265-6702-4645-9b47-a402ebc14497",
      "metadata": {
        "deletable": false,
        "editable": false,
        "tags": []
      },
      "source": [
        "## **Loops**\n",
        "The other type of logical structure we often use is a *loop*. \n",
        "\n",
        "```python\n",
        "for variable in collection:\n",
        "    Do something\n",
        "```\n",
        "\n",
        "A loop is useful when we need to do a block of code many times. For instance, suppose we want to print every number between 1 and 9. We could do this:"
      ]
    },
    {
      "cell_type": "code",
      "execution_count": null,
      "id": "1a54300f-c1e8-422f-9c5a-ed406ac01931",
      "metadata": {
        "tags": []
      },
      "outputs": [],
      "source": [
        "print(1)\n",
        "print(2)\n",
        "print(3)\n",
        "print(4)\n",
        "print(5)\n",
        "print(6)\n",
        "print(7)\n",
        "print(8)\n",
        "print(9)"
      ]
    },
    {
      "cell_type": "markdown",
      "id": "12f0e118-8155-44bf-b841-332445040f5a",
      "metadata": {
        "deletable": false,
        "editable": false,
        "tags": []
      },
      "source": [
        "We can easily see how this sort of approach won't scale well. Instead, we can use a loop that runs once for every number."
      ]
    },
    {
      "cell_type": "code",
      "execution_count": null,
      "id": "1f20ef91-0d8a-49a1-a01f-85f33f815d0a",
      "metadata": {
        "tags": []
      },
      "outputs": [],
      "source": [
        "# Loop over 1 to 9. The second number is an exclusive upper bound.\n",
        "for number in range(1, 10):\n",
        "    print(number)"
      ]
    },
    {
      "cell_type": "markdown",
      "id": "b63b9b04-8034-407e-b334-0189ded0d97a",
      "metadata": {
        "deletable": false,
        "editable": false,
        "tags": []
      },
      "source": [
        "### Iterating over a list\n",
        "Loops are super helpful for running a block of code once for every item in a list."
      ]
    },
    {
      "cell_type": "code",
      "execution_count": null,
      "id": "5f104bf6-9278-4bb5-866e-26cb18de4e62",
      "metadata": {
        "tags": []
      },
      "outputs": [],
      "source": [
        "my_list = [\"Michael\", \"Mans\", \"Alexis\", \"David\"]\n",
        "\n",
        "for name in my_list:\n",
        "    print(\"Hello, \", name)"
      ]
    },
    {
      "cell_type": "markdown",
      "id": "e5c1b10c-8176-4aac-ac6d-a6206a77f4e6",
      "metadata": {
        "deletable": false,
        "editable": false,
        "tags": []
      },
      "source": [
        "### Enumerate\n",
        "Finally, we can iterate over a list and get each item's position in the list using `enumerate`."
      ]
    },
    {
      "cell_type": "code",
      "execution_count": null,
      "id": "9f1dc93b-87ce-4b29-80a1-fc0c47df3647",
      "metadata": {
        "tags": []
      },
      "outputs": [],
      "source": [
        "my_list = [\"Michael\", \"Mans\", \"Alexis\", \"David\"]\n",
        "\n",
        "for index, name in enumerate(my_list):\n",
        "    print(\"Hello, \", name, \"You are #\", index)"
      ]
    },
    {
      "cell_type": "markdown",
      "id": "5a886732-1a9d-4e78-97d9-f1e6d8cb3572",
      "metadata": {
        "deletable": false,
        "editable": false,
        "tags": []
      },
      "source": [
        "#### **Exercise 2**\n",
        "For each number in the list `ages`, print \"You can rent a car\" if the number is greater than 25. Use a loop with an if statement inside it.\n",
        "\n",
        "<details>\n",
        "  <summary>Show answer</summary>\n",
        "      <pre style=\"background-color: honeydew; padding: 10px; border-radius: 5px;\"><code style=\"background: none;\">for age in ages:\n",
        "    if age > 25:\n",
        "        print(\"You can rent a car\")</code></pre>\n",
        "</details>"
      ]
    },
    {
      "cell_type": "code",
      "execution_count": null,
      "id": "0643377f-6b17-4400-9c48-c1c975feb09a",
      "metadata": {
        "tags": []
      },
      "outputs": [],
      "source": [
        "ages = [1, 30, 18, 87, 52]\n",
        "\n",
        "# TODO: Write your loop here\n"
      ]
    },
    {
      "cell_type": "markdown",
      "id": "5a477c46-2f6f-486e-a484-df3f75511390",
      "metadata": {
        "deletable": false,
        "editable": false,
        "tags": []
      },
      "source": [
        "## **Summary**\n",
        "In this lesson we learned about the main logical structures in Python.\n",
        "- `if` statements, to execute code conditionally\n",
        "- Loops, to execute code multiple times\n",
        "\n",
        "\n",
        "Next, we'll take a closer look at lists and other types of collections.\n",
        "\n",
        "[Next Lesson](<./5. Lists.ipynb>)"
      ]
    },
    {
      "cell_type": "code",
      "execution_count": null,
      "id": "c80060f4-a955-4666-9ca1-4ab59da6ddd9",
      "metadata": {},
      "outputs": [],
      "source": []
    }
  ],
  "metadata": {
    "kernelspec": {
      "display_name": "Python 3 (ipykernel)",
      "language": "python",
      "name": "python3"
    },
    "language_info": {
      "codemirror_mode": {
        "name": "ipython",
        "version": 3
      },
      "file_extension": ".py",
      "mimetype": "text/x-python",
      "name": "python",
      "nbconvert_exporter": "python",
      "pygments_lexer": "ipython3",
      "version": "3.10.6"
    }
  },
  "nbformat": 4,
  "nbformat_minor": 5
}