{
  "cells": [
    {
      "cell_type": "markdown",
      "id": "6ae1f0a6-1d98-4add-aae6-ec8319814d04",
      "metadata": {
        "deletable": false,
        "editable": false,
        "tags": []
      },
      "source": [
        "# **Introduction**\n",
        "\n",
        "Welcome to Building Endangered Language Technology! This course will teach you everything you need to build apps and tools for low-resource languages."
      ]
    },
    {
      "cell_type": "markdown",
      "id": "2a8a2bb8-ea19-46b5-bf9a-6e60bd9de441",
      "metadata": {
        "deletable": false,
        "editable": false,
        "tags": []
      },
      "source": [
        "## **Course Overview**\n",
        "<div>\n",
        "<img src=\"../../assets/course.png\" width=\"500\" style=\" display: block; margin-left: auto; margin-right: auto;\"/>\n",
        "</div>\n",
        "\n",
        "The course consists of two components:\n",
        "- **Skills** are short lessons that teach a single skill you'll need to build language technology\n",
        "- **Projects** combine skills to build actual apps such as a spellchecker\n",
        "\n",
        "If you already have a programming background, some of the skills may be a review–feel free to pick and choose lesson that you want to learn about."
      ]
    },
    {
      "cell_type": "markdown",
      "id": "1ef9d90b-4bb4-46ae-b041-0744e970df4e",
      "metadata": {
        "deletable": false,
        "editable": false,
        "tags": []
      },
      "source": [
        "## **The JupyterLab Environment**\n",
        "All the lessons in this course will open in [JupyterLab](https://jupyter.org), the environment we are in now. JupyterLab is a development environment for interactive Python development that combines **text cells** and **code cells**. \n",
        "\n",
        "### Code cells\n",
        "The following is an example of a code cell:"
      ]
    },
    {
      "cell_type": "code",
      "execution_count": null,
      "id": "33dd46d8-1aa9-4b0e-9fe7-52506ac70123",
      "metadata": {
        "tags": []
      },
      "outputs": [],
      "source": [
        "print(\"Hello world\")"
      ]
    },
    {
      "cell_type": "markdown",
      "id": "65a08b74-e8ad-4be3-968a-cf73f9fdecea",
      "metadata": {
        "deletable": false,
        "editable": false,
        "tags": []
      },
      "source": [
        "To run a code cell, click the cell and select **Run** -> **Run Selected Cells** from the menu bar, or press **Shift + Enter**.\n",
        "\n",
        "<div>\n",
        "<img src=\"../../assets/run-cells.png\" width=\"500\" style=\" display: block; margin-left: auto; margin-right: auto;\"/>\n",
        "</div>\n",
        "\n",
        "When you run a code cell, it may print output right below it."
      ]
    },
    {
      "cell_type": "markdown",
      "id": "ed41053c-945d-4eb1-94ce-10adf63dd6df",
      "metadata": {
        "deletable": false,
        "editable": false,
        "tags": []
      },
      "source": [
        "### Sidebar\n",
        "On the left side of the screen is the **Sidebar**. The sidebar has two tabs.\n",
        "\n",
        "<div>\n",
        "<img src=\"../../assets/toc.png\" width=\"300\" style=\" display: block; margin-left: auto; margin-right: auto;\"/>\n",
        "</div>\n",
        "\n",
        "The **Table of Contents** allows you to see an overview of the current lesson and quickly jump to a section.\n",
        "\n",
        "<img src=\"../../assets/files.png\" width=\"300\" style=\" display: block; margin-left: auto; margin-right: auto;\"/>\n",
        "</div>\n",
        "\n",
        "The **File Browser** lets you view, open, and upload files. If you want to upload your own corpora, you can do that by pressing the \"Upload\" button. "
      ]
    },
    {
      "cell_type": "markdown",
      "id": "f9efaab6-2566-41f3-9766-0bfe543bffe7",
      "metadata": {
        "deletable": false,
        "editable": false,
        "tags": []
      },
      "source": [
        "## **Lesson Structure**\n",
        "Lessons will consist of a mixture of pre-written code, exercises, and challenges. You should carefully study all pre-written code to make sure you understand what it does. **Exercises** are short coding tasks within a lesson that check your comprehension. **Challenges** are optional tasks after the main lesson, that will be more challenging and really test your knowledge. The best way to learn to code is by coding, so we highly recommend you do as many of the exercises and challenges as you have time for."
      ]
    },
    {
      "cell_type": "markdown",
      "id": "38c237f0-0851-4117-a576-01b424066861",
      "metadata": {
        "deletable": false,
        "editable": false,
        "tags": []
      },
      "source": [
        "## **Your first exercise**\n",
        "\n",
        "For your first exercise, modify the following code cell so that instead of printing \"Hello, Michael\", it prints \"Hello \\<your name>\". After you've modified the cell, make sure you can run it and it prints the output as you expect."
      ]
    },
    {
      "cell_type": "code",
      "execution_count": null,
      "id": "a782c71d-e549-409a-86cc-64a72d7277f3",
      "metadata": {},
      "outputs": [],
      "source": [
        "print(\"Hello, Michael\")"
      ]
    },
    {
      "cell_type": "markdown",
      "id": "e4b88019-68cc-4779-a9c5-44082a560a92",
      "metadata": {
        "deletable": false,
        "editable": false,
        "tags": []
      },
      "source": [
        "[Next Lesson](<./2. Python.ipynb>)"
      ]
    }
  ],
  "metadata": {
    "kernelspec": {
      "display_name": "Python 3 (ipykernel)",
      "language": "python",
      "name": "python3"
    },
    "language_info": {
      "codemirror_mode": {
        "name": "ipython",
        "version": 3
      },
      "file_extension": ".py",
      "mimetype": "text/x-python",
      "name": "python",
      "nbconvert_exporter": "python",
      "pygments_lexer": "ipython3",
      "version": "3.10.6"
    }
  },
  "nbformat": 4,
  "nbformat_minor": 5
}