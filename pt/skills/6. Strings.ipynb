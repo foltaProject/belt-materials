{
  "cells": [
    {
      "cell_type": "markdown",
      "id": "5b77de34-3878-4e3b-a1b6-8c06f8a054f7",
      "metadata": {
        "deletable": false,
        "editable": false,
        "tags": []
      },
      "source": [
        "# **Working with Text**\n",
        "Manipulating textual data is critical for language technology. Luckily, Python provides some powerful tools for working with strings."
      ]
    },
    {
      "cell_type": "markdown",
      "id": "6c01911e-e01b-4215-a28f-4705830aff2a",
      "metadata": {
        "deletable": false,
        "editable": false,
        "tags": []
      },
      "source": [
        "## **Strings and Lists**\n",
        "Python strings share many features with lists that we've seen previously. We can get the length of a string:"
      ]
    },
    {
      "cell_type": "code",
      "execution_count": null,
      "id": "c6ae2ecf-6a02-43bb-a3c7-0e00a6ba5e3f",
      "metadata": {
        "tags": []
      },
      "outputs": [],
      "source": [
        "name = \"Hasan\"\n",
        "print(len(name))"
      ]
    },
    {
      "cell_type": "markdown",
      "id": "86e14a9a-2afe-45d2-a3cf-de7bcdfc085f",
      "metadata": {
        "deletable": false,
        "editable": false,
        "tags": []
      },
      "source": [
        "We can get a character at a particular index or a range of characters:"
      ]
    },
    {
      "cell_type": "code",
      "execution_count": null,
      "id": "8e3d91e0-41bf-4d1d-950a-06c370c82e09",
      "metadata": {
        "tags": []
      },
      "outputs": [],
      "source": [
        "name = \"Hasan\"\n",
        "\n",
        "print(name[2])\n",
        "\n",
        "print(name[2:])"
      ]
    },
    {
      "cell_type": "markdown",
      "id": "9d70d0ce-2156-487f-b73c-2f9b95d15cff",
      "metadata": {
        "deletable": false,
        "editable": false,
        "tags": []
      },
      "source": [
        "And we can loop over the characters in the string:"
      ]
    },
    {
      "cell_type": "code",
      "execution_count": null,
      "id": "1f0702a9-182a-4174-90d4-2c79d4f73f0b",
      "metadata": {
        "tags": []
      },
      "outputs": [],
      "source": [
        "name = \"Hasan\"\n",
        "\n",
        "for character in name:\n",
        "    print(character)"
      ]
    },
    {
      "cell_type": "markdown",
      "id": "53cdbb5f-fb78-4e35-af83-456dd4ee6e4d",
      "metadata": {
        "deletable": false,
        "editable": false,
        "tags": []
      },
      "source": [
        "Strings also support concatenation:"
      ]
    },
    {
      "cell_type": "code",
      "execution_count": null,
      "id": "b405c7f7-6e27-4c10-8206-aae30c201df4",
      "metadata": {
        "tags": []
      },
      "outputs": [],
      "source": [
        "given = \"Jack\"\n",
        "family = \"Reed\"\n",
        "\n",
        "print(given + family)"
      ]
    },
    {
      "cell_type": "markdown",
      "id": "e810d921-1a75-43b6-9e11-5e46b42af0aa",
      "metadata": {
        "deletable": false,
        "editable": false,
        "tags": []
      },
      "source": [
        "...and the `in` operator:"
      ]
    },
    {
      "cell_type": "code",
      "execution_count": null,
      "id": "8e5a3e4a-f252-44d7-b47a-73501d0a5a5b",
      "metadata": {
        "tags": []
      },
      "outputs": [],
      "source": [
        "sentence = \"The quick brown fox jumped over the lazy dog\"\n",
        "\n",
        "if \"fox\" in sentence:\n",
        "    print(\"We found a fox\")"
      ]
    },
    {
      "cell_type": "markdown",
      "id": "26b50382-05d3-4052-9f70-91c092b3bb1e",
      "metadata": {
        "deletable": false,
        "editable": false,
        "tags": []
      },
      "source": [
        "#### **Exercise 1**\n",
        "Print out all of the 2-character substrings that occur in the given string. For instance, the first substring should be \"He\". There should be 12 total substrings.\n",
        "\n",
        "<details>\n",
        "  <summary>Show answer</summary>\n",
        "      <pre style=\"background-color: honeydew; padding: 10px; border-radius: 5px;\"><code style=\"background: none;\">for index in range(len(sentence) - 1):\n",
        "    print(sentence[index:index+2])</code></pre>\n",
        "</details>"
      ]
    },
    {
      "cell_type": "code",
      "execution_count": null,
      "id": "6dc6798e-b754-4dc5-859d-d1fd0ea48ed4",
      "metadata": {
        "tags": []
      },
      "outputs": [],
      "source": [
        "sentence = \"Hello, world!\"\n",
        "\n",
        "# TODO: Loop over the string and print out all the 2-character substrings\n"
      ]
    },
    {
      "cell_type": "markdown",
      "id": "563f5247-0293-4fc9-be9c-f1f6bf761f97",
      "metadata": {
        "deletable": false,
        "editable": false,
        "tags": []
      },
      "source": [
        "## **String Methods**\n",
        "Python strings also have a number of text-specific methods that will be helpful. For instance, we will use the `lower` method to convert strings to all lowercase characters."
      ]
    },
    {
      "cell_type": "code",
      "execution_count": null,
      "id": "3221f953-8635-433c-a2d0-5ab6d006403f",
      "metadata": {
        "tags": []
      },
      "outputs": [],
      "source": [
        "sentence = \"Adam told Sarah that he bought a new Honda Civic in New York\"\n",
        "\n",
        "print(sentence.lower())"
      ]
    },
    {
      "cell_type": "markdown",
      "id": "89039fbd-9925-4bd1-9261-f655fb991638",
      "metadata": {
        "deletable": false,
        "editable": false,
        "tags": []
      },
      "source": [
        "The method `split` will separate the string at space characters (or some other character that we provide."
      ]
    },
    {
      "cell_type": "code",
      "execution_count": null,
      "id": "d29cb73c-4ba5-4d52-9805-50e1c97492f0",
      "metadata": {
        "tags": []
      },
      "outputs": [],
      "source": [
        "sentence = \"Adam told Sarah that he bought a new Honda Civic in New York\"\n",
        "\n",
        "print(sentence.split())"
      ]
    },
    {
      "cell_type": "markdown",
      "id": "03de58a0-99b1-4326-bc1e-cc045a9251cf",
      "metadata": {
        "deletable": false,
        "editable": false,
        "tags": []
      },
      "source": [
        "We can join a list of strings together using the `join` method."
      ]
    },
    {
      "cell_type": "code",
      "execution_count": null,
      "id": "add542d6-2f14-4e74-a745-f330edf70fa9",
      "metadata": {
        "tags": []
      },
      "outputs": [],
      "source": [
        "string_list = [\"Adam\", \"told\", \"Sarah\", \"that\", \"he\", \"bought\", \"a\", \"new\", \"Honda\", \"Civic\", \"in\", \"New\", \"York\"]\n",
        "\n",
        "\"#\".join(string_list)"
      ]
    },
    {
      "cell_type": "markdown",
      "id": "746bfcfa-4df4-4e93-a252-21ca0cafbe4c",
      "metadata": {
        "deletable": false,
        "editable": false,
        "tags": []
      },
      "source": [
        "Some other helpful methods include:\n",
        "- `capitalize`\n",
        "- `find`\n",
        "- `isdigit`\n",
        "- `isspace`\n",
        "- `replace`\n",
        "- `upper`\n",
        "\n",
        "See the complete list [here](https://www.w3schools.com/python/python_strings_methods.asp)."
      ]
    },
    {
      "cell_type": "markdown",
      "id": "b8959777-7a1f-437e-818f-7d8e3e60d843",
      "metadata": {
        "deletable": false,
        "editable": false,
        "tags": []
      },
      "source": [
        "#### **Exercise 2**\n",
        "Go to the link above and pick one of the string methods not listed here. Try it out below, and write a comment explaining how it works."
      ]
    },
    {
      "cell_type": "code",
      "execution_count": null,
      "id": "22b5a818-5688-4b06-a2b5-780daa0379da",
      "metadata": {
        "tags": []
      },
      "outputs": [],
      "source": [
        "# TODO: Your string method\n"
      ]
    },
    {
      "cell_type": "markdown",
      "id": "07bf4e68-3cf1-443a-a255-b7edfc245410",
      "metadata": {
        "deletable": false,
        "editable": false,
        "tags": []
      },
      "source": [
        "## **Format Strings**\n",
        "Often you will need to include variable values in a string. One easy way to do that is with **format strings**."
      ]
    },
    {
      "cell_type": "code",
      "execution_count": null,
      "id": "8de2f17e-fde2-4bab-88ee-1b73ffc0ccca",
      "metadata": {
        "tags": []
      },
      "outputs": [],
      "source": [
        "calculation_result = 12345 * 6789\n",
        "\n",
        "print(f\"The result of the calculation is {calculation_result}\")"
      ]
    },
    {
      "cell_type": "markdown",
      "id": "4be29239-df3a-4b76-8a03-f84eca053fce",
      "metadata": {
        "deletable": false,
        "editable": false,
        "tags": []
      },
      "source": [
        "Format strings work for just about any type of variable."
      ]
    },
    {
      "cell_type": "code",
      "execution_count": null,
      "id": "a9f0849a-8d63-4bab-8cd5-d2c199c7a9a6",
      "metadata": {
        "tags": []
      },
      "outputs": [],
      "source": [
        "my_list = [10, 100.1, \"abc\"]\n",
        "\n",
        "print(f\"Here's a random list: {my_list}\")"
      ]
    },
    {
      "cell_type": "markdown",
      "id": "75ee86bf-1f5e-4912-ade8-93fdcc7eddd1",
      "metadata": {
        "deletable": false,
        "editable": false,
        "tags": []
      },
      "source": [
        "## **Escape Characters**\n",
        "Occasionally, you might see **escape characters** in strings you are working with. These are denoted by the backslash `\\` and are used to perform special functions. For instance, the escape character `\\n` is used to indicate a newline."
      ]
    },
    {
      "cell_type": "code",
      "execution_count": null,
      "id": "9a10af67-68c4-4b7c-8ff5-5c5bf8f17695",
      "metadata": {
        "tags": []
      },
      "outputs": [],
      "source": [
        "my_two_line_string = \"Hello,\\nworld\"\n",
        "print(my_two_line_string)"
      ]
    },
    {
      "cell_type": "markdown",
      "id": "50a44722-045c-4f55-bcef-c8970a4d64a7",
      "metadata": {
        "deletable": false,
        "editable": false,
        "tags": []
      },
      "source": [
        "Another commonly used escape character is the tab character `\\t`, which can help line up columns of text."
      ]
    },
    {
      "cell_type": "code",
      "execution_count": null,
      "id": "01206c9f-1f7d-4157-b780-17866932f184",
      "metadata": {
        "tags": []
      },
      "outputs": [],
      "source": [
        "str1 = \"Michael\\t22\"\n",
        "str2 = \"Teddy\\t24\"\n",
        "\n",
        "print(str1)\n",
        "print(str2)"
      ]
    },
    {
      "cell_type": "markdown",
      "id": "ce580e3d-5b1e-48f2-80b5-78a212a10f4b",
      "metadata": {
        "deletable": false,
        "editable": false,
        "tags": []
      },
      "source": [
        "## **Summary**\n",
        "In this lesson, we learned about Python strings.\n",
        "- Functionality shared with lists such as `len` and looping\n",
        "- String-specific methods such as `lower` and `split`\n",
        "- Interpolating variables with format strings\n",
        "- Escape characters\n",
        "\n",
        "At this point, you've completed the first set of skills. Congratulations!\n",
        "\n",
        "Next, you'll learn about reading and writing files.\n",
        "\n",
        "[Next Lesson](<./7. Files.ipynb>)"
      ]
    },
    {
      "cell_type": "code",
      "execution_count": null,
      "id": "3e38f0a2-4e6d-4d18-84a1-09d42fee49b4",
      "metadata": {},
      "outputs": [],
      "source": []
    }
  ],
  "metadata": {
    "kernelspec": {
      "display_name": "Python 3 (ipykernel)",
      "language": "python",
      "name": "python3"
    },
    "language_info": {
      "codemirror_mode": {
        "name": "ipython",
        "version": 3
      },
      "file_extension": ".py",
      "mimetype": "text/x-python",
      "name": "python",
      "nbconvert_exporter": "python",
      "pygments_lexer": "ipython3",
      "version": "3.10.6"
    }
  },
  "nbformat": 4,
  "nbformat_minor": 5
}