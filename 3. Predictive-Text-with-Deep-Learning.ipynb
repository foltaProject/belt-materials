{
 "cells": [
  {
   "cell_type": "markdown",
   "id": "3ceb0296-9a70-4473-99ba-e9c5e5e67d30",
   "metadata": {},
   "source": [
    "# 4. Predictive Text, Part II: Neural Language Models\n",
    "\n",
    "N-gram models are an efficient and effective way to make good predictions that are reasonably grammatical. However, they have a key limitation: they can only consider up to *n-1* previous words.\n",
    "\n",
    "This means, for instance, that in the following input\n",
    "\n",
    "> First, the woman spread the jelly, and after that ...\n",
    "\n",
    "An n-gram model might very well suggest *he* as the next word. This is because n-gram models are local models, and cannot keep track of long-distance dependencies. We could pick a much larger *n*, but then our n-grams will be very specific and not match the input very often.\n",
    "\n",
    "Instead, we can use *neural language models*. Neural models use machine learning and deep neural networks to represent complex relationships between inputs and outputs, and they are the standard today for language modeling and predictive text (as well as basically every common NLP task). The best neural models of today, such as OpenAI's GPT-3, are trained with corpora of *hundreds of billions of words*. Hence, training these sorts of models is completely infeasible for many languages. \n",
    "\n",
    "This tutorial will instead focus on neural techniques that work with the limited training corpus we have, while still producing useful results."
   ]
  },
  {
   "cell_type": "code",
   "execution_count": 1,
   "id": "3f4aa823-d4c3-4e28-ba99-e6fc93c64242",
   "metadata": {},
   "outputs": [
    {
     "name": "stdout",
     "output_type": "stream",
     "text": [
      "Corpus length: 50000\n"
     ]
    }
   ],
   "source": [
    "import util\n",
    "import numpy as np\n",
    "from collections import Counter\n",
    "\n",
    "corpus = util.load_raw_text(corpus_directory=\"corpus-eng\") # REPLACE WITH YOUR CORPUS FOLDER\n",
    "corpus = util.preprocess(corpus)\n",
    "corpus = corpus[:50000] # If your corpus is small, feel free to omit this\n",
    "\n",
    "print(\"Corpus length:\", len(corpus))"
   ]
  },
  {
   "cell_type": "code",
   "execution_count": 2,
   "id": "a16f93e3-6f77-451d-a04b-776adfe4cbd9",
   "metadata": {},
   "outputs": [
    {
     "data": {
      "text/plain": [
       "2725"
      ]
     },
     "execution_count": 2,
     "metadata": {},
     "output_type": "execute_result"
    }
   ],
   "source": [
    "# Determine the unique vocabulary in the corpus, and then get rid of tokens that appear once\n",
    "vocabulary = Counter(corpus)\n",
    "trimmed_vocabulary = [word for word, count in vocabulary.items() if count > 1]\n",
    "len(trimmed_vocabulary)"
   ]
  },
  {
   "cell_type": "code",
   "execution_count": 3,
   "id": "d1205c7b-152f-4e32-8103-14e11d495f31",
   "metadata": {},
   "outputs": [
    {
     "name": "stdout",
     "output_type": "stream",
     "text": [
      "['fans' 'gathered' 'today' 'at' 'the' 'los' 'angeles' 'grave' 'of' 'dead'\n",
      " 'rocker' 'tom' 'paine' 'on' 'the' 'twenty-fourth' 'anniversary' 'of'\n",
      " 'his' 'death' '<PAD>' '<PAD>' '<PAD>' '<PAD>' '<PAD>' '<PAD>' '<PAD>'\n",
      " '<PAD>' '<PAD>' '<PAD>' '<PAD>' '<PAD>' '<PAD>' '<PAD>' '<PAD>' '<PAD>'\n",
      " '<PAD>' '<PAD>' '<PAD>' '<PAD>' '<PAD>' '<PAD>' '<PAD>' '<PAD>' '<PAD>'\n",
      " '<PAD>' '<PAD>' '<PAD>' '<PAD>' '<PAD>' '<PAD>' '<PAD>' '<PAD>' '<PAD>'\n",
      " '<PAD>' '<PAD>' '<PAD>' '<PAD>' '<PAD>' '<PAD>' '<PAD>' '<PAD>' '<PAD>'\n",
      " '<PAD>' '<PAD>' '<PAD>' '<PAD>' '<PAD>' '<PAD>' '<PAD>' '<PAD>' '<PAD>'\n",
      " '<PAD>' '<PAD>' '<PAD>' '<PAD>' '<PAD>' '<PAD>' '<PAD>' '<PAD>' '<PAD>'\n",
      " '<PAD>' '<PAD>' '<PAD>' '<PAD>' '<PAD>' '<PAD>' '<PAD>' '<PAD>' '<PAD>'\n",
      " '<PAD>' '<PAD>' '<PAD>' '<PAD>' '<PAD>' '<PAD>' '<PAD>' '<PAD>' '<PAD>'\n",
      " '<PAD>']\n",
      "['gathered' 'today' 'at' 'the' 'los' 'angeles' 'grave' 'of' 'dead'\n",
      " 'rocker' 'tom' 'paine' 'on' 'the' 'twenty-fourth' 'anniversary' 'of'\n",
      " 'his' 'death' '</s>' '<PAD>' '<PAD>' '<PAD>' '<PAD>' '<PAD>' '<PAD>'\n",
      " '<PAD>' '<PAD>' '<PAD>' '<PAD>' '<PAD>' '<PAD>' '<PAD>' '<PAD>' '<PAD>'\n",
      " '<PAD>' '<PAD>' '<PAD>' '<PAD>' '<PAD>' '<PAD>' '<PAD>' '<PAD>' '<PAD>'\n",
      " '<PAD>' '<PAD>' '<PAD>' '<PAD>' '<PAD>' '<PAD>' '<PAD>' '<PAD>' '<PAD>'\n",
      " '<PAD>' '<PAD>' '<PAD>' '<PAD>' '<PAD>' '<PAD>' '<PAD>' '<PAD>' '<PAD>'\n",
      " '<PAD>' '<PAD>' '<PAD>' '<PAD>' '<PAD>' '<PAD>' '<PAD>' '<PAD>' '<PAD>'\n",
      " '<PAD>' '<PAD>' '<PAD>' '<PAD>' '<PAD>' '<PAD>' '<PAD>' '<PAD>' '<PAD>'\n",
      " '<PAD>' '<PAD>' '<PAD>' '<PAD>' '<PAD>' '<PAD>' '<PAD>' '<PAD>' '<PAD>'\n",
      " '<PAD>' '<PAD>' '<PAD>' '<PAD>' '<PAD>' '<PAD>' '<PAD>' '<PAD>' '<PAD>'\n",
      " '<PAD>' '<PAD>']\n"
     ]
    }
   ],
   "source": [
    "# Create the data set\n",
    "\n",
    "X = []\n",
    "Y = []\n",
    "\n",
    "current_sentence = []\n",
    "\n",
    "for word in corpus:\n",
    "    if word in [\".\", \"!\", \"?\"]:\n",
    "        X.append(current_sentence.copy())\n",
    "        Y.append(current_sentence[1:] + [\"</s>\"])\n",
    "        current_sentence = []\n",
    "    else:\n",
    "        current_sentence.append(word)\n",
    "\n",
    "# Add padding tokens to the end of each sequence\n",
    "max_sentence_len = 100\n",
    "X_padded = []\n",
    "Y_padded = []\n",
    "\n",
    "for x in X:\n",
    "    if len(x) > max_sentence_len:\n",
    "        X_padded.append(x[:100])\n",
    "    else:\n",
    "        padding_tokens = max_sentence_len - len(x)\n",
    "        X_padded.append(x + [\"<PAD>\"] * padding_tokens)\n",
    "    \n",
    "for y in Y:\n",
    "    if len(y) > max_sentence_len:\n",
    "        Y_padded.append(y[:100])\n",
    "    else:\n",
    "        padding_tokens = max_sentence_len - len(y)\n",
    "        Y_padded.append(y + [\"<PAD>\"] * padding_tokens)\n",
    "\n",
    "X_padded = np.array(X_padded)\n",
    "Y_padded = np.array(Y_padded)\n",
    "        \n",
    "print(X_padded[0])\n",
    "print(Y_padded[0])"
   ]
  },
  {
   "cell_type": "code",
   "execution_count": 4,
   "id": "44acd2b3-5592-46b0-90e3-536f6a74e679",
   "metadata": {},
   "outputs": [
    {
     "name": "stdout",
     "output_type": "stream",
     "text": [
      "Metal device set to: Apple M1 Max\n"
     ]
    },
    {
     "name": "stderr",
     "output_type": "stream",
     "text": [
      "2022-11-01 18:15:51.845954: I tensorflow/core/common_runtime/pluggable_device/pluggable_device_factory.cc:306] Could not identify NUMA node of platform GPU ID 0, defaulting to 0. Your kernel may not have been built with NUMA support.\n",
      "2022-11-01 18:15:51.846106: I tensorflow/core/common_runtime/pluggable_device/pluggable_device_factory.cc:272] Created TensorFlow device (/job:localhost/replica:0/task:0/device:GPU:0 with 0 MB memory) -> physical PluggableDevice (device: 0, name: METAL, pci bus id: <undefined>)\n"
     ]
    },
    {
     "name": "stdout",
     "output_type": "stream",
     "text": [
      "Model: \"sequential\"\n",
      "_________________________________________________________________\n",
      " Layer (type)                Output Shape              Param #   \n",
      "=================================================================\n",
      " string_lookup (StringLookup  (None, None)             0         \n",
      " )                                                               \n",
      "                                                                 \n",
      " masking (Masking)           (None, None)              0         \n",
      "                                                                 \n",
      " embedding (Embedding)       (None, None, 64)          418560    \n",
      "                                                                 \n",
      " lstm (LSTM)                 (None, None, 64)          33024     \n",
      "                                                                 \n",
      " lstm_1 (LSTM)               (None, None, 64)          33024     \n",
      "                                                                 \n",
      " time_distributed (TimeDistr  (None, None, 6540)       425100    \n",
      " ibuted)                                                         \n",
      "                                                                 \n",
      "=================================================================\n",
      "Total params: 909,708\n",
      "Trainable params: 909,708\n",
      "Non-trainable params: 0\n",
      "_________________________________________________________________\n"
     ]
    }
   ],
   "source": [
    "# Build the model\n",
    "\n",
    "import tensorflow as tf\n",
    "from tensorflow import keras\n",
    "from tensorflow.keras import layers\n",
    "from tensorflow.keras import Input\n",
    "\n",
    "\n",
    "model = keras.Sequential()\n",
    "model.add(Input(shape=(None,), dtype=\"string\"))\n",
    "\n",
    "# Turn text inputs into a list of numbers, with a unique number for each word\n",
    "string_lookup_layer = layers.StringLookup(mask_token=\"<PAD>\", vocabulary=list(set(corpus)) + [\"</s>\"])\n",
    "model.add(string_lookup_layer)\n",
    "\n",
    "# Add masking layer to skip the pad tokens\n",
    "model.add(layers.Masking(mask_value = 0, input_shape=(100,)))\n",
    "                                          \n",
    "# The embedding layer first converts the number encodings to one-hot encoding\n",
    "# Then, it produces a dense embedding for each word that includes information about the word's usage\n",
    "model.add(layers.Embedding(input_dim=string_lookup_layer.vocabulary_size(), output_dim=64))\n",
    "\n",
    "model.add(layers.LSTM(64, return_sequences=True))\n",
    "model.add(layers.LSTM(64, return_sequences=True))\n",
    "model.add(layers.TimeDistributed(layers.Dense(string_lookup_layer.vocabulary_size(), activation = \"softmax\")))\n",
    "model.compile(loss='sparse_categorical_crossentropy', optimizer='adam', metrics=['accuracy'])\n",
    "model.summary()"
   ]
  },
  {
   "cell_type": "code",
   "execution_count": 5,
   "id": "a65cdee1-33c3-4e09-b24f-54938fbe8d68",
   "metadata": {},
   "outputs": [
    {
     "name": "stderr",
     "output_type": "stream",
     "text": [
      "100%|██████████████████████████████████████| 4011/4011 [00:11<00:00, 338.35it/s]\n"
     ]
    },
    {
     "data": {
      "text/plain": [
       "array([[5211,  372,  289, ...,    0,    0,    0],\n",
       "       [6125,  398,  238, ...,    0,    0,    0],\n",
       "       [2328, 6125, 6477, ...,    0,    0,    0],\n",
       "       ...,\n",
       "       [3993, 2622, 5745, ...,    0,    0,    0],\n",
       "       [ 151,  510,  177, ...,    0,    0,    0],\n",
       "       [1117, 2668, 1482, ...,    0,    0,    0]])"
      ]
     },
     "execution_count": 5,
     "metadata": {},
     "output_type": "execute_result"
    }
   ],
   "source": [
    "from tqdm import tqdm\n",
    "\n",
    "integer_encoded_Y = np.array([string_lookup_layer(y) for y in tqdm(Y_padded)])\n",
    "integer_encoded_Y"
   ]
  },
  {
   "cell_type": "code",
   "execution_count": 6,
   "id": "f953913a-1d51-4049-9080-d764e60e2963",
   "metadata": {},
   "outputs": [
    {
     "name": "stdout",
     "output_type": "stream",
     "text": [
      "Epoch 1/100\n"
     ]
    },
    {
     "name": "stderr",
     "output_type": "stream",
     "text": [
      "2022-11-01 18:16:05.253162: W tensorflow/core/platform/profile_utils/cpu_utils.cc:128] Failed to get CPU frequency: 0 Hz\n",
      "2022-11-01 18:16:05.966330: I tensorflow/core/grappler/optimizers/custom_graph_optimizer_registry.cc:114] Plugin optimizer for device_type GPU is enabled.\n",
      "2022-11-01 18:16:06.126263: I tensorflow/core/grappler/optimizers/custom_graph_optimizer_registry.cc:114] Plugin optimizer for device_type GPU is enabled.\n",
      "2022-11-01 18:16:06.300639: I tensorflow/core/grappler/optimizers/custom_graph_optimizer_registry.cc:114] Plugin optimizer for device_type GPU is enabled.\n",
      "2022-11-01 18:16:06.547204: I tensorflow/core/grappler/optimizers/custom_graph_optimizer_registry.cc:114] Plugin optimizer for device_type GPU is enabled.\n",
      "2022-11-01 18:16:06.869562: I tensorflow/core/grappler/optimizers/custom_graph_optimizer_registry.cc:114] Plugin optimizer for device_type GPU is enabled.\n"
     ]
    },
    {
     "name": "stdout",
     "output_type": "stream",
     "text": [
      "126/126 [==============================] - 13s 85ms/step - loss: 3.1661 - accuracy: 0.8715\n",
      "Epoch 2/100\n",
      "126/126 [==============================] - 9s 74ms/step - loss: 1.0361 - accuracy: 0.8854\n",
      "Epoch 3/100\n",
      "126/126 [==============================] - 9s 73ms/step - loss: 0.9099 - accuracy: 0.8854\n",
      "Epoch 4/100\n",
      "126/126 [==============================] - 9s 73ms/step - loss: 0.7786 - accuracy: 0.8877\n",
      "Epoch 5/100\n",
      "126/126 [==============================] - 9s 72ms/step - loss: 0.7457 - accuracy: 0.8932\n",
      "Epoch 6/100\n",
      "126/126 [==============================] - 9s 71ms/step - loss: 0.7331 - accuracy: 0.8947\n",
      "Epoch 7/100\n",
      "126/126 [==============================] - 9s 71ms/step - loss: 0.7247 - accuracy: 0.8957\n",
      "Epoch 8/100\n",
      "126/126 [==============================] - 9s 72ms/step - loss: 0.7153 - accuracy: 0.8965\n",
      "Epoch 9/100\n",
      "126/126 [==============================] - 9s 71ms/step - loss: 0.7052 - accuracy: 0.8974\n",
      "Epoch 10/100\n",
      "126/126 [==============================] - 9s 71ms/step - loss: 0.6957 - accuracy: 0.8984\n",
      "Epoch 11/100\n",
      "126/126 [==============================] - 9s 71ms/step - loss: 0.6873 - accuracy: 0.8986\n",
      "Epoch 12/100\n",
      "126/126 [==============================] - 9s 69ms/step - loss: 0.6799 - accuracy: 0.8985\n",
      "Epoch 13/100\n",
      "126/126 [==============================] - 9s 70ms/step - loss: 0.6732 - accuracy: 0.8986\n",
      "Epoch 14/100\n",
      "126/126 [==============================] - 9s 71ms/step - loss: 0.6672 - accuracy: 0.8986\n",
      "Epoch 15/100\n",
      "126/126 [==============================] - 9s 71ms/step - loss: 0.6613 - accuracy: 0.8989\n",
      "Epoch 16/100\n",
      "126/126 [==============================] - 9s 70ms/step - loss: 0.6556 - accuracy: 0.8993\n",
      "Epoch 17/100\n",
      "126/126 [==============================] - 9s 70ms/step - loss: 0.6491 - accuracy: 0.8997\n",
      "Epoch 18/100\n",
      "126/126 [==============================] - 9s 70ms/step - loss: 0.6429 - accuracy: 0.9003\n",
      "Epoch 19/100\n",
      "126/126 [==============================] - 9s 70ms/step - loss: 0.6367 - accuracy: 0.9007\n",
      "Epoch 20/100\n",
      "126/126 [==============================] - 9s 69ms/step - loss: 0.6304 - accuracy: 0.9013\n",
      "Epoch 21/100\n",
      "126/126 [==============================] - 9s 70ms/step - loss: 0.6244 - accuracy: 0.9020\n",
      "Epoch 22/100\n",
      "126/126 [==============================] - 9s 71ms/step - loss: 0.6186 - accuracy: 0.9025\n",
      "Epoch 23/100\n",
      "126/126 [==============================] - 9s 69ms/step - loss: 0.6135 - accuracy: 0.9029\n",
      "Epoch 24/100\n",
      "126/126 [==============================] - 9s 70ms/step - loss: 0.6077 - accuracy: 0.9037\n",
      "Epoch 25/100\n",
      "126/126 [==============================] - 9s 70ms/step - loss: 0.6025 - accuracy: 0.9042\n",
      "Epoch 26/100\n",
      "126/126 [==============================] - 9s 71ms/step - loss: 0.5972 - accuracy: 0.9046\n",
      "Epoch 27/100\n",
      "126/126 [==============================] - 9s 70ms/step - loss: 0.5916 - accuracy: 0.9051\n",
      "Epoch 28/100\n",
      "126/126 [==============================] - 9s 70ms/step - loss: 0.5864 - accuracy: 0.9056\n",
      "Epoch 29/100\n",
      "126/126 [==============================] - 9s 71ms/step - loss: 0.5807 - accuracy: 0.9060\n",
      "Epoch 30/100\n",
      "126/126 [==============================] - 9s 70ms/step - loss: 0.5753 - accuracy: 0.9065\n",
      "Epoch 31/100\n",
      "126/126 [==============================] - 9s 72ms/step - loss: 0.5699 - accuracy: 0.9068\n",
      "Epoch 32/100\n",
      "126/126 [==============================] - 9s 73ms/step - loss: 0.5642 - accuracy: 0.9073\n",
      "Epoch 33/100\n",
      "126/126 [==============================] - 9s 70ms/step - loss: 0.5589 - accuracy: 0.9077\n",
      "Epoch 34/100\n",
      "126/126 [==============================] - 10s 76ms/step - loss: 0.5535 - accuracy: 0.9080\n",
      "Epoch 35/100\n",
      "126/126 [==============================] - 12s 92ms/step - loss: 0.5482 - accuracy: 0.9083\n",
      "Epoch 36/100\n",
      "126/126 [==============================] - 9s 70ms/step - loss: 0.5430 - accuracy: 0.9089\n",
      "Epoch 37/100\n",
      "126/126 [==============================] - 9s 70ms/step - loss: 0.5376 - accuracy: 0.9093\n",
      "Epoch 38/100\n",
      "126/126 [==============================] - 9s 70ms/step - loss: 0.5326 - accuracy: 0.9097\n",
      "Epoch 39/100\n",
      "126/126 [==============================] - 9s 71ms/step - loss: 0.5276 - accuracy: 0.9101\n",
      "Epoch 40/100\n",
      "126/126 [==============================] - 9s 70ms/step - loss: 0.5226 - accuracy: 0.9105\n",
      "Epoch 41/100\n",
      "126/126 [==============================] - 9s 72ms/step - loss: 0.5174 - accuracy: 0.9111\n",
      "Epoch 42/100\n",
      "126/126 [==============================] - 9s 70ms/step - loss: 0.5127 - accuracy: 0.9113\n",
      "Epoch 43/100\n",
      "126/126 [==============================] - 9s 71ms/step - loss: 0.5077 - accuracy: 0.9118\n",
      "Epoch 44/100\n",
      "126/126 [==============================] - 9s 70ms/step - loss: 0.5031 - accuracy: 0.9122\n",
      "Epoch 45/100\n",
      "126/126 [==============================] - 9s 71ms/step - loss: 0.4986 - accuracy: 0.9127\n",
      "Epoch 46/100\n",
      "126/126 [==============================] - 9s 70ms/step - loss: 0.4936 - accuracy: 0.9132\n",
      "Epoch 47/100\n",
      "126/126 [==============================] - 9s 70ms/step - loss: 0.4886 - accuracy: 0.9136\n",
      "Epoch 48/100\n",
      "126/126 [==============================] - 9s 70ms/step - loss: 0.4838 - accuracy: 0.9140\n",
      "Epoch 49/100\n",
      "126/126 [==============================] - 9s 69ms/step - loss: 0.4792 - accuracy: 0.9144\n",
      "Epoch 50/100\n",
      "126/126 [==============================] - 9s 70ms/step - loss: 0.4746 - accuracy: 0.9149\n",
      "Epoch 51/100\n",
      "126/126 [==============================] - 9s 69ms/step - loss: 0.4704 - accuracy: 0.9152\n",
      "Epoch 52/100\n",
      "126/126 [==============================] - 9s 69ms/step - loss: 0.4660 - accuracy: 0.9156\n",
      "Epoch 53/100\n",
      "126/126 [==============================] - 9s 71ms/step - loss: 0.4614 - accuracy: 0.9162\n",
      "Epoch 54/100\n",
      "126/126 [==============================] - 9s 70ms/step - loss: 0.4570 - accuracy: 0.9166\n",
      "Epoch 55/100\n",
      "126/126 [==============================] - 9s 70ms/step - loss: 0.4524 - accuracy: 0.9171\n",
      "Epoch 56/100\n",
      "126/126 [==============================] - 9s 70ms/step - loss: 0.4485 - accuracy: 0.9176\n",
      "Epoch 57/100\n",
      "126/126 [==============================] - 9s 70ms/step - loss: 0.4446 - accuracy: 0.9180\n",
      "Epoch 58/100\n",
      "126/126 [==============================] - 9s 70ms/step - loss: 0.4398 - accuracy: 0.9185\n",
      "Epoch 59/100\n",
      "126/126 [==============================] - 9s 69ms/step - loss: 0.4358 - accuracy: 0.9191\n",
      "Epoch 60/100\n",
      "126/126 [==============================] - 9s 70ms/step - loss: 0.4317 - accuracy: 0.9194\n",
      "Epoch 61/100\n",
      "126/126 [==============================] - 9s 69ms/step - loss: 0.4279 - accuracy: 0.9199\n",
      "Epoch 62/100\n",
      "126/126 [==============================] - 9s 71ms/step - loss: 0.4238 - accuracy: 0.9205\n",
      "Epoch 63/100\n",
      "126/126 [==============================] - 9s 69ms/step - loss: 0.4195 - accuracy: 0.9211\n",
      "Epoch 64/100\n",
      "126/126 [==============================] - 9s 70ms/step - loss: 0.4153 - accuracy: 0.9216\n",
      "Epoch 65/100\n",
      "126/126 [==============================] - 9s 69ms/step - loss: 0.4112 - accuracy: 0.9222\n",
      "Epoch 66/100\n",
      "126/126 [==============================] - 9s 68ms/step - loss: 0.4075 - accuracy: 0.9226\n",
      "Epoch 67/100\n",
      "126/126 [==============================] - 9s 69ms/step - loss: 0.4036 - accuracy: 0.9232\n",
      "Epoch 68/100\n",
      "126/126 [==============================] - 9s 70ms/step - loss: 0.4001 - accuracy: 0.9237\n",
      "Epoch 69/100\n",
      "126/126 [==============================] - 9s 69ms/step - loss: 0.3964 - accuracy: 0.9241\n",
      "Epoch 70/100\n",
      "126/126 [==============================] - 9s 70ms/step - loss: 0.3924 - accuracy: 0.9247\n",
      "Epoch 71/100\n",
      "126/126 [==============================] - 9s 70ms/step - loss: 0.3885 - accuracy: 0.9254\n",
      "Epoch 72/100\n",
      "126/126 [==============================] - 9s 69ms/step - loss: 0.3851 - accuracy: 0.9260\n",
      "Epoch 73/100\n",
      "126/126 [==============================] - 9s 69ms/step - loss: 0.3812 - accuracy: 0.9265\n",
      "Epoch 74/100\n",
      "126/126 [==============================] - 9s 70ms/step - loss: 0.3775 - accuracy: 0.9270\n",
      "Epoch 75/100\n",
      "126/126 [==============================] - 9s 70ms/step - loss: 0.3741 - accuracy: 0.9276\n",
      "Epoch 76/100\n",
      "126/126 [==============================] - 9s 70ms/step - loss: 0.3705 - accuracy: 0.9281\n",
      "Epoch 77/100\n",
      "126/126 [==============================] - 9s 70ms/step - loss: 0.3665 - accuracy: 0.9288\n",
      "Epoch 78/100\n",
      "126/126 [==============================] - 9s 70ms/step - loss: 0.3632 - accuracy: 0.9293\n",
      "Epoch 79/100\n",
      "126/126 [==============================] - 9s 70ms/step - loss: 0.3599 - accuracy: 0.9299\n",
      "Epoch 80/100\n",
      "126/126 [==============================] - 9s 69ms/step - loss: 0.3568 - accuracy: 0.9304\n",
      "Epoch 81/100\n",
      "126/126 [==============================] - 9s 72ms/step - loss: 0.3534 - accuracy: 0.9311\n",
      "Epoch 82/100\n",
      "126/126 [==============================] - 9s 70ms/step - loss: 0.3500 - accuracy: 0.9316\n",
      "Epoch 83/100\n",
      "126/126 [==============================] - 9s 69ms/step - loss: 0.3468 - accuracy: 0.9322\n",
      "Epoch 84/100\n",
      "126/126 [==============================] - 9s 69ms/step - loss: 0.3437 - accuracy: 0.9325\n",
      "Epoch 85/100\n",
      "126/126 [==============================] - 9s 69ms/step - loss: 0.3403 - accuracy: 0.9333\n",
      "Epoch 86/100\n",
      "126/126 [==============================] - 9s 69ms/step - loss: 0.3376 - accuracy: 0.9336\n",
      "Epoch 87/100\n",
      "126/126 [==============================] - 9s 70ms/step - loss: 0.3344 - accuracy: 0.9343\n",
      "Epoch 88/100\n",
      "126/126 [==============================] - 9s 70ms/step - loss: 0.3311 - accuracy: 0.9345\n",
      "Epoch 89/100\n",
      "126/126 [==============================] - 9s 70ms/step - loss: 0.3285 - accuracy: 0.9352\n",
      "Epoch 90/100\n",
      "126/126 [==============================] - 9s 70ms/step - loss: 0.3261 - accuracy: 0.9355\n",
      "Epoch 91/100\n",
      "126/126 [==============================] - 9s 69ms/step - loss: 0.3229 - accuracy: 0.9362\n",
      "Epoch 92/100\n",
      "126/126 [==============================] - 9s 69ms/step - loss: 0.3195 - accuracy: 0.9368\n",
      "Epoch 93/100\n",
      "126/126 [==============================] - 9s 70ms/step - loss: 0.3163 - accuracy: 0.9376\n",
      "Epoch 94/100\n",
      "126/126 [==============================] - 9s 70ms/step - loss: 0.3145 - accuracy: 0.9378\n",
      "Epoch 95/100\n",
      "126/126 [==============================] - 9s 69ms/step - loss: 0.3116 - accuracy: 0.9382\n",
      "Epoch 96/100\n",
      "126/126 [==============================] - 9s 70ms/step - loss: 0.3087 - accuracy: 0.9388\n",
      "Epoch 97/100\n",
      "126/126 [==============================] - 9s 69ms/step - loss: 0.3063 - accuracy: 0.9391\n",
      "Epoch 98/100\n",
      "126/126 [==============================] - 9s 70ms/step - loss: 0.3035 - accuracy: 0.9397\n",
      "Epoch 99/100\n",
      "126/126 [==============================] - 9s 70ms/step - loss: 0.3007 - accuracy: 0.9400\n",
      "Epoch 100/100\n",
      "126/126 [==============================] - 9s 70ms/step - loss: 0.2980 - accuracy: 0.9407\n"
     ]
    }
   ],
   "source": [
    "history = model.fit(X_padded, integer_encoded_Y, epochs = 100, verbose = 1)"
   ]
  },
  {
   "cell_type": "code",
   "execution_count": 7,
   "id": "46d068e8-d723-479b-b0f7-ef5f35fb4377",
   "metadata": {},
   "outputs": [
    {
     "name": "stderr",
     "output_type": "stream",
     "text": [
      "2022-11-01 18:30:58.516108: I tensorflow/core/grappler/optimizers/custom_graph_optimizer_registry.cc:114] Plugin optimizer for device_type GPU is enabled.\n",
      "2022-11-01 18:30:58.574409: I tensorflow/core/grappler/optimizers/custom_graph_optimizer_registry.cc:114] Plugin optimizer for device_type GPU is enabled.\n"
     ]
    },
    {
     "name": "stdout",
     "output_type": "stream",
     "text": [
      "1/1 [==============================] - 1s 646ms/step\n"
     ]
    },
    {
     "name": "stderr",
     "output_type": "stream",
     "text": [
      "2022-11-01 18:30:58.757526: I tensorflow/core/grappler/optimizers/custom_graph_optimizer_registry.cc:114] Plugin optimizer for device_type GPU is enabled.\n"
     ]
    },
    {
     "data": {
      "text/plain": [
       "array(['did'], dtype='<U21')"
      ]
     },
     "execution_count": 7,
     "metadata": {},
     "output_type": "execute_result"
    }
   ],
   "source": [
    "def predict(text: str, n=1):\n",
    "    text = util.preprocess(text)\n",
    "    padding_tokens = max_sentence_len - len(text)\n",
    "    text += [\"<PAD>\"] * padding_tokens\n",
    "\n",
    "    predictions = model.predict([text], verbose=True)\n",
    "    \n",
    "    # for pred in predictions[0]:\n",
    "    #     print(string_lookup_layer.get_vocabulary()[np.argmax(pred)])\n",
    "\n",
    "    # print(predictions.shape)\n",
    "    prob_dist = predictions[0][-padding_tokens - 1]\n",
    "    \n",
    "    \n",
    "    # choice = string_lookup_layer.get_vocabulary()[np.argmax(prob_dist)]\n",
    "    \n",
    "    choice = np.random.choice(string_lookup_layer.get_vocabulary(), n, p=prob_dist)\n",
    "    return choice\n",
    "\n",
    "predict(\"I\")"
   ]
  },
  {
   "cell_type": "code",
   "execution_count": 8,
   "id": "0bad1e77-e4f2-4cc1-9dd3-01dcb4d8c7fa",
   "metadata": {},
   "outputs": [
    {
     "name": "stdout",
     "output_type": "stream",
     "text": [
      "1/1 [==============================] - 0s 54ms/step\n",
      "1/1 [==============================] - 0s 48ms/step\n",
      "1/1 [==============================] - 0s 46ms/step\n",
      "1/1 [==============================] - 0s 53ms/step\n",
      "1/1 [==============================] - 0s 42ms/step\n",
      "1/1 [==============================] - 0s 52ms/step\n",
      "1/1 [==============================] - 0s 54ms/step\n",
      "1/1 [==============================] - 0s 52ms/step\n",
      "1/1 [==============================] - 0s 47ms/step\n",
      "1/1 [==============================] - 0s 50ms/step\n",
      "1/1 [==============================] - 0s 45ms/step\n",
      "1/1 [==============================] - 0s 44ms/step\n",
      "1/1 [==============================] - 0s 47ms/step\n",
      "1/1 [==============================] - 0s 42ms/step\n",
      "1/1 [==============================] - 0s 46ms/step\n"
     ]
    },
    {
     "data": {
      "text/plain": [
       "'I am going to devour when if i came days , i kind of my liver </s>'"
      ]
     },
     "execution_count": 8,
     "metadata": {},
     "output_type": "execute_result"
    }
   ],
   "source": [
    "def generate(prefix: str):\n",
    "    length = 0\n",
    "    next_token = \"\"\n",
    "    while next_token not in [\"</s>\", \"<PAD>\"] and length < 50:\n",
    "        next_token = predict(prefix)[0]\n",
    "        prefix += \" \" + next_token\n",
    "        length += 1\n",
    "    return prefix\n",
    "\n",
    "generate(\"I am\")"
   ]
  },
  {
   "cell_type": "code",
   "execution_count": 9,
   "id": "7ea6bc59",
   "metadata": {
    "collapsed": false,
    "jupyter": {
     "outputs_hidden": false
    }
   },
   "outputs": [
    {
     "data": {
      "application/vnd.jupyter.widget-view+json": {
       "model_id": "05db3176ce734a23b70f0bdfb7be91cb",
       "version_major": 2,
       "version_minor": 0
      },
      "text/plain": [
       "Text(value='', placeholder='Start typing some text...')"
      ]
     },
     "metadata": {},
     "output_type": "display_data"
    },
    {
     "data": {
      "application/vnd.jupyter.widget-view+json": {
       "model_id": "195da5b8bbb140b58a7ecda2d41de88a",
       "version_major": 2,
       "version_minor": 0
      },
      "text/plain": [
       "Output()"
      ]
     },
     "metadata": {},
     "output_type": "display_data"
    }
   ],
   "source": [
    "import ipywidgets as widgets\n",
    "from IPython.display import clear_output\n",
    "\n",
    "text = widgets.Text(\n",
    "    value='',\n",
    "    placeholder='Start typing some text...',\n",
    "    disabled=False\n",
    ")\n",
    "out = widgets.Output()\n",
    "display(text)\n",
    "display(out)\n",
    "\n",
    "def on_change(change):\n",
    "    text = change['new']\n",
    "    if text[-1] == ' ':\n",
    "        prediction = predict(text, 3)\n",
    "        with out:\n",
    "            clear_output()\n",
    "            display(\" | \".join(prediction))\n",
    "\n",
    "text.observe(on_change, names=[\"value\"])"
   ]
  },
  {
   "cell_type": "code",
   "execution_count": null,
   "id": "a453ed2c-19f6-4307-b5be-6ecbd2269b4f",
   "metadata": {},
   "outputs": [],
   "source": []
  }
 ],
 "metadata": {
  "kernelspec": {
   "display_name": "Python 3 (ipykernel)",
   "language": "python",
   "name": "python3"
  },
  "language_info": {
   "codemirror_mode": {
    "name": "ipython",
    "version": 3
   },
   "file_extension": ".py",
   "mimetype": "text/x-python",
   "name": "python",
   "nbconvert_exporter": "python",
   "pygments_lexer": "ipython3",
   "version": "3.10.6"
  }
 },
 "nbformat": 4,
 "nbformat_minor": 5
}
