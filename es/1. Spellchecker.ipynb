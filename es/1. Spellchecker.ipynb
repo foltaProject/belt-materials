{
  "cells": [
    {
      "cell_type": "markdown",
      "id": "91d04320-6db7-403a-9084-6a2026032361",
      "metadata": {
        "deletable": false,
        "editable": true,
        "tags": []
      },
      "source": [
        "# **Corrector Ortográfico**\n",
        "\n",
        "<div>\n",
        "<img src=\"../assets/spelling.png\" width=\"500\" style=\" display: block; margin-left: auto; margin-right: auto;\"/>\n",
        "</div>\n",
        "\n",
        "Vamos a crear una aplicación para revisar la ortografía de nuestra lengua de trabajo. Mientras que Microsoft Word y otros editores de texto admiten corrección ortográfica en lenguas bien documentadas y estudiadas, como el inglés o el español, la mayoría de las lenguas de poco estudiadas no están disponibles en dichas herramientas.\n",
        "\n",
        "#### ¿Cómo lo hacemos nosotros?\n",
        "Hay dos enfoques posibles para crear un sistema de correctores ortográficos. \n",
        "1. Almacenar una lista enorme de cada palabra en la lengua. Cuando el usuario escriba una palabra, se comprueba si la palabra está en esa lista.\n",
        "2. Almacenar las *bases/temas* o *raíces* para cada palabra en la lengua. Cuando un usuario escriba una palabra, se comprueba si la palabra es una forma válida de uno de según las bases/temas (almacenadas). Esto requeriría conocimiento sobre la morfología de la lengua.\n",
        "\n",
        "Aunque pueda parecer lo contrario, la mayoría del software moderno utiliza el **Enfoque 1**. Es más fácil implementar y funciona más rápido.\n",
        "\n",
        "***"
      ]
    },
    {
      "cell_type": "markdown",
      "id": "3de568f8-3193-44d0-b722-2e9f68019fb1",
      "metadata": {
        "deletable": false,
        "editable": false,
        "tags": []
      },
      "source": [
        "## **Preparación de datos**"
      ]
    },
    {
      "cell_type": "markdown",
      "id": "a559e542-643b-4c1d-b879-748d88550772",
      "metadata": {
        "deletable": false,
        "editable": false,
        "tags": []
      },
      "source": [
        "### Cargar el corpus"
      ]
    },
    {
      "cell_type": "markdown",
      "id": "716e825d-8dcf-411f-8c8c-02516904d901",
      "metadata": {
        "deletable": false,
        "editable": true,
        "tags": []
      },
      "source": [
        "<div>\n",
        "<img src=\"../assets/corpus.png\" width=\"500\" style=\" display: block; margin-left: auto; margin-right: auto;\"/>\n",
        "</div>\n",
        "\n",
        "El **corpus** que usaremos para este proyecto y futuros proyectos es un corpus [Uspanteko](https://www.ethnologue.com/language/usp) . Uspanteko es una lengua mayense con unos 5.000 hablantes que usa un alfabeto basado en latino y cuya morfología es concatenativa.\n",
        "\n",
        "Nuestro corpus tiene 23 archivos de texto del Uspanteko. Leeremos todos los archivos y los concatenaremos juntos.\n",
        "\n",
        "<div class=\"alert alert-block alert-warning\">\n",
        "    Si quieres usar tu propia lengua y ya tienes un corpus, no dudes en usarlo en su lugar.\n",
        "</div>"
      ]
    },
    {
      "cell_type": "code",
      "execution_count": null,
      "id": "88373e3e-3551-442a-81e3-89c42d22a80d",
      "metadata": {
        "tags": []
      },
      "outputs": [],
      "source": [
        "from typing import List, Dict, Tuple\n",
        "import os\n",
        "\n",
        "corpus = \"\"\n",
        "\n",
        "\n",
        "# If you're using your own corpus, change this to the correct directory\n",
        "corpus_directory = \"../../corpora/usp\"\n",
        "\n",
        "# Loop over each file in the corpus so we can read it in\n",
        "for file_name in os.listdir(corpus_directory):\n",
        "    \n",
        "    # We will save one corpus entry, 50, for testing\n",
        "    if file_name == \"50.txt\":\n",
        "        continue\n",
        "        \n",
        "    \n",
        "    #  Make sure we only read text files\n",
        "    if \".txt\" not in file_name:\n",
        "        continue\n",
        "        \n",
        "        \n",
        "    # Read the current file as a string\n",
        "    file_path = os.path.join(corpus_directory, file_name)\n",
        "    \n",
        "    with open(file_path, 'r') as file:\n",
        "        file_contents = file.read()\n",
        "        corpus += (file_contents + \"\\n\")\n",
        "        \n",
        "print(corpus[:300])"
      ]
    },
    {
      "cell_type": "markdown",
      "id": "e2503ef9-3038-4c67-b713-2de6032d5f38",
      "metadata": {
        "deletable": false,
        "editable": false,
        "tags": []
      },
      "source": [
        "Preprocesamiento",
        "Vamos a preprocesar un poco nuestro texto para la corrección ortográfica."
      ]
    },
    {
      "cell_type": "code",
      "execution_count": null,
      "id": "5d8f4edb-3350-423f-bd22-7569e94ff2f8",
      "metadata": {
        "tags": []
      },
      "outputs": [],
      "source": [
        "# First, strip accent marks (they aren't usually written in Uspanteko).\n",
        "\n",
        "from util import strip_accents\n",
        "\n",
        "corpus = strip_accents(corpus)\n",
        "strip_accents(\"ójor taq tziij kita' jaa,\")"
      ]
    },
    {
      "cell_type": "markdown",
      "id": "0506efe7-3ba9-4e16-b52e-6dbb628f00d7",
      "metadata": {
        "deletable": false,
        "editable": false,
        "tags": []
      },
      "source": [
        "#### **Ejercicio 1**\n",
        "Termina la siguiente celda para convertir todo el corpus en minúscula.\n",
        "<details>\n",
        "  <summary>Show answer</summary>\n",
        "      <pre style=\"background-color: honeydew; padding: 10px; border-radius: 5px;\"><code style=\"background: none;\">corpus = corpus.lower()</code></pre>\n",
        "</details>"
      ]
    },
    {
      "cell_type": "code",
      "execution_count": null,
      "id": "4556503f-72df-49c2-ac3a-6e1621944b18",
      "metadata": {
        "tags": []
      },
      "outputs": [],
      "source": [
        "# TODO: Finish me!!\n",
        "\n",
        "\n",
        "print(corpus[:99])"
      ]
    },
    {
      "cell_type": "markdown",
      "id": "32dd7d96-a256-4b7a-98d4-32cae7a7e353",
      "metadata": {
        "deletable": false,
        "editable": false,
        "tags": []
      },
      "source": [
        "## **Creando una Lista de Palabras**\n",
        "Vamos a crear una lista de cada palabra que ocurre en nuestro corpus. Ignoraremos los signos de puntuación y asumiremos que una palabra está rodeada de espacios o puntuaciones. Adicionalmente, mantendremos un recuento de la frecuencia de cada palabra para su uso más adelante."
      ]
    },
    {
      "cell_type": "markdown",
      "id": "3bd9cda2-0ca6-4e61-afc1-a633c219a8a8",
      "metadata": {
        "deletable": false,
        "editable": false,
        "tags": []
      },
      "source": [
        "### Tokenización de palabras usando una Expresión Regular (RegEx)\n",
        "\n",
        "> **Tokenización** se refiere al proceso de romper una cadena de texto en tokens. Los tokens pueden ser palabras, caracteres o morfemas. En este caso, nuestros tokens serán palabras.\n",
        "\n",
        "Utilizaremos una [expresión regular](./skills/regex.ipynb) que busque grupos de letras y apóstrofes. Cuando ejecutemos la Expresión Regular sobre nuestro texto, cada grupo que esta encuentre será una palabra separada.\n",
        "\n",
        "Por ejemplo, en la siguiente cadena:\n",
        "\n",
        "```ójor taq tziij kita' jaa```\n",
        "\n",
        "La Expresión Regular producirá:\n",
        "\n",
        "```[\"ojor\", \"taq\", \"tziij\", \"kita'\", \"jaa\"]```\n",
        "\n",
        "En Uspanteko, las palabras siempre se dividen por signos de puntuación o por espacios en blanco. Por lo tanto, podemos asumir que cada agrupación que contenga sólo letras debe ser una palabra.\n",
        "\n",
        "<div class=\"alert alert-block alert-warning\">\n",
        "Puede que tu lengua necesite de una RegEx personalizada para detectar palabras. Por favor, consulta la lección sobre expresiones regulares para obtener información. También puedes utilizar una herramienta para probar tus RegEx como <a href='https://regex101.com'>regex101</a> y así asegurarse de que su RegEx funciona de la forma que esperas.\n",
        "</div>"
      ]
    },
    {
      "cell_type": "code",
      "execution_count": null,
      "id": "a1c7386d-a990-4494-9172-0a3e1aa60e6a",
      "metadata": {
        "tags": []
      },
      "outputs": [],
      "source": [
        "import re\n",
        "\n",
        "# If your language uses some other character within words (like hyphens) you may need to update this regex appropriately\n",
        "word_regex = r\"[\\w|\\']+\"\n",
        "\n",
        "def tokenize(text: str) -> List[str]:\n",
        "    return re.findall(word_regex, text)\n",
        "\n",
        "words = tokenize(corpus)\n",
        "print(words[:100])"
      ]
    },
    {
      "cell_type": "markdown",
      "id": "89287992-57a0-4cd2-859f-2032cac88831",
      "metadata": {
        "deletable": false,
        "editable": false,
        "tags": []
      },
      "source": [
        "### Crear un lexicon\n",
        "\n",
        "Un **lexicon** se refiere a todo el vocabulario de las palabras utilizadas en el corpus\n",
        "\n",
        "Para crear un lexicon, iteraremos sobre cada palabra a través de todo el corpus. Utilizamos un [set](./skills/sets.ipynb) para crear una lista de todas las palabras únicas en el lexicon. "
      ]
    },
    {
      "cell_type": "markdown",
      "id": "ebf21fbd-bbfd-4204-ba86-886127981bcb",
      "metadata": {
        "deletable": false,
        "editable": true,
        "tags": []
      },
      "source": [
        "#### **Ejercicio 2**\n",
        "Crea un conjunto de todas las palabras únicas en tu corpus y almacénalo en una variable llamada `lexicon`. Imprime como resultado el número de elementos en el lexicon.\n",
        "\n",
        "<details>\n",
        "  <summary>Show answer</summary>\n",
        "      <pre style=\"background-color: honeydew; padding: 10px; border-radius: 5px;\"><code style=\"background: none;\">lexicon = set()\n",
        "for word in words:\n",
        "    lexicon.add(word)</code></pre>\n",
        "      <pre style=\"background-color: honeydew; padding: 10px; border-radius: 5px;\"><code style=\"background: none;\">print(len(lexicon))\n",
        "</code></pre>\n",
        "</details>"
      ]
    },
    {
      "cell_type": "code",
      "execution_count": null,
      "id": "86257940-26f6-43bd-bcf3-7d028b4ecc08",
      "metadata": {
        "tags": []
      },
      "outputs": [],
      "source": [
        "# TODO: Loop over the corpus and add each word to the lexicon\n",
        "\n",
        "\n",
        "# TODO: Print the number of elements in the lexicon\n",
        "\n",
        "\n",
        "# Store the lexicon to permanent storage so we can retrieve it later if needed\n",
        "%store lexicon"
      ]
    },
    {
      "cell_type": "markdown",
      "id": "6e87a36c-a221-4994-8af5-3484092f03d7",
      "metadata": {
        "deletable": false,
        "editable": false,
        "tags": []
      },
      "source": [
        "## **Construyendo un corrector ortográfico**\n",
        "En este punto, tenemos un léxico con todas nuestras palabras y sus frecuencias. Ahora estamos listos para construir nuestro programa de corrección ortográfica. "
      ]
    },
    {
      "cell_type": "markdown",
      "id": "01de21f2-3edc-4101-8e79-98a6ecd2942e",
      "metadata": {
        "deletable": false,
        "editable": false,
        "tags": []
      },
      "source": [
        "### Detectar palabras mal escritas\n",
        "Vamos a crear una función que tomará una frase y encontrará cualquier palabra mal hecha. Para cada palabra, la función comprobará si esta está en nuestro lexicon. Si no está en el lexicon, se contará como un error ortográfico.\n",
        "\n",
        "Ahora mismo, en cualquier momento que encontremos una palabra que no está en nuestro lexicon, la reportaremos como un error ortográfico (incluso si es una nueva palabra escrita correctamente). Mejoraremos esto más tarde."
      ]
    },
    {
      "cell_type": "markdown",
      "id": "3b47ac8a-752c-4439-9abf-2a4f8182d413",
      "metadata": {
        "deletable": false,
        "tags": []
      },
      "source": [
        "#### **Ejercicio 3**\n",
        "Termina el siguiente código para crear una función que encuentra palabras mal hechas.\n",
        "\n",
        "<details>\n",
        "  <summary>Show answer</summary>\n",
        "      <pre style=\"background-color: honeydew; padding: 10px; border-radius: 5px;\"><code style=\"background: none;\">def spellcheck(s: str):\n",
        "    # Preprocess and tokenize\n",
        "    # TODO: Strip accents\n",
        "    s = strip_accents(s)<br/>\n",
        "    # TODO: Make s lowercase\n",
        "    s = s.lower()<br/>\n",
        "    # TODO: Tokenize s\n",
        "    input_tokenized = tokenize(s)<br/>\n",
        "    # TODO: For each word in the input, check if the word is in the lexicon.\n",
        "    # If not, add the word to \"mispelled_words\".\n",
        "    mispelled_words = []<br/>\n",
        "    for word in input_tokenized:\n",
        "        if word not in lexicon:\n",
        "            mispelled_words.append(word)<br/>\n",
        "    return mispelled_words\n",
        "</code></pre>\n",
        "</details>\n",
        "\n",
        "<details>\n",
        "  <summary>Show alternate answer</summary>\n",
        "      <pre style=\"background-color: honeydew; padding: 10px; border-radius: 5px;\"><code style=\"background: none;\">def spellcheck(s: str):\n",
        "        # Preprocess and tokenize\n",
        "    # TODO: Strip accents\n",
        "    s = strip_accents(s)<br/>\n",
        "    # TODO: Make s lowercase\n",
        "    s = s.lower()<br/>\n",
        "    # TODO: Tokenize s\n",
        "    input_tokenized = tokenize(s)<br/>\n",
        "    # TODO: For each word in the input, check if the word is in the lexicon.\n",
        "    # If not, add the word to \"mispelled_words\".\n",
        "    mispelled_words = [word for word in input_tokenized if word not in lexicon]\n",
        "    return mispelled_words</code></pre>\n",
        "</details>"
      ]
    },
    {
      "cell_type": "code",
      "execution_count": null,
      "id": "cee73016-29bc-452c-a26a-de18713fff5e",
      "metadata": {
        "tags": []
      },
      "outputs": [],
      "source": [
        "def spellcheck(s: str):\n",
        "    # Preprocess and tokenize\n",
        "    # TODO: Strip accents\n",
        "    \n",
        "    \n",
        "    # TODO: Make s lowercase\n",
        "    \n",
        "    \n",
        "    # TODO: Tokenize s\n",
        "    \n",
        "    \n",
        "    # TODO: For each word in the input, check if the word is in the lexicon.\n",
        "    # If not, add the word to \"mispelled_words\".\n",
        "    \n",
        "    # TODO: Return mispelled_words\n",
        "\n",
        "# This sentence has one mispelling ('tzijj')\n",
        "test_sentence = \"Kwand xink'uli'k', re ójr taq tzijj in ák'el na.\"\n",
        "mispelled_words = spellcheck(test_sentence)\n",
        "print(\"Mispelled words:\", mispelled_words)\n",
        "print(\"✅ Correct\" if mispelled_words == ['tzijj'] else \"❌ Incorrect\")"
      ]
    },
    {
      "cell_type": "markdown",
      "id": "ad91f7d6-29b0-4bf4-89e2-12f28e53b2b3",
      "metadata": {
        "deletable": false,
        "editable": false,
        "tags": []
      },
      "source": [
        "### Encuentra posiciones de palabras mal escritas\n",
        "En el futuro, tal vez queramos saber *dónde* se encuentran las palabras mal escritas que aparecen en el texto. La siguiente función encuentra la ubicación de palabras erróneas usando nuestra función `spellcheck`."
      ]
    },
    {
      "cell_type": "code",
      "execution_count": null,
      "id": "928fe4e4-4d90-416b-8aa1-cebf16b6a47e",
      "metadata": {
        "tags": []
      },
      "outputs": [],
      "source": [
        "def find_mispelled(text: str):\n",
        "    \"\"\"Finds mispelled words in a string.\n",
        "    :return: A list of tuples. Each tuple is (word, index) where `word` is the mispelled word and `index` is the index where it occurs.\n",
        "    \"\"\"\n",
        "    mispelled_words = spellcheck(text)\n",
        "    \n",
        "    mispelled_words_and_positions = []\n",
        "    \n",
        "    for word in mispelled_words:\n",
        "        # This regex searches for the given word, surrounded by whitespace or punctuation\n",
        "        word_regex = f\"(^|\\W)({word})($|\\W)\"\n",
        "        \n",
        "        # There might be multiple matches if we mispelled a word multiple times\n",
        "        for match in re.finditer(word_regex, text):\n",
        "            mispelled_words_and_positions.append({\n",
        "                'word': word,\n",
        "                'start': match.start(2),\n",
        "                'end': match.start(2) + len(word),\n",
        "                'entity': 'MISPELLED'\n",
        "            })\n",
        "        \n",
        "    # 4. Return the mispelled words, sorted by their position\n",
        "    return {\n",
        "        'text': text,\n",
        "        'entities': sorted(mispelled_words_and_positions, key = lambda x: x['start'])\n",
        "    }\n",
        "\n",
        "print(find_mispelled(test_sentence))"
      ]
    },
    {
      "cell_type": "markdown",
      "id": "79955b23-48a1-43dd-8f1a-3139aa0f65b4",
      "metadata": {
        "deletable": false,
        "editable": false,
        "tags": []
      },
      "source": [
        "## **Haz que el corrector ortográfico sea una aplicación independiente**\n",
        "\n",
        "Nuestra función `find_mispelled` trabaja para detectar errores ortográficos. Pero esto no es una gran herramienta para que un usuario pueda usarlo. Vamos a crear una aplicación independiente que los usuarios puedan usar.\n",
        "\n",
        "Utilizaremos [Gradio](https://gradio.app), un framework gratuito que te permite convertir el código de Python en aplicaciones web compartibles. Usar Gradio es tan fácil como tres líneas de código."
      ]
    },
    {
      "cell_type": "code",
      "execution_count": null,
      "id": "c901a143-3dc7-497b-b5a0-e025ae187ae1",
      "metadata": {
        "tags": []
      },
      "outputs": [],
      "source": [
        "import gradio as gr\n",
        "\n",
        "gr.close_all()\n",
        "\n",
        "spellchecker = gr.Interface(fn=find_mispelled, inputs=\"text\", outputs=\"text\", live=True)\n",
        "spellchecker.launch(share=True)"
      ]
    },
    {
      "cell_type": "markdown",
      "id": "d675821d-b89c-4bf4-81bf-1a854159cc4a",
      "metadata": {
        "deletable": false,
        "editable": false,
        "tags": []
      },
      "source": [
        "### Mejorando la interfaz de usuario\n",
        "\n",
        "Esto funciona muy bien, e incluso podemos compartir nuestra aplicación usando el enlace web de arriba. Ahora, hagamos de la interfaz un poco más agradable."
      ]
    },
    {
      "cell_type": "code",
      "execution_count": null,
      "id": "5ab739a2-ddfb-4d16-8b23-140d6433dca0",
      "metadata": {
        "tags": []
      },
      "outputs": [],
      "source": [
        "gr.close_all()\n",
        "\n",
        "with gr.Blocks(theme=gr.themes.Soft(), title=\"Uspanteko Spellchecker\") as spellchecker:\n",
        "    gr.Markdown(\"# Uspanteko Spellchecker\")\n",
        "    \n",
        "    with gr.Row():\n",
        "        input_textbox = gr.Textbox(label=\"Text\", info=\"Text to spellcheck\", lines=3)\n",
        "        output_textbox = gr.HighlightedText(label=\"Spellchecked\", combine_adjacent=True)\n",
        "    \n",
        "    gr.Examples(\n",
        "        examples=[\"Kwand xink'uli'k', re ójr taq tzijj in ák'el na.\"],\n",
        "        inputs=input_textbox,\n",
        "        outputs=output_textbox,\n",
        "        fn=find_mispelled,\n",
        "    )\n",
        "    \n",
        "    # Connect the input to the output using our function\n",
        "    input_textbox.change(find_mispelled, input_textbox, output_textbox)\n",
        "    \n",
        "    \n",
        "spellchecker.launch(share=True)"
      ]
    },
    {
      "cell_type": "markdown",
      "id": "d9271857-5550-4e22-be9a-5bcaacc1fdc4",
      "metadata": {
        "deletable": false,
        "editable": false,
        "tags": []
      },
      "source": [
        "## **Permitiendo nuevas palabras**\n",
        "Hay algunos problemas con nuestra aplicación. Primero, si el usuario escribe una palabra que está escrita correctamente, pero no aparece en nuestro corpus, esta será marcada como incorrecta.\n",
        "\n",
        "¿Recuerdas cuando guardamos un archivo de nuestro corpus para la prueba? Veamos cuántas palabras no vistas ocurren en ese archivo."
      ]
    },
    {
      "cell_type": "code",
      "execution_count": null,
      "id": "b09ce01a-d9ea-4033-bbda-f1acc5179f78",
      "metadata": {
        "tags": []
      },
      "outputs": [],
      "source": [
        "test_text = \"\"\n",
        "\n",
        "with open(\"../../corpora/usp/50.txt\", 'r') as file:\n",
        "    test_text = file.read()\n",
        "\n",
        "len(find_mispelled(test_text)['entities'])"
      ]
    },
    {
      "cell_type": "markdown",
      "id": "5f756499-d4a5-4c7a-aa8e-39da4c64c59c",
      "metadata": {
        "deletable": false,
        "editable": false,
        "tags": []
      },
      "source": [
        "### Implementando el botón \"Añadir Palabra\" en la interfaz de usuario\n",
        "\n",
        "Hay un montón de errores ortográficos falsos detectados! Esto debido a que nuestro sistema fue construido utilizando sólo un pequeño corpus y por lo tanto no contendrá todas las palabras disponibles (y correctas) de la lengua. Las herramientas comunes de procesamiento de textos resuelven este problema permitiendo al usuario añadir una palabra al lexicon, así que modificaremos nuestra herramienta para hacerlo. \n",
        "\n",
        "Para hacer esto, introduciremos la idea de [State de Gradio](https://gradio.app/docs/#state). Mantener un `State` nos permite usar una variable global en nuestras interfaces de Gradio. Utilizaremos una variable `State` para hacer un seguimiento de las palabras equivocadas.\n",
        "\n",
        "#### **Ejercicio 4**\n",
        "Termina la función `add_word_to_lexicon` para añadir la `palabra` al `lexicon`. El argumento `mispelled` es el resultado de llamar a `find_mispelled`.\n",
        "\n",
        "<details>\n",
        "  <summary>Show answer</summary>\n",
        "      <pre style=\"background-color: honeydew; padding: 10px; border-radius: 5px;\"><code style=\"background: none;\">def add_word_to_lexicon(mispelled):\n",
        "    first_mispelled_word = mispelled['entities'][0]['word']<br/>\n",
        "    lexicon.add(first_mispelled_word)</code></pre>\n",
        "</details>"
      ]
    },
    {
      "cell_type": "code",
      "execution_count": null,
      "id": "d6ab8676-d3b5-47cc-9a8d-ad16ad7bfa79",
      "metadata": {
        "tags": []
      },
      "outputs": [],
      "source": [
        "gr.close_all()\n",
        "\n",
        "def add_word_to_lexicon(mispelled):\n",
        "    # TODO: Add the first mispelled word to the lexicon\n",
        "    \n",
        "\n",
        "# NEW: We'll use this function when the input changes instead of `find_mispelled`. \n",
        "# We need to update 1) the output text, 2) the button, and 3) the global state\n",
        "def input_text_changed(text):\n",
        "    mispelled = find_mispelled(text)\n",
        "    \n",
        "    should_show_button = len(mispelled['entities']) > 0\n",
        "    first_mispelled_word = mispelled['entities'][0]['word'] if should_show_button else ''\n",
        "\n",
        "    # Here we use an \"update\" function to change the textbox properties. Learn more: https://gradio.app/docs/#update\n",
        "    add_to_lexicon_button_updater = gr.Button.update(visible=should_show_button, \n",
        "                                                     value=f\"Add '{first_mispelled_word}' to lexicon\")\n",
        "\n",
        "    return mispelled, add_to_lexicon_button_updater, mispelled\n",
        "\n",
        "    \n",
        "# Interface\n",
        "with gr.Blocks(theme=gr.themes.Soft(), title=\"Uspanteko Spellchecker\") as spellchecker:\n",
        "    # NEW: A 'State' variable that keeps track of the mispelled words\n",
        "    mispelled_words_state = gr.State(None)\n",
        "    \n",
        "    gr.Markdown(\"# Uspanteko Spellchecker\")\n",
        "    \n",
        "    with gr.Row():\n",
        "        input_textbox = gr.Textbox(label=\"Text\", info=\"Text to spellcheck\", lines=3)\n",
        "        \n",
        "        with gr.Column():\n",
        "            output_textbox = gr.HighlightedText(label=\"Spellchecked\", combine_adjacent=True)\n",
        "            \n",
        "            # NEW: A button that adds the first mispelled word to the lexicon\n",
        "            add_word_button = gr.Button(value=f\"Add word to lexicon\", visible=False)\n",
        "            \n",
        "    gr.Examples(\n",
        "        examples=[\"Kwand xink'uli'k', re ójr taq tzijj in ák'el na.\"],\n",
        "        inputs=input_textbox,\n",
        "        outputs=output_textbox,\n",
        "        fn=find_mispelled,\n",
        "    )\n",
        "    \n",
        "    input_textbox.change(input_text_changed, input_textbox, [output_textbox, add_word_button, mispelled_words_state])\n",
        "    \n",
        "    # NEW: Run a function when the button is called, then update the state\n",
        "    add_word_button \\\n",
        "        .click(add_word_to_lexicon, [mispelled_words_state]) \\\n",
        "        .then(input_text_changed, input_textbox, [output_textbox, add_word_button, mispelled_words_state])\n",
        "    \n",
        "        \n",
        "spellchecker.launch(share=True)"
      ]
    },
    {
      "cell_type": "markdown",
      "id": "82380b8a-c3f4-4cdf-9cc7-46f3cd22268e",
      "metadata": {},
      "source": [
        "Ahora, podemos añadir fácilmente palabras que estén correctamente escritas a nuestro diccionario, y no se marcarán como errores en el futuro."
      ]
    },
    {
      "cell_type": "markdown",
      "id": "d068ac35-b4bc-49a1-822c-e51ef2cc8ee0",
      "metadata": {
        "deletable": false,
        "editable": false,
        "tags": []
      },
      "source": [
        "## **Corrección Ortográfica**\n",
        "Por último, sería bueno actualizar nuestro corrector ortográfico para que dé sugerencias para la correcta ortografía cuando haya habido un error. Para ello, necesitamos determinar qué palabra en nuestro léxico está más cerca de lo que se ha escrito. Utilizaremos la **distancia de edición**, una medida de cuántas ediciones (adiciones, eliminaciones, cambios) se necesitan para pasar de una cadena a otra."
      ]
    },
    {
      "cell_type": "code",
      "execution_count": null,
      "id": "f7f39974-5d96-4cd9-991a-5c5885ba222a",
      "metadata": {
        "tags": []
      },
      "outputs": [],
      "source": [
        "import nltk\n",
        "\n",
        "def spelling_suggestions(mispelled_word, n):\n",
        "    # 1. Calculate the edit distance between the word and every word in the lexicon\n",
        "    candidate_spellings = []\n",
        "    \n",
        "    for word in lexicon:\n",
        "        edit_distance = nltk.edit_distance(word, mispelled_word)\n",
        "        candidate_spellings.append((word, edit_distance))\n",
        "    \n",
        "    # 2. Find the top n closest words\n",
        "    sorted_candidates = sorted(candidate_spellings, key=lambda x: (x[1]))\n",
        "    top_n_candidates = sorted_candidates[:n]\n",
        "    top_n_words_only = [candidate[0] for candidate in top_n_candidates]\n",
        "    return top_n_words_only\n",
        "\n",
        "spelling_suggestions(\"tzijj\", 3)"
      ]
    },
    {
      "cell_type": "markdown",
      "id": "dc570d4d-062c-4302-b362-d6d4820b3810",
      "metadata": {
        "deletable": false,
        "editable": false,
        "tags": []
      },
      "source": [
        "### Implementando sugerencias en la interfaz de usuario\n",
        "¡Vamos a implementar esta funcionalidad en la interfaz de usuario!"
      ]
    },
    {
      "cell_type": "code",
      "execution_count": null,
      "id": "bc13b84e-326d-42e0-8062-d328c940da89",
      "metadata": {
        "tags": []
      },
      "outputs": [],
      "source": [
        "gr.close_all()\n",
        "\n",
        "def input_text_changed2(text):\n",
        "    mispelled = find_mispelled(text)\n",
        "    \n",
        "    should_show_button = len(mispelled['entities']) > 0\n",
        "    first_mispelled_word = mispelled['entities'][0]['word'] if should_show_button else ''\n",
        "\n",
        "    add_to_lexicon_button_updater = gr.Button.update(visible=should_show_button, \n",
        "                                                     value=f\"Add '{first_mispelled_word}' to lexicon\")\n",
        "    \n",
        "    # NEW: Generate suggestions for the closest spelling\n",
        "    suggestions = spelling_suggestions(first_mispelled_word, 3)\n",
        "    suggestions_text = \" | \".join(suggestions)\n",
        "\n",
        "    return mispelled, add_to_lexicon_button_updater, mispelled, suggestions_text\n",
        "\n",
        "    \n",
        "# Interface\n",
        "with gr.Blocks(theme=gr.themes.Soft(), title=\"Uspanteko Spellchecker\") as spellchecker:\n",
        "    mispelled_words_state = gr.State(None)\n",
        "    \n",
        "    gr.Markdown(\"# Uspanteko Spellchecker\")\n",
        "    \n",
        "    with gr.Row():\n",
        "        input_textbox = gr.Textbox(label=\"Text\", info=\"Text to spellcheck\", lines=3)\n",
        "        \n",
        "        with gr.Column():\n",
        "            output_textbox = gr.HighlightedText(label=\"Spellchecked\", combine_adjacent=True)\n",
        "            add_word_button = gr.Button(value=f\"Add word to lexicon\", visible=False)\n",
        "            \n",
        "            # NEW: Show suggested spellings\n",
        "            suggestions_textbox = gr.Textbox(label=\"Suggestions\", interactive=False)\n",
        "            \n",
        "    gr.Examples(\n",
        "        examples=[\"Kwand xink'uli'k', re ójr taq tzijj in ák'el na.\"],\n",
        "        inputs=input_textbox,\n",
        "        outputs=output_textbox,\n",
        "        fn=find_mispelled,\n",
        "    )\n",
        "    \n",
        "    input_textbox.change(input_text_changed2, input_textbox, [output_textbox, add_word_button, mispelled_words_state, suggestions_textbox])\n",
        "    \n",
        "    add_word_button \\\n",
        "        .click(add_word_to_lexicon, [mispelled_words_state]) \\\n",
        "        .then(input_text_changed2, input_textbox, [output_textbox, add_word_button, mispelled_words_state, suggestions_textbox])\n",
        "    \n",
        "        \n",
        "spellchecker.launch(share=True)"
      ]
    },
    {
      "cell_type": "markdown",
      "id": "624dd3af-c5fd-40ae-839d-d61c282a06fc",
      "metadata": {
        "deletable": false,
        "editable": false,
        "tags": []
      },
      "source": [
        "**Resumen**\n",
        "En este tutorial, hemos creado un corrector ortográfico para una lengua poco estudiada/documentada. Esto incluye:\n",
        "- Construir un lexicon a partir de textos\n",
        "- Detectar palabras mal escritas\n",
        "- Predecir la ortografía correcta usando métricas de similitud\n",
        "\n",
        "### **Desafíos**\n",
        "1. Ahora mismo, nuestro corrector ortográfico sólo te permite añadir la primera palabra errónea al lexicon. Mejora esta funcionalidad creando dos botones nuevos. Un botón que te permita **Agregar todas** palabras erróneas al léxico. El otro botón que te permita **Ignorar** una palabra equivocada y moverte a la siguiente. \n",
        "2. Nuestro corrector ortográfico muestra sugerencias, pero no te permite hacer nada con ellas. Reemplaza el cuadro de texto con botones para cada sugerencia. Cuando hagas clic en una sugerencia, esto debería reemplazar la palabra errónea en el cuadro de texto."
      ]
    },
    {
      "cell_type": "code",
      "execution_count": null,
      "id": "e64b2aa5-4bf9-41d7-88c2-573a63eb1a79",
      "metadata": {},
      "outputs": [],
      "source": []
    }
  ],
  "metadata": {
    "kernelspec": {
      "display_name": "Python 3 (ipykernel)",
      "language": "python",
      "name": "python3"
    },
    "language_info": {
      "codemirror_mode": {
        "name": "ipython",
        "version": 3
      },
      "file_extension": ".py",
      "mimetype": "text/x-python",
      "name": "python",
      "nbconvert_exporter": "python",
      "pygments_lexer": "ipython3",
      "version": "3.10.6"
    }
  },
  "nbformat": 4,
  "nbformat_minor": 5
}