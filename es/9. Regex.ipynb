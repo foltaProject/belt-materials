{
  "cells": [
    {
      "cell_type": "markdown",
      "id": "5e6ef1b1-815d-4f01-b509-8f448ef156f6",
      "metadata": {
        "deletable": false,
        "editable": false,
        "tags": []
      },
      "source": [
        "# **Usando Expresiones Regulares para buscar texto**\n",
        "Esta lección cubre expresiones regulares, o **regex**, una potente herramienta para buscar y analizar texto. Las Expresiones Regulares son más difíciles que la mayoría de los conceptos que hemos cubierto hasta ahora, pero pueden ser invaluables para el procesamiento del lenguaje.\n",
        "\n",
        "### ¿Por qué son útiles las Expresiones Regulares (Regex)?\n",
        "Supongamos que está tratando de comprobar si una cadena de texto coincide con una posible edad. Sabemos que la cadena debe ser sólo dígitos numéricos y no más de 3 caracteres de largo, así que podríamos escribir la siguiente declaración `if`:"
      ]
    },
    {
      "cell_type": "code",
      "execution_count": null,
      "id": "5e042ef3-c890-4377-824c-ae4afce243e3",
      "metadata": {
        "tags": []
      },
      "outputs": [],
      "source": [
        "age_string = \"64\"\n",
        "\n",
        "if len(age_string) <= 3 and age_string.isnumeric():\n",
        "    print(\"The string is an age\")"
      ]
    },
    {
      "cell_type": "markdown",
      "id": "36130146-59f3-4e92-a9a4-63df44b7c7d8",
      "metadata": {
        "deletable": false,
        "editable": false,
        "tags": []
      },
      "source": [
        "Sin embargo, ¿qué pasa si estamos tratando de hacer coincidir una cadena que contiene un nombre *y* una edad, en el formato `\"Hannah, 42\"`. Con las herramientas que tenemos para analizar texto, no hay forma obvia de hacerlo. \n",
        "\n",
        "Con las Regex, esto es fácil. Podemos escribir la siguiente **cadena de patrones regex** que describe el patrón que buscamos comparar."
      ]
    },
    {
      "cell_type": "code",
      "execution_count": null,
      "id": "7c02e414-7276-4a49-98c3-5e2d9af9c830",
      "metadata": {
        "tags": []
      },
      "outputs": [],
      "source": [
        "import re\n",
        "\n",
        "name_age_pattern = r\"^[A-Za-z]+, [0-9]{1,3}$\"\n",
        "\n",
        "if re.search(name_age_pattern, \"Hannah, 42\"):\n",
        "    print(\"'Hannah, 42' matches\")\n",
        "    \n",
        "if re.search(name_age_pattern, \"Hannah\"):\n",
        "    print(\"'Hannah' matches\")\n",
        "    \n",
        "if re.search(name_age_pattern, \"42\"):\n",
        "    print(\"'42' matches\")"
      ]
    },
    {
      "cell_type": "markdown",
      "id": "17089020-96a7-4c20-af90-4483b5239d86",
      "metadata": {
        "deletable": false,
        "editable": false,
        "tags": []
      },
      "source": [
        "Por medio del `re.search(patrón, cadena)` se devuelve la primera coincidencia para el patrón en la cadena, o `ninguno` si no hay coincidencia.\n",
        "\n",
        "### Componentes de una Expresión Regular de ejemplo\n",
        "Desglosemos el patrón `^[A-Za-z]+, [0-9]{1,3}$`. \n",
        "\n",
        "Primero, `^` coincide con el inicio de la cadena.\n",
        "\n",
        "A continuación, el conjunto corchetado `[A-Za-z]` indica cualquier letra en el alfabeto, sea mayúscula o minúscula. Añadir `+` permite que el patrón coincida con una o más letras."
      ]
    },
    {
      "cell_type": "code",
      "execution_count": null,
      "id": "5ddc092d-e509-455e-9604-0cbf02999dce",
      "metadata": {
        "tags": []
      },
      "outputs": [],
      "source": [
        "letter_pattern = r\"^[A-Za-z]+$\"\n",
        "\n",
        "print(re.search(letter_pattern, \"Hello\")) # Matches\n",
        "print(re.search(letter_pattern, \"12344\")) # Doesn't match\n",
        "print(re.search(letter_pattern, \"Hello1234\")) # Doesn't match"
      ]
    },
    {
      "cell_type": "markdown",
      "id": "3b055a3e-6201-4a84-995d-2789b17474ae",
      "metadata": {
        "deletable": false,
        "editable": false,
        "tags": []
      },
      "source": [
        "A continuación, el patrón `, ` coincide con una coma literal y espacio. En regex, la escritura de caracteres no especiales coincide con la cadena exacta."
      ]
    },
    {
      "cell_type": "code",
      "execution_count": null,
      "id": "0d9fdb1b-92dc-4150-95a2-82d928625df6",
      "metadata": {
        "tags": []
      },
      "outputs": [],
      "source": [
        "exact_pattern = r\"^Hello$\"\n",
        "\n",
        "print(re.search(exact_pattern, \"Hello\")) # Matches\n",
        "print(re.search(exact_pattern, \"Hi\")) # Doesn't match\n",
        "print(re.search(exact_pattern, \"Hello1234\")) # Doesn't match"
      ]
    },
    {
      "cell_type": "markdown",
      "id": "92d3f099-d2af-4cb4-b677-2f0cc5843cc2",
      "metadata": {
        "deletable": false,
        "editable": false,
        "tags": []
      },
      "source": [
        "El apartado `[0-9]` indica que coincida con cualquier carácter de dígito, y `{1,3}` indica que debe contar con entre 1 y 3 dígitos.  "
      ]
    },
    {
      "cell_type": "code",
      "execution_count": null,
      "id": "baeaa5ac-3840-41db-8b6a-537b2be1b079",
      "metadata": {
        "tags": []
      },
      "outputs": [],
      "source": [
        "digit_pattern = r\"^[0-9]{1,3}$\"\n",
        "\n",
        "print(re.search(digit_pattern, \"72\")) # Matches\n",
        "print(re.search(digit_pattern, \"1\")) # Matches\n",
        "print(re.search(digit_pattern, \"882\")) # Matches\n",
        "print(re.search(digit_pattern, \"1002\")) # Doesn't match, too many digits\n",
        "print(re.search(digit_pattern, \"a12\")) # Doesn't match, includes non-digit"
      ]
    },
    {
      "cell_type": "markdown",
      "id": "882449a9-f0d8-4f6b-9a06-7bd3b0b752b3",
      "metadata": {
        "deletable": false,
        "editable": false,
        "tags": []
      },
      "source": [
        "Finalmente, el carácter `$` indica el final de la cadena."
      ]
    },
    {
      "cell_type": "markdown",
      "id": "dfa84e00-c090-40b2-b935-b28b20b198d0",
      "metadata": {
        "deletable": false,
        "editable": false,
        "tags": []
      },
      "source": [
        "## **Usando Expresuiones Regulares (Regex) para buscar**\n",
        "Si queremos hacer coincidir una cadena de texto entera con un patrón, ponemos `^` y `$` en el principio y el final del patrón. Sin embargo, si queremos coincidir con un patrón *en cualquier lugar de la cadena*, podemos omitir este carácter. Por ejemplo, podemos encontrar el primer fragmento de letras en la cadena de texto usando la siguiente expresión regular."
      ]
    },
    {
      "cell_type": "code",
      "execution_count": null,
      "id": "2217ca24-4d44-4677-a3c8-76c920538552",
      "metadata": {
        "tags": []
      },
      "outputs": [],
      "source": [
        "letters_pattern = r\"[A-Za-z]+\"\n",
        "\n",
        "print(re.search(letters_pattern, \"The quick brown fox jumped over the lazy dog\"))"
      ]
    },
    {
      "cell_type": "markdown",
      "id": "4e9eb65c-3157-40b9-8782-100222415abb",
      "metadata": {
        "deletable": false,
        "editable": false,
        "tags": []
      },
      "source": [
        "Si queremos encontrar *todas* las coincidencias para una Expresión Regular en una cadena de texto, podemos usar `re.findall`."
      ]
    },
    {
      "cell_type": "code",
      "execution_count": null,
      "id": "cfe56c78-3e00-4d3a-a5f3-b8d99546cad9",
      "metadata": {
        "tags": []
      },
      "outputs": [],
      "source": [
        "print(re.findall(letters_pattern, \"The quick brown fox jumped over the lazy dog\"))"
      ]
    },
    {
      "cell_type": "markdown",
      "id": "85463e6e-f7ab-488d-9f2e-4f19aa10643f",
      "metadata": {
        "deletable": false,
        "editable": false,
        "tags": []
      },
      "source": [
        "Podemos ver cómo esto sería útil para separar las palabras en un archivo de texto sin procesar. "
      ]
    },
    {
      "cell_type": "markdown",
      "id": "e07981ed-971e-4224-a22d-2c53a7372f2e",
      "metadata": {
        "deletable": false,
        "editable": false,
        "tags": []
      },
      "source": [
        "## **Caracteres especiales de las Expresiones Regulares (Regex)**\n",
        "Regex tiene un número de caracteres especiales útiles para facilitar la coincidencia de patrones. Consulta la lista completa [here](https://www.w3schools.com/python/python_regex.asp).\n",
        "\n",
        "Has visto el `+`, que indica coincidencia de una o más instancias de un símbolo. También podemos usar `*`, que indica cero o más instancias de coincidencia, y `?``, que indica cero o una instancia de coincidencia."
      ]
    },
    {
      "cell_type": "code",
      "execution_count": null,
      "id": "355e27d9-c694-4f82-8935-c7e38b70a2ff",
      "metadata": {
        "tags": []
      },
      "outputs": [],
      "source": [
        "plus_pattern     = r\"^A+$\"\n",
        "star_pattern     = r\"^A*$\"\n",
        "optional_pattern = r\"^A?$\"\n",
        "\n",
        "for string in [\"\", \"A\", \"AA\"]:\n",
        "    if re.search(plus_pattern, string) != None:\n",
        "        print(f\"'{string}' matches {plus_pattern}\")\n",
        "    if re.search(star_pattern, string) != None:\n",
        "        print(f\"'{string}' matches {star_pattern}\")\n",
        "    if re.search(optional_pattern, string) != None:\n",
        "        print(f\"'{string}' matches {optional_pattern}\")\n",
        "    print('\\n')"
      ]
    },
    {
      "cell_type": "markdown",
      "id": "7b2e588b-589a-4c1a-ada3-9e4f4897d6b1",
      "metadata": {
        "deletable": false,
        "editable": false,
        "tags": []
      },
      "source": [
        "#### **Ejercicio 1**\n",
        "Crea una Expresión Regular que busque la coincidencia de uno o más caracteres `A` seguidos por uno o cero caracteres `B`.\n",
        "\n",
        "<details>\n",
        "  <summary>Show answer</summary>\n",
        "      <pre style=\"background-color: honeydew; padding: 10px; border-radius: 5px;\"><code style=\"background: none;\">ab_pattern = \"^A+B?$\" </code></pre>\n",
        "</details>"
      ]
    },
    {
      "cell_type": "code",
      "execution_count": null,
      "id": "26ad4a2b-6393-4120-8477-e4a5198ebdb2",
      "metadata": {
        "tags": []
      },
      "outputs": [],
      "source": [
        "# TODO: Replace the following with your own regex\n",
        "ab_pattern = \"\" \n",
        "\n",
        "print(re.search(ab_pattern, \"AAB\") != None, \"Should be true\")\n",
        "print(re.search(ab_pattern, \"AA\") != None, \"Should be true\")\n",
        "print(re.search(ab_pattern, \"AABBB\") != None, \"Should be false\")\n",
        "print(re.search(ab_pattern, \"BB\") != None, \"Should be false\")"
      ]
    },
    {
      "cell_type": "markdown",
      "id": "0c7e8a42-17d4-4153-8182-c2862a57824c",
      "metadata": {
        "deletable": false,
        "editable": false,
        "tags": []
      },
      "source": [
        "### Secuencias especiales\n",
        "También podemos usar las siguientes secuencias especiales como atajos para patrones comunes.\n",
        "- `\\d` coincide con un carácter dígito (número)\n",
        "- `\\s` coincide con un carácter de espacio en blanco (espacio, nueva línea, tabulado, etc.)\n",
        "- `\\w` coincide con un carácter de palabra (letra, dígito, o guión bajo)"
      ]
    },
    {
      "cell_type": "code",
      "execution_count": null,
      "id": "7e161a38-fa56-4ebd-952d-f5f3de86a554",
      "metadata": {
        "tags": []
      },
      "outputs": [],
      "source": [
        "word_pattern = r\"\\w+\"\n",
        "number_pattern = r\"\\d+\"\n",
        "whitespace_pattern = r\"\\s+\"\n",
        "\n",
        "print(re.findall(word_pattern, \"The 22 quick brown foxes jumped over the 304 lazy dogs\"))\n",
        "print(re.findall(number_pattern, \"The 22 quick brown foxes jumped over the 304 lazy dogs\"))\n",
        "print(re.findall(whitespace_pattern, \"The 22 quick brown foxes jumped over the 304 lazy dogs\"))"
      ]
    },
    {
      "cell_type": "markdown",
      "id": "6ba84087-499c-4f15-8a60-a03aaff70d10",
      "metadata": {
        "deletable": false,
        "editable": false,
        "tags": []
      },
      "source": [
        "Si queremos coincidir con un carácter que es un carácter especial, podemos usar la barra inversa `\\` para **escapar** del carácter especial (quitar su función de carácter especial)."
      ]
    },
    {
      "cell_type": "code",
      "execution_count": null,
      "id": "30322691-1663-4dc9-8379-e8da7140258d",
      "metadata": {
        "tags": []
      },
      "outputs": [],
      "source": [
        "title_pattern = r\"\\w+\\.\" # Matches some word characters followed by a period\n",
        "\n",
        "print(re.findall(title_pattern, \"Mr. Smith and Mrs. Smith went to Dr. Hartman for help\"))"
      ]
    },
    {
      "cell_type": "markdown",
      "id": "21bcbb1e-281c-4906-80dd-cacc93f42dd0",
      "metadata": {
        "deletable": false,
        "editable": false,
        "tags": []
      },
      "source": [
        "#### **Ejercicio 2**\n",
        "Crea una Regex que coincida con palabras enteras de 1-3 letras de largo. Las palabras deben estar rodeadas de espacios a ambos lados.\n",
        "\n",
        "<details>\n",
        "  <summary>Show answer</summary>\n",
        "      <pre style=\"background-color: honeydew; padding: 10px; border-radius: 5px;\"><code style=\"background: none;\">short_word_pattern = r\"\\s\\w{1,3}\\s\" </code></pre>\n",
        "</details>"
      ]
    },
    {
      "cell_type": "code",
      "execution_count": null,
      "id": "f67e7772-2616-4b34-8a43-b60cdbc484a4",
      "metadata": {
        "tags": []
      },
      "outputs": [],
      "source": [
        "# TODO: Replace the following with your own regex\n",
        "short_word_pattern = r\"\" \n",
        "\n",
        "print(re.findall(short_word_pattern, \" I am going to the mall with my family \"))"
      ]
    },
    {
      "cell_type": "markdown",
      "id": "2483c208-8607-48a6-bac1-8d1ba770f7ba",
      "metadata": {
        "deletable": false,
        "editable": false,
        "tags": []
      },
      "source": [
        "### Conjuntos**\n",
        "Hemos visto unos cuantos conjuntos de expresiones regulares, que te permiten buscar coincidencias de varios caracteres diferentes.\n",
        "- `[A-Z]` coincide con todas las letras mayúsculas\n",
        "- `[a-z]` coincide con todas las minúsculas\n",
        "- `[0-9]` coincide con todos los dígitos (también puedes usar `\\d`)\n",
        "- `[xyz]` coincide con `x`, `y`, o `z`\n",
        "- `[^xyz]` coincide con cualquier cosa *excepto* `x`, `y`, o `z`"
      ]
    },
    {
      "cell_type": "markdown",
      "id": "a54c06cc-3b9f-4a18-8e36-5b20f39d1e0c",
      "metadata": {
        "deletable": false,
        "editable": false,
        "tags": []
      },
      "source": [
        "#### **Ejercicio 3**\n",
        "Crea una Expresión Regular que coincida con cualquier cadena de caracteres, rodeada de espacios, que **no** contengan dígitos.\n",
        "\n",
        "<details>\n",
        "  <summary>Show answer</summary>\n",
        "      <pre style=\"background-color: honeydew; padding: 10px; border-radius: 5px;\"><code style=\"background: none;\">short_word_pattern = r\"\\s\\w{1,3}\\s\" </code></pre>\n",
        "</details>"
      ]
    },
    {
      "cell_type": "code",
      "execution_count": null,
      "id": "c01e9082-260b-48a7-9dea-420d2d24a50b",
      "metadata": {
        "tags": []
      },
      "outputs": [],
      "source": [
        "# TODO: Replace the following with your own regex\n",
        "no_numbers_pattern = r\"\" \n",
        "\n",
        "print(re.findall(no_numbers_pattern, \" hello hell0 123 coo1 easy 3ASY \"))"
      ]
    },
    {
      "cell_type": "markdown",
      "id": "58e41a88-362a-4624-bfbb-35293e95d480",
      "metadata": {
        "deletable": false,
        "editable": false,
        "tags": []
      },
      "source": [
        "#### **Ejercicio 4**\n",
        "Utilice una Expresión Regular para extraer todos los nombres en el siguiente texto, donde los nombres comienzan con una letra mayúscula y sólo contienen letras.\n",
        "\n",
        "<details>\n",
        "  <summary>Show answer</summary>\n",
        "      <pre style=\"background-color: honeydew; padding: 10px; border-radius: 5px;\"><code style=\"background: none;\">name_regex = r\"[A-Z][a-z]+\"\n",
        "print(re.findall(name_regex, text))</code></pre>\n",
        "</details>"
      ]
    },
    {
      "cell_type": "code",
      "execution_count": null,
      "id": "a8d77f5c-9742-45a0-a477-07abaad19182",
      "metadata": {
        "tags": []
      },
      "outputs": [],
      "source": [
        "text = \"Sarah told Ally and Michael that Henry was coming to her party with Chris\"\n",
        "\n",
        "# TODO: Extract all of the names using a regex and findall\n"
      ]
    },
    {
      "cell_type": "markdown",
      "id": "686761bb-9e0d-4544-bfaf-5c0ffc56b4a6",
      "metadata": {},
      "source": [
        "## **Conclusión**\n",
        "En esta lección aprendimos a usar Expresiones Regulares para analizar texto.\n",
        "- Usando metacaracteres como `+` y `*` para coincidir con un número particular de caracteres\n",
        "- Usando secuencias especiales como `\\d` y `\\w` para coincidir con los tipos comunes de símbolos\n",
        "- Usando conjuntos como `[A-Z]` para que coincidan con uno de varios caracteres posibles\n",
        "\n",
        "Las expresiones regulares son una herramienta increíblemente útil para el procesamiento del lenguaje, aunque su sintaxis puede ser intimidante. La mejor forma de sentirse cómodo usando Expresiones Regulares es creándolas y probándolas tú mismo. Puede utilizar herramientas como [regex101](https://regex101.com) para probar expresiones regulares con actualizaciones en vivo.\n",
        "\n",
        "A continuación, echaremos un vistazo a la utilización de herramientas de aprendizaje automático en Python.\n",
        "\n",
        "[Next Lesson](<./10. Machine Learning.ipynb>)"
      ]
    },
    {
      "cell_type": "code",
      "execution_count": null,
      "id": "581ad277-4153-4739-9d02-722d9dee1a3f",
      "metadata": {
        "deletable": false,
        "editable": false,
        "tags": []
      },
      "outputs": [],
      "source": []
    }
  ],
  "metadata": {
    "kernelspec": {
      "display_name": "Python 3 (ipykernel)",
      "language": "python",
      "name": "python3"
    },
    "language_info": {
      "codemirror_mode": {
        "name": "ipython",
        "version": 3
      },
      "file_extension": ".py",
      "mimetype": "text/x-python",
      "name": "python",
      "nbconvert_exporter": "python",
      "pygments_lexer": "ipython3",
      "version": "3.10.6"
    }
  },
  "nbformat": 4,
  "nbformat_minor": 5
}