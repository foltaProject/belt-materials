{
  "cells": [
    {
      "cell_type": "markdown",
      "id": "d7f1935e-6740-41ff-89e1-4e6f4b901eaf",
      "metadata": {
        "deletable": false,
        "editable": false,
        "tags": []
      },
      "source": [
        "# **Juegos de palabras**\n",
        "\n",
        "Para completar nuestros proyectos, crearemos divertidos juegos de palabras que pueden ser utilizados para el disfrute y el aprendizaje de las lenguas. Estos proyectos no deberían ser demasiado complejos técnicamente, pero te permitirán usar tus habilidades de Python de una manera creativa y divertida."
      ]
    },
    {
      "cell_type": "markdown",
      "id": "5ce52ed7-ef75-4165-9656-837ad9f8b124",
      "metadata": {
        "deletable": false,
        "editable": false,
        "tags": []
      },
      "source": [
        "## **Descifrador de palabras**\n",
        "Para el primer juego, vamos a proporcionar al azar una palabra donde las letras se mezclan, y el usuario tiene que descifrar la palabra.\n",
        "\n",
        "### Preparación de datos\n",
        "Primero, cargaremos el corpus. Para este proyecto, usaremos un corpus del latín (pero te invitamos a usar el corpus del Inglés, Uspanteko o el tuyo propio!"
      ]
    },
    {
      "cell_type": "code",
      "execution_count": null,
      "id": "9943a59c-9649-454c-a7df-2376f07ee218",
      "metadata": {
        "tags": []
      },
      "outputs": [],
      "source": [
        "# Load our data\n",
        "import util\n",
        "\n",
        "# REPLACE WITH YOUR CORPUS DIRECTORY\n",
        "corpus = util.load_raw_text(corpus_directory=\"../../corpora/lat\")"
      ]
    },
    {
      "cell_type": "markdown",
      "id": "b4f3142d-dbd8-4025-92bf-c4e03a042c92",
      "metadata": {
        "deletable": false,
        "editable": false,
        "tags": []
      },
      "source": [
        "#### **Ejercicio 1**\n",
        "Necesitamos un conjunto de todas las palabras únicas en el corpus. Siguiendo el enfoque utilizado en los proyectos del corrector ortográfico y el predictor de texto, haz lo siguiente:\n",
        "1. Quitar los acentos\n",
        "2. Hacer el texto en minúscula\n",
        "3. Tokenizar\n",
        "4. Crear y llenar un conjunto llamado `lexicon` con todas las palabras únicas.\n",
        "\n",
        "Puedes usar cualquier función en el archivo `util.py`.\n",
        "\n",
        "<details>\n",
        "  <summary>Show answer</summary>\n",
        "      <pre style=\"background-color: honeydew; padding: 10px; border-radius: 5px;\"><code style=\"background: none;\">import re\n",
        "\n",
        "corpus = util.strip_accents(corpus)\n",
        "corpus = corpus.lower()\n",
        "\n",
        "def tokenize(text: str):\n",
        "    return re.findall(word_regex, text)\n",
        "\n",
        "words = tokenize(corpus)\n",
        "\n",
        "lexicon = set()\n",
        "for word in words:\n",
        "    lexicon.add(word)</code></pre></details>"
      ]
    },
    {
      "cell_type": "code",
      "execution_count": null,
      "id": "7d55f74d-ca3f-4edb-bb20-fe2dd41c59a7",
      "metadata": {
        "tags": []
      },
      "outputs": [],
      "source": [
        "word_regex = r\"[a-z]+\"\n",
        "\n",
        "# TODO: See above!\n",
        "\n",
        "print(len(lexicon), \"unique words\")"
      ]
    },
    {
      "cell_type": "markdown",
      "id": "b28dcae7-030b-4f2d-85a3-c049cd664858",
      "metadata": {
        "deletable": false,
        "editable": false,
        "tags": []
      },
      "source": [
        "A continuación, vamos a filtrar cualquier palabra de menos de 4 letras (ya que serían demasiado fáciles) y de más de 8 letras (pues serían demasiado difíciles)."
      ]
    },
    {
      "cell_type": "code",
      "execution_count": null,
      "id": "9c13525e-13b0-4714-8020-d7b40a5cbf2b",
      "metadata": {
        "tags": []
      },
      "outputs": [],
      "source": [
        "filtered_lexicon = set()\n",
        "\n",
        "for word in lexicon:\n",
        "    if 4 <= len(word) <= 8:\n",
        "        filtered_lexicon.add(word)\n",
        "\n",
        "print(len(filtered_lexicon))"
      ]
    },
    {
      "cell_type": "markdown",
      "id": "6f721e59-9a98-480c-90ad-a19be92e5c26",
      "metadata": {
        "deletable": false,
        "editable": false,
        "tags": []
      },
      "source": [
        "### Mezclando y seleccionando una palabra aleatoria\n",
        "Vamos a construir una función que elija una palabra aleatoria y la mezcle."
      ]
    },
    {
      "cell_type": "code",
      "execution_count": null,
      "id": "e5e4d06b-bf6f-4a64-b968-7d01ecbf7dc3",
      "metadata": {
        "tags": []
      },
      "outputs": [],
      "source": [
        "import random\n",
        "\n",
        "def random_scramble(lexicon: set):\n",
        "    lexicon = list(lexicon)\n",
        "    \n",
        "    word = random.choice(lexicon)\n",
        "    \n",
        "    # Turn the word into a list of characters \n",
        "    word_chars = list(word)\n",
        "    \n",
        "    # Shuffle those characters\n",
        "    random.shuffle(word_chars)\n",
        "    \n",
        "    # Re-join the characters into a string\n",
        "    shuffled = ''.join(word_chars)\n",
        "    \n",
        "    return {'shuffled': shuffled, 'original': word}\n",
        "\n",
        "random_scramble(filtered_lexicon)"
      ]
    },
    {
      "cell_type": "markdown",
      "id": "ac919d83-890d-4164-a457-99d3b01ebb0e",
      "metadata": {
        "deletable": false,
        "editable": false,
        "tags": []
      },
      "source": [
        "### Construir una aplicación\n",
        "Por último, usamos esta función para construir un bucle donde el usuario adivina una palabra, y la aplicación les dice si era correcta o no."
      ]
    },
    {
      "cell_type": "code",
      "execution_count": null,
      "id": "f41dfd5c-0302-4aa7-9c7f-32e7fe7b9092",
      "metadata": {
        "tags": []
      },
      "outputs": [],
      "source": [
        "import gradio as gr\n",
        "from typing import Tuple\n",
        "\n",
        "def scrambler_game(current_word, guess: str):\n",
        "    \"\"\"\n",
        "    If `guess` is the correct word, return 'Correct' and pick a new word. Otherwise, return 'Incorrect'\n",
        "    Returns (correct_label, scrambled_word, current_word)\n",
        "    \"\"\"\n",
        "    if guess == current_word['original']:\n",
        "        current_word = random_scramble(filtered_lexicon)\n",
        "        return ('Correct', current_word['shuffled'], current_word)\n",
        "    else:\n",
        "        return ('Incorrect', current_word['shuffled'], current_word)\n",
        "    \n",
        "\n",
        "def new_word():\n",
        "    current_word = random_scramble(filtered_lexicon)\n",
        "    return ('', current_word['shuffled'], current_word)\n",
        "                \n",
        "                \n",
        "with gr.Blocks(theme=gr.themes.Soft(), title=\"Latin Unscramble\") as unscramble:\n",
        "    # Start with some initial word\n",
        "    current_word = gr.State(random_scramble(filtered_lexicon))\n",
        "    \n",
        "    gr.Markdown(\"# Latin Unscramble\")\n",
        "    \n",
        "    # Notice how we set the initial value based on the State\n",
        "    scrambled_textbox = gr.Textbox(label=\"Scrambled\", interactive=False, value=current_word.value['shuffled'])\n",
        "    \n",
        "    guess_textbox = gr.Textbox(label=\"Guess\")\n",
        "    guess_button = gr.Button(value=\"Submit\")\n",
        "    \n",
        "    new_word_button = gr.Button(value=\"New Word\")\n",
        "    \n",
        "    output_textbox = gr.Textbox(label=\"Result\", interactive=False)\n",
        "    \n",
        "    guess_button.click(fn=scrambler_game, inputs=[current_word, guess_textbox], outputs=[output_textbox, scrambled_textbox, current_word])\n",
        "    new_word_button.click(fn=new_word, inputs=[], outputs=[output_textbox, scrambled_textbox, current_word])\n",
        "    \n",
        "unscramble.launch(share=True)"
      ]
    },
    {
      "cell_type": "markdown",
      "id": "0aff71aa-2310-47cd-b5ca-41e540f3f671",
      "metadata": {
        "deletable": false,
        "editable": false,
        "tags": []
      },
      "source": [
        "### **Ejercicio 2**\n",
        "Modifica el juego de descifrar con una o más de las siguientes características:\n",
        "- Añade la habilidad de obtener una pista, como la primera letra de la palabra sin cifrar\n",
        "- Dale - al usuario un número limitado de intentos para adivinar cada palabra\n",
        "- Mantén un seguimiento de cuántas veces el usuario ha adivinado la palabra correcta\n",
        "- Borrar la respuesta del usuario después de hacer clic en \"Enviar\""
      ]
    },
    {
      "cell_type": "code",
      "execution_count": null,
      "id": "0ef3ce92-9ecd-4fc8-9663-9bc43fe97ecf",
      "metadata": {
        "tags": []
      },
      "outputs": [],
      "source": [
        "# TODO: Your improved word games app!"
      ]
    },
    {
      "cell_type": "markdown",
      "id": "495b7efb-c0ed-4979-a4e6-1255c6e97203",
      "metadata": {
        "deletable": false,
        "editable": false,
        "tags": []
      },
      "source": [
        "## **El ahorcado**\n",
        "\n",
        "A continuación, vamos a implementar el juego del ahorcado en nuestra lengua de trabajo. En este juego, el ordenador elige una palabra aleatoria, y el jugador adivina una letra a la vez. El jugador sólo puede tener 6 letras incorrectas antes de perder el juego."
      ]
    },
    {
      "cell_type": "code",
      "execution_count": null,
      "id": "91fced9d-d8d5-43cc-8b4d-f5b78ed3ef57",
      "metadata": {
        "tags": []
      },
      "outputs": [],
      "source": [
        "def create_hangman_clue(word, guessed_letters):\n",
        "    \"\"\"\n",
        "    Given a word and a list of letters, create the correct clue. \n",
        "    \n",
        "    For instance, if the word is 'apple' and the guessed letters are 'a' and 'l', the clue should be 'a _ _ l _'\n",
        "    \"\"\"\n",
        "    clue = ''\n",
        "    for letter in word:\n",
        "        if letter in guessed_letters:\n",
        "            clue += letter + ' '\n",
        "        else:\n",
        "            clue += '_ '\n",
        "    return clue\n",
        "    \n",
        "\n",
        "def pick_new_word(lexicon):\n",
        "    lexicon = list(lexicon)\n",
        "    \n",
        "    return {\n",
        "        'word': random.choice(lexicon),\n",
        "        'guessed_letters': set(),\n",
        "        'remaining_chances': 6\n",
        "    }\n",
        "\n",
        "\n",
        "def hangman_game(current_state, guess):\n",
        "    \"\"\"Update the current state based on the guess.\"\"\"\n",
        "    guess = guess.lower()\n",
        "    \n",
        "    if guess in current_state['guessed_letters'] or len(guess) > 1:\n",
        "        # Illegal guess, do nothing\n",
        "        return (current_state, 'Invalid guess')\n",
        "    \n",
        "    current_state['guessed_letters'].add(guess)\n",
        "    \n",
        "    if guess not in current_state['word']:\n",
        "        # Wrong guess\n",
        "        current_state['remaining_chances'] -= 1\n",
        "        \n",
        "        if current_state['remaining_chances'] == 0:\n",
        "            # No more chances! New word\n",
        "            current_state = pick_new_word(filtered_lexicon)\n",
        "            return (current_state, 'You lose!')\n",
        "        else:\n",
        "            return (current_state, 'Wrong guess :(')\n",
        "        \n",
        "    else:\n",
        "        # Right guess, check if there's any letters left\n",
        "        for letter in current_state['word']:\n",
        "            if letter not in current_state['guessed_letters']:\n",
        "                # Still letters remaining\n",
        "                return (current_state, 'Correct guess!')\n",
        "        \n",
        "        # If we made it here, there's no letters left.\n",
        "        current_state = pick_new_word(filtered_lexicon)\n",
        "        return (current_state, 'You win!')\n",
        "    \n",
        "\n",
        "def state_changed(current_state):\n",
        "    clue = create_hangman_clue(current_state['word'], current_state['guessed_letters'])\n",
        "    guessed_letters = current_state['guessed_letters']\n",
        "    remaining_chances = current_state['remaining_chances']\n",
        "    return (clue, guessed_letters, remaining_chances)\n",
        "\n",
        "\n",
        "with gr.Blocks(theme=gr.themes.Soft(), title=\"Latin Hangman\") as hangman:\n",
        "    current_word = gr.State(pick_new_word(filtered_lexicon))\n",
        "    \n",
        "    gr.Markdown(\"# Latin Hangman\")\n",
        "    \n",
        "    with gr.Row():\n",
        "        current_word_textbox = gr.Textbox(label=\"Clue\", interactive=False, value=create_hangman_clue(current_word.value['word'], current_word.value['guessed_letters']))\n",
        "        guessed_letters_textbox = gr.Textbox(label=\"Guessed letters\", interactive=False)\n",
        "        remaining_chances_textbox = gr.Textbox(label=\"Remaining chances\", interactive=False, value=6)\n",
        "    \n",
        "    guess_textbox = gr.Textbox(label=\"Guess\")\n",
        "    guess_button = gr.Button(value=\"Submit\")\n",
        "    \n",
        "    output_textbox = gr.Textbox(label=\"Result\", interactive=False)\n",
        "    \n",
        "    guess_button.click(fn=hangman_game, inputs=[current_word, guess_textbox], outputs=[current_word, output_textbox])\\\n",
        "                .then(fn=state_changed, inputs=[current_word], outputs=[current_word_textbox, guessed_letters_textbox, remaining_chances_textbox])\n",
        "    \n",
        "hangman.launch(share=True)"
      ]
    },
    {
      "cell_type": "markdown",
      "id": "afb907fb-2730-4e8f-89c0-029de393cbd5",
      "metadata": {
        "deletable": false,
        "editable": false,
        "tags": []
      },
      "source": [
        "### **Ejercicio 3**\n",
        "Modificar el juego del ahorcado con una o más de las siguientes características:\n",
        "- Agrega la capacidad de obtener una pista, como una letra gratuita\n",
        "- Cuando el jugador pierda una partida, muestra la palabra correcta\n",
        "- Mantén un seguimiento de cuántas veces gana el jugador y pierde"
      ]
    },
    {
      "cell_type": "code",
      "execution_count": null,
      "id": "8d41886b-0b74-4c7c-81ec-146b44a2f2db",
      "metadata": {
        "tags": []
      },
      "outputs": [],
      "source": [
        "# TODO: Your improved hangman game"
      ]
    },
    {
      "cell_type": "markdown",
      "id": "97a647f2-7cda-48cc-982b-7641768a78fc",
      "metadata": {
        "deletable": false,
        "editable": false,
        "tags": []
      },
      "source": [
        "## **Construye tu propio juego**\n",
        "Por último, para comprobar realmente cuánto has aprendido, elige algún juego de palabras y constrúyelo con un idioma de tu elección. Algunas ideas incluyen [Wordle](https://www.nytimes.com/games/wordle/index.html), que implica hacer tantas palabras sea posible a partir de un conjunto de letras, o la rueda de la Fortuna."
      ]
    },
    {
      "cell_type": "code",
      "execution_count": null,
      "id": "470eaacc-46f8-4bee-8ee7-666181357e75",
      "metadata": {
        "tags": []
      },
      "outputs": [],
      "source": [
        "# TODO: Your very own word game"
      ]
    },
    {
      "cell_type": "markdown",
      "id": "86f6baef-2e7b-449b-b787-93656dec0169",
      "metadata": {
        "deletable": false,
        "editable": false,
        "tags": []
      },
      "source": [
        "**Resumen**\n",
        "En este tutorial construimos algunos juegos lingüísticos fáciles y divertidos. Esto incluye:\n",
        "- Selección y mezcla aleatoria de palabras al azar\n",
        "- Creación de la lógica del juego\n",
        "- Más experiencia con Gradio\n",
        "\n",
        "Aunque no es tan técnicamente complejo como algunos de los otros proyectos, Los juegos de palabras son una gran manera de ayudar en el aprendizaje de las lenguas, que es fundamental para una lengua en peligro.\n",
        "\n",
        "Si has llegado tan lejos, esperemos que hayas aprendido mucho sobre la construcción de tecnologías lingüística, incluso cuando los recursos son muy limitados. Esperamos que hayas disfrutado del BELT y puedas empezar a utilizar estas habilidades en el mundo real!"
      ]
    },
    {
      "cell_type": "code",
      "execution_count": null,
      "id": "f15a030f-e16e-4e80-b51b-527f4c5ee560",
      "metadata": {},
      "outputs": [],
      "source": []
    }
  ],
  "metadata": {
    "kernelspec": {
      "display_name": "Python 3 (ipykernel)",
      "language": "python",
      "name": "python3"
    },
    "language_info": {
      "codemirror_mode": {
        "name": "ipython",
        "version": 3
      },
      "file_extension": ".py",
      "mimetype": "text/x-python",
      "name": "python",
      "nbconvert_exporter": "python",
      "pygments_lexer": "ipython3",
      "version": "3.10.6"
    }
  },
  "nbformat": 4,
  "nbformat_minor": 5
}