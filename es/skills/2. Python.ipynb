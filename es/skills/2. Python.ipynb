{
  "cells": [
    {
      "cell_type": "markdown",
      "id": "37243115-4963-412e-8c6f-80ecedde36dc",
      "metadata": {
        "deletable": false,
        "editable": false,
        "tags": []
      },
      "source": [
        "# **Introducción a Python**\n",
        "¡Bienvenido a tu primera clase de Skills! En esta primer Skill, cubriremos un breve resumen de Python, suponiendo que no tengas experiencia de programación.\n",
        "\n",
        "## **El lenguaje Python**\n",
        "[Python](https://www.python.org) es un lenguaje de programación popular utilizado tanto en contextos científicos como en el desarrollo de software. Esto hace de Python una gran opción para construir tecnologías lingüísticas, ya que combina poderosas herramientas para analizar datos (como R o Matlab) con frameworks para construir aplicaciones reales y utilizables (como C o Java).\n",
        "\n",
        "<div class=\"alert alert-block alert-info\">\n",
        "    La mayoría de las aplicaciones en lenguas estándar, como Microsoft Word, no funcionan con Python por varias razones. Sin embargo, creemos que en el contexto del desarrollo de lenguas poco estudiadas/documentadas, Python es la mejor alternativa para iniciar rápidamente con aplicaciones útiles.\n",
        "</div>\n",
        "\n",
        "Echemos un vistazo a cómo funciona Python."
      ]
    },
    {
      "cell_type": "markdown",
      "id": "3fa4db0d-9a37-464e-9175-da217fdec437",
      "metadata": {
        "deletable": false,
        "editable": false,
        "tags": []
      },
      "source": [
        "### Ejecución del código\n",
        "Como la mayoría de los lenguajes de programación, Python ejecuta línea de código por línea, en el orden en que lo escribes. Por ejemplo, la siguiente celda imprimirá tres nombres en el orden en que fueron escritos."
      ]
    },
    {
      "cell_type": "code",
      "execution_count": null,
      "id": "cc6378ed-6d1b-4e4a-83f7-b86d7577bb4b",
      "metadata": {
        "tags": []
      },
      "outputs": [],
      "source": [
        "print(\"Adam\")\n",
        "print(\"Beth\")\n",
        "print(\"Charlie\")"
      ]
    },
    {
      "cell_type": "markdown",
      "id": "1df61f99-8032-4905-9a32-09a2cc7a8f78",
      "metadata": {
        "deletable": false,
        "editable": false,
        "tags": []
      },
      "source": [
        "### Comentarios\n",
        "Un comentario es un fragmento de texto que no afecta al código y que se indica con el símbolo `#`. Utilizaremos comentarios para explicar líneas de código."
      ]
    },
    {
      "cell_type": "code",
      "execution_count": null,
      "id": "0f743101-099e-4186-b317-45b363b659f4",
      "metadata": {
        "tags": []
      },
      "outputs": [],
      "source": [
        "# Hi, I'm a comment\n",
        "# I don't affect the code at all\n",
        "# I can have as many of these as I want\n",
        "print(\"Hi\")"
      ]
    },
    {
      "cell_type": "markdown",
      "id": "e268abcc-41be-4f6c-92d6-8804d751a89d",
      "metadata": {
        "deletable": false,
        "editable": false,
        "tags": []
      },
      "source": [
        "## **Variables**\n",
        "Python usa **variables** para almacenar valores. Por ejemplo, el siguiente código crea una variable llamada `name` y le asigna el valor \"Michael\"."
      ]
    },
    {
      "cell_type": "code",
      "execution_count": null,
      "id": "fab2a04e-44e1-444e-84af-3fcc0bad7a8f",
      "metadata": {
        "tags": []
      },
      "outputs": [],
      "source": [
        "name = \"Michael\""
      ]
    },
    {
      "cell_type": "markdown",
      "id": "e242e30c-b0bb-47d2-88da-ef77f284d0b2",
      "metadata": {
        "deletable": false,
        "editable": false,
        "tags": []
      },
      "source": [
        "Ahora, podemos acceder a esa variable, y el valor será el mismo."
      ]
    },
    {
      "cell_type": "code",
      "execution_count": null,
      "id": "465183ec-38cf-4479-a3de-8051aac8b68c",
      "metadata": {
        "tags": []
      },
      "outputs": [],
      "source": [
        "print(name)"
      ]
    },
    {
      "cell_type": "markdown",
      "id": "7cae5aca-5bda-48b7-9606-e96eb7ccd3e1",
      "metadata": {
        "deletable": false,
        "editable": false,
        "tags": []
      },
      "source": [
        "También podemos cambiar el valor de la variable si lo deseamos:"
      ]
    },
    {
      "cell_type": "code",
      "execution_count": null,
      "id": "65209f9d-e84c-4728-addc-fddf86b4a73f",
      "metadata": {
        "tags": []
      },
      "outputs": [],
      "source": [
        "name = \"John\"\n",
        "print(name)"
      ]
    },
    {
      "cell_type": "markdown",
      "id": "79639d4a-e282-418d-82d2-3a69c2ccf687",
      "metadata": {
        "deletable": false,
        "editable": false,
        "tags": []
      },
      "source": [
        "Las variables pueden contener valores de muchos tipos diferentes. Aprenderás más sobre los diferentes tipos de valores en **Tipos de datos**.\n",
        "\n",
        "<div class=\"alert alert-block alert-info\">\n",
        "    En Python, es estándar nombrar las variables usando el <b>snake case</b>, es decir, usando todas las letras minúsculas y guiones bajos entre palabras.\n",
        "</div>"
      ]
    },
    {
      "cell_type": "code",
      "execution_count": null,
      "id": "c37c53e8-826f-4f3b-91b5-aafbe37a8760",
      "metadata": {
        "tags": []
      },
      "outputs": [],
      "source": [
        "number = 5\n",
        "decimal_number = 5.01\n",
        "list_of_numbers = [1, 2, 3]\n",
        "\n",
        "print(number)\n",
        "print(decimal_number)\n",
        "print(list_of_numbers)"
      ]
    },
    {
      "cell_type": "markdown",
      "id": "20b8718f-c6bf-4564-8cea-a16ffe630ddb",
      "metadata": {
        "deletable": false,
        "editable": false,
        "tags": []
      },
      "source": [
        "Podemos realizar operaciones sobre variables, como sumar (para números) o concatenar (para cadenas de texto)."
      ]
    },
    {
      "cell_type": "code",
      "execution_count": null,
      "id": "05269998-3e11-454d-a0c1-80ae19715079",
      "metadata": {
        "tags": []
      },
      "outputs": [],
      "source": [
        "number_a = 1\n",
        "number_b = 2\n",
        "\n",
        "print(number_a + number_b)\n",
        "\n",
        "str_a = \"hello \"\n",
        "str_b = \"world\"\n",
        "\n",
        "print(str_a + str_b)"
      ]
    },
    {
      "cell_type": "markdown",
      "id": "b5e82eae-4a98-451f-b46b-950da54c9449",
      "metadata": {
        "deletable": false,
        "editable": false,
        "tags": []
      },
      "source": [
        "#### **Ejercicio 1**\n",
        "Crea una variable llamada `my_name` y asígnale una cadena de texto que contenga tu nombre. Luego, imprime esa variable.\n",
        "\n",
        "<details>\n",
        "  <summary>Show answer</summary>\n",
        "      <pre style=\"background-color: honeydew; padding: 10px; border-radius: 5px;\"><code style=\"background: none;\">my_name = \"Michael\"\n",
        "print(my_name)</code></pre>\n",
        "</details>"
      ]
    },
    {
      "cell_type": "code",
      "execution_count": null,
      "id": "79e44089-e250-40db-b5d5-81e8941082d8",
      "metadata": {
        "tags": []
      },
      "outputs": [],
      "source": [
        "# TODO: Exercise 1"
      ]
    },
    {
      "cell_type": "markdown",
      "id": "b86745ed-b789-4a98-97ce-bdb2137c1990",
      "metadata": {
        "deletable": false,
        "editable": false,
        "tags": []
      },
      "source": [
        "Las variables mantendrán su valor entre las celdas, pero no entre las sesiones de Jupyter; si cierras el entorno, tus variables serán borradas.\n",
        "\n",
        "***"
      ]
    },
    {
      "cell_type": "markdown",
      "id": "a28a1370-1e80-42f4-9ac2-9b61618c32d7",
      "metadata": {
        "deletable": false,
        "editable": false,
        "tags": []
      },
      "source": [
        "## **Funciones**\n",
        "Un componente clave de la mayoría de los lenguajes de programación son las **funciones**. Una función es un bloque de código que puede ser reutilizado varias veces. Por ejemplo, supongamos que deseamos hacer un programa que calcule el cuadrado de un montón de números. Podríamos hacer lo siguiente:"
      ]
    },
    {
      "cell_type": "code",
      "execution_count": null,
      "id": "1f575cc1-f60c-450d-af18-a1123f4cb7b7",
      "metadata": {
        "tags": []
      },
      "outputs": [],
      "source": [
        "a = 1\n",
        "b = 2\n",
        "c = 3\n",
        "d = 4\n",
        "\n",
        "print(a * a)\n",
        "print(b * b)\n",
        "print(c * c)\n",
        "print(d * d)"
      ]
    },
    {
      "cell_type": "markdown",
      "id": "1a4a21f7-9562-41e6-a2c7-799c41c4edd3",
      "metadata": {
        "deletable": false,
        "editable": false,
        "tags": []
      },
      "source": [
        "Pero esto es un poco redundante. En su lugar, podemos crear una función que tome un número y devuelva el cuadrado de ese número:"
      ]
    },
    {
      "cell_type": "code",
      "execution_count": null,
      "id": "8e9b18e1-d216-4977-aa90-83ff7702f8c7",
      "metadata": {
        "tags": []
      },
      "outputs": [],
      "source": [
        "def calculate_square(number):\n",
        "    return number * number\n",
        "\n",
        "print(calculate_square(a))\n",
        "print(calculate_square(b))\n",
        "print(calculate_square(c))\n",
        "print(calculate_square(d))"
      ]
    },
    {
      "cell_type": "markdown",
      "id": "adfc00eb-13d6-4b96-ba40-5f2f8176e446",
      "metadata": {
        "deletable": false,
        "editable": false,
        "tags": []
      },
      "source": [
        "Aquí, hemos creado una función llamada `calculate_square` que toma un solo parámetro llamado `number`. La función **regresa** un valor usando la palabra clave `return`.\n",
        "\n",
        "Observa cómo Python usa sangría para indicar la estructura. El código dentro de la función está indentado usando la tecla de tabulación. Más adelante veremos otras estructuras que requieren sangría.\n",
        "\n",
        "Las funciones no tienen por qué tener parámetros:"
      ]
    },
    {
      "cell_type": "code",
      "execution_count": null,
      "id": "019eff59-e316-43cc-ba87-03b54e213262",
      "metadata": {
        "tags": []
      },
      "outputs": [],
      "source": [
        "def return_my_name():\n",
        "    return \"Michael\"\n",
        "\n",
        "print(return_my_name())"
      ]
    },
    {
      "cell_type": "markdown",
      "id": "8f73b52b-d7bb-4320-9ee4-e0c71a8bb84e",
      "metadata": {
        "deletable": false,
        "editable": false,
        "tags": []
      },
      "source": [
        "Las funciones también pueden tomar varios parámetros:"
      ]
    },
    {
      "cell_type": "code",
      "execution_count": null,
      "id": "f79d39d2-a458-46ef-be3b-998cbb09001e",
      "metadata": {
        "tags": []
      },
      "outputs": [],
      "source": [
        "def add_numbers(a, b, c):\n",
        "    return a + b + c\n",
        "\n",
        "print(add_numbers(1, 2, 3))"
      ]
    },
    {
      "cell_type": "markdown",
      "id": "af658421-d246-4493-aace-3a6227b8ee99",
      "metadata": {
        "deletable": false,
        "editable": false,
        "tags": []
      },
      "source": [
        "Las funciones tampoco tienen que tener un valor de retorno:"
      ]
    },
    {
      "cell_type": "code",
      "execution_count": null,
      "id": "4003a886-1f5f-401e-8d5e-de0f7ea18701",
      "metadata": {
        "tags": []
      },
      "outputs": [],
      "source": [
        "def print_greeting(name):\n",
        "    print(\"Hello, \", name)\n",
        "    \n",
        "print_greeting(\"Michael\")"
      ]
    },
    {
      "cell_type": "markdown",
      "id": "a7316f32-05d5-4311-bdaf-fb0edbefe919",
      "metadata": {
        "deletable": false,
        "editable": false,
        "tags": []
      },
      "source": [
        "#### **Ejercicio 2**\n",
        "Crea una función llamada `concatenate` que toma tres cadenas, las concatena juntas, y devuelve esa cadena. Por ejemplo, usando \n",
        "\n",
        "```python\n",
        "concatenate(\"Hola, \", \"¿cómo estás?\", \"Jane?\")\n",
        "``` \n",
        "\n",
        "debería devolver `\"Hola, ¿cómo estás haciendo, Jane?\"`\n",
        "\n",
        "<details>\n",
        "  <summary>Show answer</summary>\n",
        "      <pre style=\"background-color: honeydew; padding: 10px; border-radius: 5px;\"><code style=\"background: none;\">def concatenate(str1, str2, str3):\n",
        "    return str1 + str2 + str3</code></pre>\n",
        "</details>"
      ]
    },
    {
      "cell_type": "code",
      "execution_count": null,
      "id": "9365481e-07f2-4263-b6a3-ccff63372f6c",
      "metadata": {
        "tags": []
      },
      "outputs": [],
      "source": [
        "# TODO: Create your function here:\n",
        "\n",
        "\n",
        "print(concatenate(\"Hello\", \"how are you doing, \", \"Jane?\"))"
      ]
    },
    {
      "cell_type": "markdown",
      "id": "06cdc547-e580-499d-a163-4737ad83ab4c",
      "metadata": {
        "deletable": false,
        "editable": false,
        "tags": []
      },
      "source": [
        "Aunque estas funciones son muy sencillas, empezaremos a ver funciones cada vez más complicadas. Por ejemplo, cuando construyamos un corrector ortográfico, podremos tener una función que compruebe un bloque de texto y devuelva las palabras equivocadas.\n",
        "\n",
        "***"
      ]
    },
    {
      "cell_type": "markdown",
      "id": "c8dc5d4f-2eb9-4b41-9e23-1af29b926c4c",
      "metadata": {
        "deletable": false,
        "editable": false,
        "tags": []
      },
      "source": [
        "## **Usando módulos de Python**\n",
        "Un beneficio clave de Python es la capacidad de utilizar **módulos**, que contienen código que otras personas han escrito. Hay módulos Python para una amplia gama de tareas, incluyendo manipular texto, realizar cálculos de matemáticas e incluso construir sistemas avanzados de aprendizaje automático.\n",
        "\n",
        "Para usar un módulo, simplemente lo importamos."
      ]
    },
    {
      "cell_type": "code",
      "execution_count": null,
      "id": "5023617a-71e5-40ae-8d8e-9ec641b829de",
      "metadata": {
        "tags": []
      },
      "outputs": [],
      "source": [
        "import math\n",
        "\n",
        "# Calculates the square root\n",
        "print(math.sqrt(4))"
      ]
    },
    {
      "cell_type": "markdown",
      "id": "e65fc0cc-d0a8-41a4-887d-3d6934b017ea",
      "metadata": {
        "deletable": false,
        "editable": false,
        "tags": []
      },
      "source": [
        "Aquí, hemos importado la función `sqrt` del módulo `math`, que calcula la raíz cuadrada. Si solo queremos usar esta función, podemos importarla directamente haciendo:"
      ]
    },
    {
      "cell_type": "code",
      "execution_count": null,
      "id": "707ce61c-26cb-4684-8827-1303628df1e1",
      "metadata": {
        "tags": []
      },
      "outputs": [],
      "source": [
        "from math import sqrt\n",
        "\n",
        "print(sqrt(4))"
      ]
    },
    {
      "cell_type": "markdown",
      "id": "d6d8f98c-a491-48fa-987d-ed82a86fa38a",
      "metadata": {},
      "source": [
        "También podemos cambiar el nombre de un paquete importado. Podríamos hacer esto para acortar el nombre."
      ]
    },
    {
      "cell_type": "code",
      "execution_count": null,
      "id": "0f632aa4-4d5a-41c7-a17e-6fe29812a3d7",
      "metadata": {
        "tags": []
      },
      "outputs": [],
      "source": [
        "import math as m\n",
        "\n",
        "print(m.sqrt(4))"
      ]
    },
    {
      "cell_type": "markdown",
      "id": "3c20452c-2c5f-40da-a3a3-9f2cbeb76646",
      "metadata": {
        "deletable": false,
        "editable": false,
        "tags": []
      },
      "source": [
        "Nuestro entorno Python viene con una variedad de módulos preinstalados como `math`, `random`, y `re`. También hemos instalado un número de paquetes de terceros, que puedes ver usando el siguiente comando:"
      ]
    },
    {
      "cell_type": "code",
      "execution_count": null,
      "id": "f4531a91-2cf7-4677-bde2-caf5bf9cb222",
      "metadata": {
        "tags": []
      },
      "outputs": [],
      "source": [
        "%pip list"
      ]
    },
    {
      "cell_type": "markdown",
      "id": "a60a180b-e85f-4326-a079-082f2e383f71",
      "metadata": {
        "deletable": false,
        "editable": false,
        "tags": []
      },
      "source": [
        "Los módulos de Python a menudo pueden ahorrarte mucho trabajo, por lo que siempre es una buena idea revisarlos cuando necesites alguna función.\n",
        "\n",
        "#### **Ejercicio 3**\n",
        "Importa el módulo `random` y úsalo para imprimir un entero aleatorio entre 1 y 10. Consulta https://docs.python.org/3/library/random.html para obtener información sobre qué funciones están disponibles.\n",
        "\n",
        "<details>\n",
        "  <summary>Show answer</summary>\n",
        "      <pre style=\"background-color: honeydew; padding: 10px; border-radius: 5px;\"><code style=\"background: none;\">import random\n",
        "print(random.randint(1, 10))</code></pre>\n",
        "</details>"
      ]
    },
    {
      "cell_type": "code",
      "execution_count": null,
      "id": "64e3e48c-76e4-4d0c-aa4f-fae49ce642f0",
      "metadata": {
        "tags": []
      },
      "outputs": [],
      "source": [
        "# TODO: Print a random integer between 1 and 10"
      ]
    },
    {
      "cell_type": "markdown",
      "id": "cf28150b-721f-447c-b849-6bc2e0890940",
      "metadata": {
        "deletable": false,
        "editable": false,
        "tags": []
      },
      "source": [
        "**Resumen**\n",
        "En esta lección, cubrimos una variedad de conceptos básicos de Python.\n",
        "- Comentarios, usados para anotar código sin afectarlo\n",
        "- Variables, que mantienen los valores\n",
        "- Funciones, utilizadas para escribir bloques reutilizables de código\n",
        "- Importación de módulos, para utilizar herramientas y frameworks de Python preexistentes\n",
        "\n",
        "A continuación, aprenderemos más sobre los tipos de valores que se pueden utilizar en las variables.\n",
        "\n",
        "[Next Lesson](<./3. Data Types.ipynb>)"
      ]
    },
    {
      "cell_type": "code",
      "execution_count": null,
      "id": "5b3fa8db-e598-4030-ad7d-da5d5e22cae6",
      "metadata": {},
      "outputs": [],
      "source": []
    }
  ],
  "metadata": {
    "kernelspec": {
      "display_name": "Python 3 (ipykernel)",
      "language": "python",
      "name": "python3"
    },
    "language_info": {
      "codemirror_mode": {
        "name": "ipython",
        "version": 3
      },
      "file_extension": ".py",
      "mimetype": "text/x-python",
      "name": "python",
      "nbconvert_exporter": "python",
      "pygments_lexer": "ipython3",
      "version": "3.10.6"
    }
  },
  "nbformat": 4,
  "nbformat_minor": 5
}