{
  "cells": [
    {
      "cell_type": "markdown",
      "id": "694ef20a-2f2c-4d27-972d-d5f53a4b7753",
      "metadata": {
        "deletable": false,
        "editable": false,
        "tags": []
      },
      "source": [
        "# **Leyendo y escribiendo archivos**\n",
        "Este conjunto de habilidades se centrará en técnicas específicas relevantes para la construcción de tecnologías lingüísticas.\n",
        "\n",
        "A menudo necesitaremos leer en los archivos de corpus y escribir texto. Por suerte, Python hace que sea fácil hacerlo."
      ]
    },
    {
      "cell_type": "markdown",
      "id": "0a9ef92a-32af-43a9-9c94-d594035f3ded",
      "metadata": {
        "deletable": false,
        "editable": false,
        "tags": []
      },
      "source": [
        "## **Leyendo archivos**\n",
        "Para leer en un archivo, usaremos lo siguiente:"
      ]
    },
    {
      "cell_type": "code",
      "execution_count": null,
      "id": "c29f0c38-9838-473b-85f3-8554cde4da64",
      "metadata": {
        "tags": []
      },
      "outputs": [],
      "source": [
        "with open('./sometext.txt', 'r') as file:\n",
        "    print(file.read())"
      ]
    },
    {
      "cell_type": "markdown",
      "id": "1f0f1378-7d09-41b9-be54-2e50dec4f562",
      "metadata": {
        "deletable": false,
        "editable": false,
        "tags": []
      },
      "source": [
        "El argumento `'r'` indica que estamos abriendo el archivo para ser leído ('r'ead). No podemos leer y escribir y archivos al mismo tiempo.\n",
        "\n",
        "### Bloques With\n",
        "Esta es nuestra primera vez usando un bloque `With`. \n",
        "\n",
        "```python\n",
        "with statement as variable:\n",
        "    do something using variable\n",
        "```\n",
        "\n",
        "Cuando abrimos un archivo para leer o escribir, debemos cerrar el archivo cuando terminemos de usarlo. Podemos hacer esto manualmente, usando `file.close()`, pero el bloque `With` maneja el cierre de manera automática y asegura que sólo se tenga el archivo abierto durante el tiempo que se necesita."
      ]
    },
    {
      "cell_type": "markdown",
      "id": "4be06263-d3b1-4d55-82b9-8d5c8e763e61",
      "metadata": {
        "deletable": false,
        "editable": false,
        "tags": []
      },
      "source": [
        "#### **Ejercicio 1**\n",
        "Lee en el archivo `sometext.txt` en una cadena, luego convierte esa cadena en minúscula e imprímela.\n",
        "\n",
        "<details>\n",
        "  <summary>Show answer</summary>\n",
        "      <pre style=\"background-color: honeydew; padding: 10px; border-radius: 5px;\"><code style=\"background: none;\">with open('sometext.txt', 'r') as file:\n",
        "    my_string = file.read()\n",
        "    print(my_string.lower())</code></pre>\n",
        "</details>"
      ]
    },
    {
      "cell_type": "code",
      "execution_count": null,
      "id": "61c1bed8-50bc-4544-a756-7d6b49b0f490",
      "metadata": {
        "tags": []
      },
      "outputs": [],
      "source": [
        "# TODO: Read in sometext.txt to a string\n",
        "\n",
        "# TODO: Make the string lowercase and print it\n"
      ]
    },
    {
      "cell_type": "markdown",
      "id": "7307f74d-ae30-4b35-b472-a5bc0fd86f43",
      "metadata": {
        "deletable": false,
        "editable": false,
        "tags": []
      },
      "source": [
        "## **Escribiendo archivos**\n",
        "Escribir archivos de texto es muy similar. En lugar de usar `'r'`, usamos`'w'` ('w'rite) para sobrescribir o `'a'` para añadir a un archivo. Podemos escribir en un archivo, incluso si aún no existe."
      ]
    },
    {
      "cell_type": "code",
      "execution_count": null,
      "id": "ebe5e19e-7d71-495f-9dcf-f9484f9a4f0e",
      "metadata": {
        "tags": []
      },
      "outputs": [],
      "source": [
        "# Overwrite anything in the file\n",
        "with open('newfile.txt', 'w') as file:\n",
        "    file.write(\"Hello, file!\")\n",
        "    \n",
        "# Add to the end of the file\n",
        "with open('newfile.txt', 'a') as file:\n",
        "    file.write(\"\\nAnd here's some more\")"
      ]
    },
    {
      "cell_type": "markdown",
      "id": "51f9b99f-a9d6-4bf4-84ca-d67393cb256e",
      "metadata": {
        "deletable": false,
        "editable": false,
        "tags": []
      },
      "source": [
        "#### **Ejercicio 2**\n",
        "Lee el archivo `sometext.txt` en una cadena, minúscula, y dividida por espacios. Luego, crea un diccionario de todas las palabras únicas y su número de ocurrencias en el texto. Finalmente, escribe un nuevo archivo llamado `wordcounts.txt` donde cada línea es una palabra y su número de ocurrencias.\n",
        "\n",
        "<details>\n",
        "  <summary>Show answer</summary>\n",
        "      <pre style=\"background-color: honeydew; padding: 10px; border-radius: 5px;\"><code style=\"background: none;\">with open('sometext.txt', 'r') as file:\n",
        "    text = file.read()\n",
        "    text = text.lower()\n",
        "    text = text.split()<br/>\n",
        "words = dict()\n",
        "for word in text:\n",
        "    if word in words:\n",
        "        words[word] += 1\n",
        "    else:\n",
        "        words[word] = 1<br/>\n",
        "with open('wordcounts.txt', 'w') as file:\n",
        "    for word in words:\n",
        "        file.write(f\"{word}:\\t{words[word]}\\n\")</code></pre>\n",
        "</details>"
      ]
    },
    {
      "cell_type": "code",
      "execution_count": null,
      "id": "f16f69ba-38ab-493e-a19a-304f389f0606",
      "metadata": {
        "tags": []
      },
      "outputs": [],
      "source": [
        "# TODO: Exercise 2"
      ]
    },
    {
      "cell_type": "markdown",
      "id": "521512ba-9894-4ce1-88d9-a4269d572e4d",
      "metadata": {
        "deletable": false,
        "editable": false,
        "tags": []
      },
      "source": [
        "**Resumen**\n",
        "En esta lección, aprendiste acerca de la lectura y escritura de archivos en Python.\n",
        "- Los archivos sólo pueden abrirse para ser leídos *o* escritos, un proceso a la vez\n",
        "- Los bloques `With` ayudan a gestionar el cierre de archivos automáticamente\n",
        "\n",
        "A continuación, hablaremos de construir aplicaciones reales con la plataforma Gradio.\n",
        "\n",
        "[Next Lesson](<./8. Gradio.ipynb>)"
      ]
    },
    {
      "cell_type": "code",
      "execution_count": null,
      "id": "33198116-5c68-4698-a5d8-8c055cfa10a0",
      "metadata": {},
      "outputs": [],
      "source": []
    }
  ],
  "metadata": {
    "kernelspec": {
      "display_name": "Python 3 (ipykernel)",
      "language": "python",
      "name": "python3"
    },
    "language_info": {
      "codemirror_mode": {
        "name": "ipython",
        "version": 3
      },
      "file_extension": ".py",
      "mimetype": "text/x-python",
      "name": "python",
      "nbconvert_exporter": "python",
      "pygments_lexer": "ipython3",
      "version": "3.10.6"
    }
  },
  "nbformat": 4,
  "nbformat_minor": 5
}