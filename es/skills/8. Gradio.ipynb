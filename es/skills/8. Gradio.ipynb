{
  "cells": [
    {
      "cell_type": "markdown",
      "id": "81188c38-16bb-4b64-8e46-4299b9f4bed8",
      "metadata": {
        "deletable": false,
        "editable": false,
        "tags": []
      },
      "source": [
        "# **Construyendo aplicaciones con Gradio**\n",
        "\n",
        "Hasta ahora, nos hemos centrado en las técnicas de programación para manipular datos y cadenas. Sin embargo, para construir aplicaciones usables y reales, también necesitaremos cierta experiencia desarrollando la interfaz de usuario (UI) para sus tecnologías lingüísticas.\n",
        "\n",
        "Python tiene muchos frameworks para el desarrollo de la interfaz de usuario; usaremos [Gradio](https://gradio.app). Gradio es fácil de usar, crea bonitas interfaces y tiene opciones para implementar aplicaciones en Internet. Puede que Gradio no sea el framework que termine utilizando, pero las habilidades que aprenderá pueden aplicarse a cualquier otro framework de interfaz de usuario (UI).\n",
        "\n",
        "<div class=\"alert alert-block alert-warning\">\n",
        "    La mayoría de las herramientas lingüísticas de la industria utilizan un lenguaje de programación distinto de Python para la interfaz de usuario real, como JavaScript (para sitios web) o C++ (para aplicaciones de escritorio). Sin embargo, Python funciona para nuestros propósitos y se facilita pues ponemos en uso las habilidades que ya hemos aprendido en aplicaciones reales.\n",
        "</div>"
      ]
    },
    {
      "cell_type": "markdown",
      "id": "e435fce8-d825-44ac-adda-802c938d9982",
      "metadata": {
        "deletable": false,
        "editable": false,
        "tags": []
      },
      "source": [
        "## **Interfaz de Gradio**\n",
        "El uso más simple de Gradio es crear una interfaz automáticamente basada en una función. Por ejemplo, supongamos que escribimos una función que crea una cadena con todas las minúsculas y invierte los caracteres:"
      ]
    },
    {
      "cell_type": "code",
      "execution_count": null,
      "id": "a6eb9d8f-965c-4e3e-8d6b-fcdcebdfcdc8",
      "metadata": {
        "tags": []
      },
      "outputs": [],
      "source": [
        "def lower_and_reverse(string):\n",
        "    string = string.lower()\n",
        "    string = string[::-1]\n",
        "    return string\n",
        "\n",
        "lower_and_reverse(\"Hi there\")"
      ]
    },
    {
      "cell_type": "markdown",
      "id": "453130d2-dd4c-4f96-9298-19c2ddacb4c7",
      "metadata": {
        "deletable": false,
        "editable": false,
        "tags": []
      },
      "source": [
        "Podemos utilizar esto con Gradio sin ningún esfuerzo, como sigue:"
      ]
    },
    {
      "cell_type": "code",
      "execution_count": null,
      "id": "5cbcffda-fbfa-4aa5-90ab-80b60f3b967f",
      "metadata": {
        "tags": []
      },
      "outputs": [],
      "source": [
        "import gradio as gr\n",
        "\n",
        "interface = gr.Interface(fn=lower_and_reverse, inputs=\"text\", outputs=\"text\")\n",
        "interface.launch()"
      ]
    },
    {
      "cell_type": "markdown",
      "id": "2e003303-ba27-46bb-bf8e-9346fe8739c8",
      "metadata": {
        "deletable": false,
        "editable": false,
        "tags": []
      },
      "source": [
        "### Múltiples entradas y salidas\n",
        "¿Qué ocurre si tenemos múltiples entradas o salidas? Veamos un ejemplo de una función que concatena dos cadenas juntas en sus dos posibles órdenes y devuelve las cadenas en esos dos posibles órdenes."
      ]
    },
    {
      "cell_type": "code",
      "execution_count": null,
      "id": "262d3bbf-86eb-48e9-abc6-98445422fdf9",
      "metadata": {
        "tags": []
      },
      "outputs": [],
      "source": [
        "def concat(str1, str2):\n",
        "    return str1 + str2, str2 + str1\n",
        "\n",
        "print(concat(\"hello\", \"world\"))"
      ]
    },
    {
      "cell_type": "code",
      "execution_count": null,
      "id": "ec16d951-28a2-4900-8eee-ca24d9f2fc80",
      "metadata": {
        "tags": []
      },
      "outputs": [],
      "source": [
        "# Notice how we use a list for input and output types\n",
        "interface = gr.Interface(fn=concat, inputs=[\"text\", \"text\"], outputs=[\"text\", \"text\"])\n",
        "interface.launch()"
      ]
    },
    {
      "cell_type": "markdown",
      "id": "b0764708-435d-43ea-951d-dea4e3778c74",
      "metadata": {
        "deletable": false,
        "editable": false,
        "tags": []
      },
      "source": [
        "#### **Ejercicio 1**\n",
        "Crea una función que tome tres cadenas y devuelva la más larga de las tres cadenas. Luego, crea una interfaz de usuario de Gradio para esta función.\n",
        "\n",
        "<details>\n",
        "  <summary>Show answer</summary>\n",
        "      <pre style=\"background-color: honeydew; padding: 10px; border-radius: 5px;\"><code style=\"background: none;\">def longest_string(str1, str2, str3):\n",
        "    if len(str1) > len(str2) and len(str1) > len(str3):\n",
        "        return str1\n",
        "    elif len(str2) > len(str1) and len(str2) > len(str3):\n",
        "        return str2\n",
        "    else:\n",
        "        return str3<br/>\n",
        "interface = gr.Interface(fn=longest_string, inputs=[\"text\", \"text\", \"text\"], outputs=\"text\")\n",
        "interface.launch()</code></pre>\n",
        "</details>"
      ]
    },
    {
      "cell_type": "code",
      "execution_count": null,
      "id": "1354542f-c5b2-494c-838f-bcc8be56c38d",
      "metadata": {
        "tags": []
      },
      "outputs": [],
      "source": [
        "# TODO: Create a function to pick the longest of 3 strings\n",
        "\n",
        "\n",
        "# TODO: Create a Gradio interface for the function"
      ]
    },
    {
      "cell_type": "markdown",
      "id": "7534868f-fad4-490d-8255-fa712776a117",
      "metadata": {
        "deletable": false,
        "editable": false,
        "tags": []
      },
      "source": [
        "## **Interfaces personalizadas con Blocks**\n",
        "A veces, necesitamos una interfaz de usuario más compleja de lo que permite Gradio `Interface`. Gradio también proporciona un framework llamado `Blocks` que te permite construir a ti mismo una interfaz de usuario utilizando los componentes de la interfaz. Construir una interfaz de esta manera es más difícil, ya que debes conectar las funciones tú mismo, pero puedes construir casi cualquier interfaz de usuario que puedas imaginar!\n",
        "\n",
        "Supongamos que quieres una aplicación que pueda revertir la una entrada de texto o convertirla en mayúsculas. Ahora bien, tenemos dos funciones:"
      ]
    },
    {
      "cell_type": "code",
      "execution_count": null,
      "id": "abd781ea-8755-45f0-bfce-bb5b22efdbc0",
      "metadata": {
        "tags": []
      },
      "outputs": [],
      "source": [
        "def reverse(word):\n",
        "    return word[::-1]\n",
        "\n",
        "def uppercase(word):\n",
        "    return word.upper()"
      ]
    },
    {
      "cell_type": "markdown",
      "id": "f5f12e3b-1814-4d7a-ae0a-ffa7df05e106",
      "metadata": {
        "deletable": false,
        "editable": false,
        "tags": []
      },
      "source": [
        "Podemos construir la interfaz de usuario usando `Blocks`."
      ]
    },
    {
      "cell_type": "code",
      "execution_count": null,
      "id": "34c0defb-df32-4f6c-a390-0128dd9fd620",
      "metadata": {
        "tags": []
      },
      "outputs": [],
      "source": [
        "with gr.Blocks() as interface:\n",
        "    # Put the items in a row\n",
        "    with gr.Row():\n",
        "        # Put the items in a column within the row\n",
        "        with gr.Column():\n",
        "            # Define the input box and two buttons\n",
        "            input_textbox = gr.Textbox()\n",
        "            reverse_button = gr.Button(value=\"Reverse\")\n",
        "            uppercase_button = gr.Button(value=\"Uppercase\")\n",
        "        \n",
        "        # Define the output box (in the second column)\n",
        "        output_textbox = gr.Textbox()\n",
        "        \n",
        "    # Link each button to the appropriate function\n",
        "    reverse_button.click(fn=reverse, inputs=[input_textbox], outputs=[output_textbox])\n",
        "    uppercase_button.click(fn=uppercase, inputs=[input_textbox], outputs=[output_textbox])\n",
        "    \n",
        "interface.launch()"
      ]
    },
    {
      "cell_type": "markdown",
      "id": "92963da1-5c91-4709-ba35-56a9f6e34f50",
      "metadata": {
        "deletable": false,
        "editable": false,
        "tags": []
      },
      "source": [
        "`Blocks` de Gradio nos permite usar una enorme biblioteca de componentes, de la que puedes leer más [here](https://gradio.app/docs/#blocks). \n",
        "\n",
        "#### **Ejercicio 2**\n",
        "Crea una interfaz de bloques de Gradio que puede hacer lo siguiente:\n",
        "- Contar el número de palabras en la entrada\n",
        "- Contar el número de palabras 'únicas' en la entrada\n",
        "- Reemplazar todos los espacios de la entrada por nuevas líneas\n",
        "\n",
        "<details>\n",
        "  <summary>Show answer</summary>\n",
        "      <pre style=\"background-color: honeydew; padding: 10px; border-radius: 5px;\"><code style=\"background: none;\">def count_words(string):\n",
        "    return len(string.split())<br/>\n",
        "def count_unique_words(string):\n",
        "    unique_words = set(string.split())\n",
        "    return len(unique_words)<br/>\n",
        "def replace_spaces_with_newlines(string):\n",
        "    split = string.split()\n",
        "    return '\\n'.join(split)<br/>\n",
        "with gr.Blocks() as interface:\n",
        "    with gr.Row():\n",
        "        with gr.Column():\n",
        "            input_textbox = gr.Textbox()\n",
        "            count_button = gr.Button(value=\"Count\")\n",
        "            count_unique_button = gr.Button(value=\"Count Unique\")\n",
        "            replace_spaces_button = gr.Button(value=\"Replace Spaces\")<br/>\n",
        "        output_textbox = gr.Textbox()<br/>\n",
        "    # Link each button to the appropriate function\n",
        "    count_button.click(fn=count_words, inputs=[input_textbox], outputs=[output_textbox])\n",
        "    count_unique_button.click(fn=count_unique_words, inputs=[input_textbox], outputs=[output_textbox])\n",
        "    replace_spaces_button.click(fn=replace_spaces_with_newlines, inputs=[input_textbox], outputs=[output_textbox])<br/>\n",
        "interface.launch()</code></pre>\n",
        "</details>"
      ]
    },
    {
      "cell_type": "code",
      "execution_count": null,
      "id": "96896224-776f-4e09-99b9-9444e782bb91",
      "metadata": {
        "tags": []
      },
      "outputs": [],
      "source": [
        "# TODO: Exercise 2"
      ]
    },
    {
      "cell_type": "markdown",
      "id": "ee038e40-82d5-469c-a543-2df6510864e2",
      "metadata": {},
      "source": [
        "**Resumen**\n",
        "En esta lección, aprendimos a usar Gradio para crear interfaces para nuestras aplicaciones. \n",
        "\n",
        "- Creando interfaces simples usando `Interface`\n",
        "- Diseñando interfaces personalizadas con funcionalidades por medio de `Blocks`\n",
        "\n",
        "¡Ahora, casi tenemos todas las herramientas necesarias para empezar a desarrollar verdaderas herramientas lingüísticas! A continuación, aprenderemos sobre el uso de expresiones regulares para buscar y analizar texto.\n",
        "\n",
        "[Next Lesson](<./9. Regex.ipynb>)"
      ]
    },
    {
      "cell_type": "code",
      "execution_count": null,
      "id": "07e305ac-bdb1-430f-b94c-1c1cf29a9cbf",
      "metadata": {
        "deletable": false,
        "editable": false,
        "tags": []
      },
      "outputs": [],
      "source": []
    }
  ],
  "metadata": {
    "kernelspec": {
      "display_name": "Python 3 (ipykernel)",
      "language": "python",
      "name": "python3"
    },
    "language_info": {
      "codemirror_mode": {
        "name": "ipython",
        "version": 3
      },
      "file_extension": ".py",
      "mimetype": "text/x-python",
      "name": "python",
      "nbconvert_exporter": "python",
      "pygments_lexer": "ipython3",
      "version": "3.10.6"
    }
  },
  "nbformat": 4,
  "nbformat_minor": 5
}