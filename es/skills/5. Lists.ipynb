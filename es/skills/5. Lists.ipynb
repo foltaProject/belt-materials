{
  "cells": [
    {
      "cell_type": "markdown",
      "id": "39e849fa-fd04-4dfb-8ebd-2e7252a04711",
      "metadata": {
        "deletable": false,
        "editable": false,
        "tags": []
      },
      "source": [
        "# **Trabajando con listas**\n",
        "Las listas son el tipo de datos usado para almacenar una colección de valores. Las listas pueden contener cualquier tipo de valores, e incluso pueden mezclar y coincidir."
      ]
    },
    {
      "cell_type": "code",
      "execution_count": null,
      "id": "81076623-bf2f-475f-888e-8d61ea1d59e0",
      "metadata": {
        "tags": []
      },
      "outputs": [],
      "source": [
        "my_list = [42, \"a\", 3.3]\n",
        "print(my_list)"
      ]
    },
    {
      "cell_type": "markdown",
      "id": "e6f590bd-c171-4ebf-b479-ebdcc0e37cfd",
      "metadata": {
        "deletable": false,
        "editable": false,
        "tags": []
      },
      "source": [
        "### Longitud\n",
        "Podemos obtener el número de elementos en una lista usando la función `len`."
      ]
    },
    {
      "cell_type": "code",
      "execution_count": null,
      "id": "009a5794-036a-4aab-a1b7-51428962c6de",
      "metadata": {
        "tags": []
      },
      "outputs": [],
      "source": [
        "print(len(my_list))"
      ]
    },
    {
      "cell_type": "markdown",
      "id": "2a69f1ba-07b4-4d5a-86c2-3befc097e9c4",
      "metadata": {
        "deletable": false,
        "editable": false,
        "tags": []
      },
      "source": [
        "### Accediendo a los elementos\n",
        "Podemos acceder a un elemento en una posición particular usando la notación de indexación:"
      ]
    },
    {
      "cell_type": "code",
      "execution_count": null,
      "id": "3c908530-aa35-4bad-a451-b92f78675532",
      "metadata": {
        "tags": []
      },
      "outputs": [],
      "source": [
        "print(my_list[2])"
      ]
    },
    {
      "cell_type": "markdown",
      "id": "6fc52d51-60f7-4e12-a04f-4690bb47252e",
      "metadata": {
        "deletable": false,
        "editable": false,
        "tags": []
      },
      "source": [
        "Ten en cuenta que los índices de la lista comienzan en 0, no en 1, así que se accede al primer elemento de la siguiente manera:"
      ]
    },
    {
      "cell_type": "code",
      "execution_count": null,
      "id": "013c9528-b458-409c-8fcd-c776adce460a",
      "metadata": {
        "tags": []
      },
      "outputs": [],
      "source": [
        "print(my_list[0])"
      ]
    },
    {
      "cell_type": "markdown",
      "id": "2f1fa496-bc9c-431e-8fb0-45bcbd4f1d24",
      "metadata": {
        "deletable": false,
        "editable": false,
        "tags": []
      },
      "source": [
        "Si intentamos acceder a una posición que no está en la lista, obtendremos un error."
      ]
    },
    {
      "cell_type": "code",
      "execution_count": null,
      "id": "43a77881-ecb5-4ffc-b7f8-f1a654974eb2",
      "metadata": {
        "tags": []
      },
      "outputs": [],
      "source": [
        "print(my_list[5])"
      ]
    },
    {
      "cell_type": "markdown",
      "id": "03ff6dc7-ebc3-4c98-b6f5-06698bf82ae9",
      "metadata": {
        "deletable": false,
        "editable": false,
        "tags": []
      },
      "source": [
        "### Cortando listas\n",
        "\n",
        "También podemos acceder a un *rango* de valores en las listas especificando una **porción** de los índices:"
      ]
    },
    {
      "cell_type": "code",
      "execution_count": null,
      "id": "6b69ea09-185e-4983-9c67-6d8b9ab785ee",
      "metadata": {
        "tags": []
      },
      "outputs": [],
      "source": [
        "my_list = ['a', 'b', 'c', 'd', 'e']\n",
        "\n",
        "print(my_list[1:3])"
      ]
    },
    {
      "cell_type": "markdown",
      "id": "da098313-6fef-4e3d-84ae-652e2f7d37f4",
      "metadata": {
        "deletable": false,
        "editable": false,
        "tags": []
      },
      "source": [
        "La porción toma la forma\n",
        "\n",
        "```python\n",
        "list[start:stop:increment]\n",
        "```\n",
        "\n",
        "Pero podemos omitir cualquiera de estos valores. Por ejemplo, podemos seleccionar todos los valores hasta la segunda posición haciendo:"
      ]
    },
    {
      "cell_type": "code",
      "execution_count": null,
      "id": "b09b270d-bfca-407c-8116-7631b38c474e",
      "metadata": {
        "tags": []
      },
      "outputs": [],
      "source": [
        "print(my_list[:2])"
      ]
    },
    {
      "cell_type": "markdown",
      "id": "5bca0b14-2c21-4a14-821d-14d2f9ff04ee",
      "metadata": {
        "deletable": false,
        "editable": false,
        "tags": []
      },
      "source": [
        "Algunos ejemplos de adicionales:"
      ]
    },
    {
      "cell_type": "code",
      "execution_count": null,
      "id": "bad802c9-29fc-49ff-96d1-f2c69b2d670a",
      "metadata": {
        "tags": []
      },
      "outputs": [],
      "source": [
        "# Print from the second item onward\n",
        "print(my_list[1:])\n",
        "\n",
        "# Print in reverse order\n",
        "print(my_list[::-1])\n",
        "\n",
        "# Print skipping every other index\n",
        "print(my_list[::2])"
      ]
    },
    {
      "cell_type": "markdown",
      "id": "848540db-22e7-4d61-a3bd-c815fba57268",
      "metadata": {
        "deletable": false,
        "editable": false,
        "tags": []
      },
      "source": [
        "### Añadiendo y quitando ítems\n",
        "\n",
        "Podemos añadir elementos al final de una lista usando el método `append`."
      ]
    },
    {
      "cell_type": "code",
      "execution_count": null,
      "id": "7f907315-352a-432b-ae1a-6a1d33550062",
      "metadata": {
        "tags": []
      },
      "outputs": [],
      "source": [
        "my_list = [1, 2, 3]\n",
        "my_list.append(4)\n",
        "print(my_list)"
      ]
    },
    {
      "cell_type": "markdown",
      "id": "64ecbab8-381a-43b7-ad8d-281f9172b418",
      "metadata": {
        "deletable": false,
        "editable": false,
        "tags": []
      },
      "source": [
        "También podemos añadir elementos en un índice en particular usando el método `insert`."
      ]
    },
    {
      "cell_type": "code",
      "execution_count": null,
      "id": "163a7184-2b04-4871-abfe-7cfb79fc2a35",
      "metadata": {
        "tags": []
      },
      "outputs": [],
      "source": [
        "my_list = [1, 2, 3]\n",
        "\n",
        "# Insert 4 at position 0\n",
        "my_list.insert(0, 4)\n",
        "\n",
        "print(my_list)"
      ]
    },
    {
      "cell_type": "markdown",
      "id": "533d05e1-55e4-4cdd-86b8-f9a231e9ada7",
      "metadata": {
        "deletable": false,
        "editable": false,
        "tags": []
      },
      "source": [
        "Podemos eliminar los elementos de la lista usando `remove`."
      ]
    },
    {
      "cell_type": "code",
      "execution_count": null,
      "id": "c3515ef0-acb2-4153-8a8c-ddc7594c7352",
      "metadata": {
        "tags": []
      },
      "outputs": [],
      "source": [
        "my_list = [1, 2, 3]\n",
        "my_list.remove(2)\n",
        "print(my_list)"
      ]
    },
    {
      "cell_type": "markdown",
      "id": "c76fcc9a-e6d7-4b5c-8d25-cb64a5c1c69b",
      "metadata": {
        "deletable": false,
        "editable": false,
        "tags": []
      },
      "source": [
        "### Combinando listas\n",
        "Podemos combinar dos listas utilizando el operador `+`."
      ]
    },
    {
      "cell_type": "code",
      "execution_count": null,
      "id": "fca02985-baec-404b-8c99-59dff6cf929c",
      "metadata": {
        "tags": []
      },
      "outputs": [],
      "source": [
        "list1 = [1, 3]\n",
        "list2 = [4, 6]\n",
        "\n",
        "print(list1 + list2)"
      ]
    },
    {
      "cell_type": "markdown",
      "id": "cde0cf69-3dbd-4951-a3a9-dcbe952f22ca",
      "metadata": {
        "deletable": false,
        "editable": false,
        "tags": []
      },
      "source": [
        "### Funciones de lista \n",
        "Existen diversas funciones para manipular listas. Una función útil ordena automáticamente una lista (en orden numérico o alfabético)."
      ]
    },
    {
      "cell_type": "code",
      "execution_count": null,
      "id": "8dfb9cb8-79b6-4ef9-bc83-c8fd25b8b1ca",
      "metadata": {
        "tags": []
      },
      "outputs": [],
      "source": [
        "my_list = ['a', 'c', 'b']\n",
        "\n",
        "print(sorted(my_list))"
      ]
    },
    {
      "cell_type": "markdown",
      "id": "b7639c1a-123a-41f0-80ee-73ea7ef7af09",
      "metadata": {
        "deletable": false,
        "editable": false,
        "tags": []
      },
      "source": [
        "Otra función útil es `suma`, que calcula la suma de todos los elementos de esta lista."
      ]
    },
    {
      "cell_type": "code",
      "execution_count": null,
      "id": "64b52d9d-9048-4996-a95a-ea560d12d160",
      "metadata": {
        "tags": []
      },
      "outputs": [],
      "source": [
        "my_list = [1, 2, 5]\n",
        "print(sum(my_list))"
      ]
    },
    {
      "cell_type": "markdown",
      "id": "c49cbeb6-beba-48a3-be9a-cbd9bb22b147",
      "metadata": {
        "deletable": false,
        "editable": false,
        "tags": []
      },
      "source": [
        "### Comprobando si un elemento está en una lista\n",
        "Por último, podemos comprobar fácilmente si un elemento está en una lista usando la palabra clave `in`."
      ]
    },
    {
      "cell_type": "code",
      "execution_count": null,
      "id": "a115d7ce-9904-44fd-93f0-4d467be5e0ae",
      "metadata": {
        "tags": []
      },
      "outputs": [],
      "source": [
        "my_list = [1, 4, 9]\n",
        "\n",
        "print(2 in my_list)\n",
        "\n",
        "if 1 in my_list:\n",
        "    print(\"Found a 1\")"
      ]
    },
    {
      "cell_type": "markdown",
      "id": "9dc4c743-cb4c-4b2b-ae84-b635c35a30ee",
      "metadata": {
        "deletable": false,
        "editable": false,
        "tags": []
      },
      "source": [
        "#### **Ejercicio 1**\n",
        "Usando la lista `names`, ordena la lista en orden alfabético. Luego, imprime los últimos 3 elementos.\n",
        "\n",
        "<details>\n",
        "  <summary>Show answer</summary>\n",
        "      <pre style=\"background-color: honeydew; padding: 10px; border-radius: 5px;\"><code style=\"background: none;\">names = sorted(names)\n",
        "print(names[2:])</code></pre>\n",
        "</details>"
      ]
    },
    {
      "cell_type": "code",
      "execution_count": null,
      "id": "d10540ad-7a33-4c2b-a20a-fa940a373bf7",
      "metadata": {
        "tags": []
      },
      "outputs": [],
      "source": [
        "names = [\"John\", \"Mary\", \"Camilo\", \"Ali\", \"Maria\"]\n",
        "\n",
        "# TODO: Sort the list in alphabetical order\n",
        "\n",
        "# TODO: Print the last three items"
      ]
    },
    {
      "cell_type": "markdown",
      "id": "4d8eb823-13a3-4769-9ecc-ab647bbc7d0a",
      "metadata": {
        "deletable": false,
        "editable": false,
        "tags": []
      },
      "source": [
        "## **Tuplas**\n",
        "Una tupla es otro tipo de colección en Python. Al igual que una lista, almacena múltiples valores en orden usando índices. A diferencia de una lista, no puedes añadir, quitar o cambiar elementos en una tupla. Las tuplas pueden ser útiles cuando sabes que nunca necesitarás añadir objetos; por ejemplo para poder almacenar nombres y edades juntos."
      ]
    },
    {
      "cell_type": "code",
      "execution_count": null,
      "id": "7fac3f89-8e64-46dd-84f8-17f09e923491",
      "metadata": {
        "tags": []
      },
      "outputs": [],
      "source": [
        "my_tuple = (\"Michael\", 22)\n",
        "\n",
        "print(my_tuple)\n",
        "print(my_tuple[0])\n",
        "print(my_tuple[1])"
      ]
    },
    {
      "cell_type": "markdown",
      "id": "adb77ef3-76ac-4257-8136-f8da7c215a0a",
      "metadata": {
        "deletable": false,
        "editable": false,
        "tags": []
      },
      "source": [
        "Podemos obtener los elementos de una tupla fácilmente podemos **desempaquetar la tupla**."
      ]
    },
    {
      "cell_type": "code",
      "execution_count": null,
      "id": "dfb5bbc0-4446-4dd1-a6fc-41ca01e8e011",
      "metadata": {
        "tags": []
      },
      "outputs": [],
      "source": [
        "name, age = my_tuple\n",
        "print(name)\n",
        "print(age)"
      ]
    },
    {
      "cell_type": "markdown",
      "id": "18572b04-0dd4-4049-9de0-3de99b1a0a14",
      "metadata": {
        "deletable": false,
        "editable": false,
        "tags": []
      },
      "source": [
        "A menudo usamos tuplas como valor de retorno de una función cuando necesitamos devolver múltiples valores. Por ejemplo, considera una función que devuelva el cuadrado y cubo de un número."
      ]
    },
    {
      "cell_type": "code",
      "execution_count": null,
      "id": "3be17ab0-3929-48b9-b967-38fafb2030a3",
      "metadata": {
        "tags": []
      },
      "outputs": [],
      "source": [
        "def square_and_cube(number):\n",
        "    square = number * number\n",
        "    cube = number * number * number\n",
        "    return (square, cube)\n",
        "\n",
        "value_squared, value_cubed = square_and_cube(3)\n",
        "print(value_squared)\n",
        "print(value_cubed)"
      ]
    },
    {
      "cell_type": "markdown",
      "id": "5e15becf-efe8-4949-8fe9-91085c5078c4",
      "metadata": {
        "deletable": false,
        "editable": false,
        "tags": []
      },
      "source": [
        "#### **Ejercicio 2**\n",
        "Crea una función llamada `sum_and_average` que toma una lista y devuelve la suma y el promedio de los valores de la lista, como una tupla.\n",
        "\n",
        "<details>\n",
        "  <summary>Show answer</summary>\n",
        "      <pre style=\"background-color: honeydew; padding: 10px; border-radius: 5px;\"><code style=\"background: none;\">def sum_and_average(my_list):\n",
        "    list_sum = sum(my_list)\n",
        "    return list_sum, list_sum / len(my_list)</code></pre>\n",
        "</details>"
      ]
    },
    {
      "cell_type": "code",
      "execution_count": null,
      "id": "2bc8f2e8-ac9f-4af8-ab5d-55e5c101f348",
      "metadata": {
        "tags": []
      },
      "outputs": [],
      "source": [
        "# TODO: Define your function here\n",
        "\n",
        "\n",
        "\n",
        "my_list = [3, 5, 8, 10]\n",
        "list_sum, list_average = sum_and_average(my_list)\n",
        "print(list_sum, list_average)"
      ]
    },
    {
      "cell_type": "markdown",
      "id": "12ca16c5-0cdb-4de1-8487-f541612a1109",
      "metadata": {
        "deletable": false,
        "editable": false,
        "tags": []
      },
      "source": [
        "## **Conjuntos**\n",
        "A veces, podemos querer mantener una colección de valores *únicos*, donde cada valor puede aparecer sólo una vez. Para esto, podemos usar un **Conjunto** de Python, esto es, otro tipo de colección. Los conjuntos son *desordenados* y siempre contendrán valores únicos."
      ]
    },
    {
      "cell_type": "code",
      "execution_count": null,
      "id": "aa3b26bb-db8f-4aa0-be1f-b8632379a7cd",
      "metadata": {
        "tags": []
      },
      "outputs": [],
      "source": [
        "my_set = set()\n",
        "\n",
        "# Notice that we use `add`, not `append`\n",
        "my_set.add(1)\n",
        "my_set.add(2)\n",
        "\n",
        "print(my_set)\n",
        "\n",
        "my_set.add(1)\n",
        "print(my_set)"
      ]
    },
    {
      "cell_type": "markdown",
      "id": "dde9d38b-11b0-491f-838e-4e54a69f0d94",
      "metadata": {
        "deletable": false,
        "editable": false,
        "tags": []
      },
      "source": [
        "#### **Ejercicio 3**\n",
        "Usando la lista de palabras `words`, crea un conjunto de palabras *únicas*.\n",
        "\n",
        "<details>\n",
        "  <summary>Show answer</summary>\n",
        "      <pre style=\"background-color: honeydew; padding: 10px; border-radius: 5px;\"><code style=\"background: none;\">unique_words = set()\n",
        "for word in words:\n",
        "    unique_words.add(word)</code></pre>\n",
        "</details>"
      ]
    },
    {
      "cell_type": "code",
      "execution_count": null,
      "id": "2ef21f97-45ce-49e6-915d-803dc55db3e0",
      "metadata": {
        "tags": []
      },
      "outputs": [],
      "source": [
        "words = [\"it\", \"was\", \"the\", \"best\", \"of\", \"times\", \"it\", \"was\", \"the\", \"worst\", \"of\", \"times\"]\n",
        "\n",
        "# TODO: Create a set named unique_words that contains only the unique words\n",
        "\n",
        "print(unique_words)"
      ]
    },
    {
      "cell_type": "markdown",
      "id": "47345ed8-ba59-43b5-9ae4-492aa1a75a90",
      "metadata": {
        "deletable": false,
        "editable": false,
        "tags": []
      },
      "source": [
        "## **Diccionarios**\n",
        "El tipo final de colección que usaremos es un **Diccionario**. Un diccionario es como un conjunto en el que este funciona como una lista *desordenada* de elementos *únicos*, los cuales llamaremos llaves. Para cada llave en un diccionario, hay un valor (que no tiene por qué ser un duplicado). Por ejemplo:"
      ]
    },
    {
      "cell_type": "code",
      "execution_count": null,
      "id": "921bf2e6-b961-481c-a08d-7107fe7b2af4",
      "metadata": {
        "tags": []
      },
      "outputs": [],
      "source": [
        "# A dictionary of names and their associated ages\n",
        "ages = {\n",
        "    \"Ally\": 19,\n",
        "    \"Kim\": 39,\n",
        "    \"Joe\": 12\n",
        "}\n",
        "\n",
        "print(ages)"
      ]
    },
    {
      "cell_type": "markdown",
      "id": "b4d6a34c-74a8-42b6-95f9-39f8f9c7e9f1",
      "metadata": {
        "deletable": false,
        "editable": false,
        "tags": []
      },
      "source": [
        "Podemos acceder al valor de una llave en particular así:"
      ]
    },
    {
      "cell_type": "code",
      "execution_count": null,
      "id": "988502a9-af41-4a04-b746-26153323d972",
      "metadata": {
        "tags": []
      },
      "outputs": [],
      "source": [
        "print(ages[\"Ally\"])"
      ]
    },
    {
      "cell_type": "markdown",
      "id": "418a46bb-e8a3-4157-80bc-9fd1de45e60c",
      "metadata": {
        "deletable": false,
        "editable": false,
        "tags": []
      },
      "source": [
        "#### **Ejercicio 4**\n",
        "Usando la lista de palabras `words`, crear un diccionario llamado `words_and_counts` donde las llaves son las palabras que aparecen en `words` y los valores son el número de veces que ocurre cada palabra. Puede ser útil comprobar si existe una clave en un diccionario usando el operador `in`.\n",
        "\n",
        "<details>\n",
        "  <summary>Show answer</summary>\n",
        "      <pre style=\"background-color: honeydew; padding: 10px; border-radius: 5px;\"><code style=\"background: none;\">for word in words:\n",
        "    if word in words_and_counts:\n",
        "        words_and_counts[word] += 1\n",
        "    else:\n",
        "        words_and_counts[word] = 1</code></pre>\n",
        "</details>"
      ]
    },
    {
      "cell_type": "code",
      "execution_count": null,
      "id": "4cf1cab9-743a-4b22-99a4-9720264a3fb4",
      "metadata": {
        "tags": []
      },
      "outputs": [],
      "source": [
        "words = [\"it\", \"was\", \"the\", \"best\", \"of\", \"times\", \"it\", \"was\", \"the\", \"worst\", \"of\", \"times\"]\n",
        "\n",
        "words_and_counts = dict()\n",
        "\n",
        "# TODO: Fill the dictionary with the unique words and their counts\n",
        "\n",
        "\n",
        "print(words_and_counts)"
      ]
    },
    {
      "cell_type": "markdown",
      "id": "21d3d773-d87a-4dc3-b169-7d08b4180ec7",
      "metadata": {
        "deletable": false,
        "editable": false,
        "tags": []
      },
      "source": [
        "## **Comprensiones de listas**\n",
        "Las comprensiones de listas son un atajo útil para crear listas basadas en otras listas. Por ejemplo, supongamos que tienes una lista de nombres y quieres crear otra lista de la longitud de cada nombre. Podríamos hacerlo con un bucle:"
      ]
    },
    {
      "cell_type": "code",
      "execution_count": null,
      "id": "978bed93-902c-44da-9889-623d84257f9a",
      "metadata": {
        "tags": []
      },
      "outputs": [],
      "source": [
        "names = [\"Adam\", \"Marie\", \"Grace\", \"Maureen\"]\n",
        "lengths = []\n",
        "\n",
        "for name in names:\n",
        "    lengths.append(len(name))\n",
        "    \n",
        "print(lengths)"
      ]
    },
    {
      "cell_type": "markdown",
      "id": "1d058d50-ee74-4bea-8fb3-32b2fe77d67f",
      "metadata": {
        "deletable": false,
        "editable": false,
        "tags": []
      },
      "source": [
        "Sin embargo, la comprensión de listas nos permite hacer esto en una única línea.\n",
        "\n",
        "```python\n",
        "[result for item in list]\n",
        "```"
      ]
    },
    {
      "cell_type": "code",
      "execution_count": null,
      "id": "73c0f60d-6508-4dd9-919b-fdd65b020245",
      "metadata": {
        "tags": []
      },
      "outputs": [],
      "source": [
        "lengths = [len(name) for name in names]\n",
        "print(lengths)"
      ]
    },
    {
      "cell_type": "markdown",
      "id": "2cba7ff5-90bf-4aab-8386-f4c51806adcd",
      "metadata": {
        "deletable": false,
        "editable": false,
        "tags": []
      },
      "source": [
        "**Resumen**\n",
        "En esta lección aprendimos sobre los principales tipos de colecciones de datos en Python.\n",
        "- Listas, para almacenar valores ordenados\n",
        "- Tuplas, para valores ordenados e inmodificables\n",
        "- Conjuntos, para valores no ordenados y únicos\n",
        "- Diccionarios, para pares llave/valor\n",
        "- Comprensiones de listas, para crear de manera sencilla listas basadas en otras listas\n",
        "\n",
        "A continuación, aprenderemos sobre las cadenas de texto en Python.\n",
        "\n",
        "[Next Lesson](<./6. Strings.ipynb>)"
      ]
    },
    {
      "cell_type": "code",
      "execution_count": null,
      "id": "7159fe48-dfa5-4443-baf9-63f251b61586",
      "metadata": {},
      "outputs": [],
      "source": []
    }
  ],
  "metadata": {
    "kernelspec": {
      "display_name": "Python 3 (ipykernel)",
      "language": "python",
      "name": "python3"
    },
    "language_info": {
      "codemirror_mode": {
        "name": "ipython",
        "version": 3
      },
      "file_extension": ".py",
      "mimetype": "text/x-python",
      "name": "python",
      "nbconvert_exporter": "python",
      "pygments_lexer": "ipython3",
      "version": "3.10.6"
    }
  },
  "nbformat": 4,
  "nbformat_minor": 5
}