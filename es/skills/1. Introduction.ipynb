{
  "cells": [
    {
      "cell_type": "markdown",
      "id": "6ae1f0a6-1d98-4add-aae6-ec8319814d04",
      "metadata": {
        "deletable": false,
        "editable": false,
        "tags": []
      },
      "source": [
        "# **Introducción**\n",
        "\n",
        "¡Bienvenido al Building Endangered Language Technology! Este curso te enseñará todo lo necesario para la construcción de aplicativos y herramientas para lenguas con pocos recursos."
      ]
    },
    {
      "cell_type": "markdown",
      "id": "2a8a2bb8-ea19-46b5-bf9a-6e60bd9de441",
      "metadata": {
        "deletable": false,
        "editable": true,
        "tags": []
      },
      "source": [
        "## **Descripción del Curso**\n",
        "<div>\n",
        "<img src=\"../assets/course.png\" width=\"500\" style=\" display: block; margin-left: auto; margin-right: auto;\"/>\n",
        "</div>\n",
        "\n",
        "Este curso se divide en dos componentes:\n",
        "- **Skills** son lecciones cortas que te enseñan las habilidades específicas que necesitarás para desarrollar tu tecnología lingüística\n",
        "- **Proyectos** donde combinas tus habilidades para crear aplicaciones reales, como un corrector ortográfico\n",
        "\n",
        "Si tú cuentas con conocimientos de programación, algunos de los apartados de habilidades pueden ser un repaso - siéntete libre de elegir la lección que quieras aprender."
      ]
    },
    {
      "cell_type": "markdown",
      "id": "1ef9d90b-4bb4-46ae-b041-0744e970df4e",
      "metadata": {
        "deletable": false,
        "editable": false,
        "tags": []
      },
      "source": [
        "## **El entorno JupyterLab**\n",
        "Todas las lecciones de este curso se abrirán en [JupyterLab](https://jupyter.org), el entorno en el que nos encontramos ahora. JupyterLab es un entorno de desarrollo interactivo en Python que combina **celdas de texto** y **celdas de código**. \n",
        "\n",
        "### Celdas de Código\n",
        "A continuación se muestra un ejemplo de celda de código:"
      ]
    },
    {
      "cell_type": "code",
      "execution_count": 1,
      "id": "33dd46d8-1aa9-4b0e-9fe7-52506ac70123",
      "metadata": {
        "tags": []
      },
      "outputs": [
        {
          "name": "stdout",
          "output_type": "stream",
          "text": [
            "Hello world\n"
          ]
        }
      ],
      "source": [
        "print(\"Hello world\")"
      ]
    },
    {
      "cell_type": "markdown",
      "id": "65a08b74-e8ad-4be3-968a-cf73f9fdecea",
      "metadata": {
        "deletable": false,
        "editable": true,
        "tags": []
      },
      "source": [
        "Para ejecutar una celda de código, haz clic en la celda y selecciona **Ejecutar** -> **Ejecutar celdas seleccionadas** en la barra de menús, o pulsa **Mayús + Intro**.\n",
        "\n",
        "<div>\n",
        "<img src=\"../assets/run-cells.png\" width=\"500\" style=\" display: block; margin-left: auto; margin-right: auto;\"/>\n",
        "</div>\n",
        "\n",
        "Cuando ejecutas una celda de código, la salida se muestra justo debajo de ella."
      ]
    },
    {
      "cell_type": "markdown",
      "id": "ed41053c-945d-4eb1-94ce-10adf63dd6df",
      "metadata": {
        "deletable": false,
        "editable": true,
        "tags": []
      },
      "source": [
        "### Barra Lateral\n",
        "En la parte izquierda de la pantalla se encuentra la **Barra lateral**. La barra lateral cuenta con dos pestañas.\n",
        "\n",
        "<div>\n",
        "<img src=\"../assets/toc.png\" width=\"300\" style=\" display: block; margin-left: auto; margin-right: auto;\"/>\n",
        "</div>\n",
        "\n",
        "El **Índice** te permite ver un panorama de la lección actual y navegar rápidamente a otras secciones.\n",
        "\n",
        "<img src=\"../assets/files.png\" width=\"300\" style=\" display: block; margin-left: auto; margin-right: auto;\"/>\n",
        "</div>\n",
        "\n",
        "El **Explorador de archivos** te permite ver, abrir y cargar archivos. Si deseas cargar tus propios corpus, puedes hacerlo pulsando el botón \"Cargar\". "
      ]
    },
    {
      "cell_type": "markdown",
      "id": "f9efaab6-2566-41f3-9766-0bfe543bffe7",
      "metadata": {
        "deletable": false,
        "editable": false,
        "tags": []
      },
      "source": [
        "## **Estructura de la lección**\n",
        "Las lecciones consistirán en una combinación de código pre-escrito, ejercicios y desafíos. Debes estudiar detenidamente todo el código preescrito para asegurarte de que entiendes lo que éste hace. Los **ejercicios** son breves tareas de programación dentro de una lección que permiten comprobar tu comprensión. Los **Desafíos** son tareas opcionales después de la lección principal, que serán más exigentes y pondrán a prueba tus conocimientos. La mejor forma de aprender a programar es programando, así que te recomendamos encarecidamente que hagas tantos ejercicios y retos como tiempo tengas."
      ]
    },
    {
      "cell_type": "markdown",
      "id": "38c237f0-0851-4117-a576-01b424066861",
      "metadata": {
        "deletable": false,
        "editable": false,
        "tags": []
      },
      "source": [
        "## **Tu primer ejercicio**\n",
        "\n",
        "Para tu primer ejercicio, modifica la siguiente celda de código para que en lugar de imprimir \"Hola, Miguel\", imprima \"Hola \\<your name>\". Después de haber modificado la celda, asegúrate de que puedes ejecutarla e imprimir la salida como se espera."
      ]
    },
    {
      "cell_type": "code",
      "execution_count": null,
      "id": "a782c71d-e549-409a-86cc-64a72d7277f3",
      "metadata": {},
      "outputs": [],
      "source": [
        "print(\"Hello, Michael\")"
      ]
    },
    {
      "cell_type": "markdown",
      "id": "e4b88019-68cc-4779-a9c5-44082a560a92",
      "metadata": {
        "deletable": false,
        "editable": false,
        "tags": []
      },
      "source": [
        "[Next Lesson](<./2. Python.ipynb>)"
      ]
    }
  ],
  "metadata": {
    "kernelspec": {
      "display_name": "Python 3 (ipykernel)",
      "language": "python",
      "name": "python3"
    },
    "language_info": {
      "codemirror_mode": {
        "name": "ipython",
        "version": 3
      },
      "file_extension": ".py",
      "mimetype": "text/x-python",
      "name": "python",
      "nbconvert_exporter": "python",
      "pygments_lexer": "ipython3",
      "version": "3.10.6"
    }
  },
  "nbformat": 4,
  "nbformat_minor": 5
}