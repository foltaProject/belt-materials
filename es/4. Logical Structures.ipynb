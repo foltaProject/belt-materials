{
  "cells": [
    {
      "cell_type": "markdown",
      "id": "abe4d6ed-4134-45af-a2f8-951045856f20",
      "metadata": {
        "deletable": false,
        "editable": false,
        "tags": []
      },
      "source": [
        "# **Estructuras lógicas**\n",
        "\n",
        "A menudo en nuestro código, tenemos que tomar decisiones sobre qué hacer a continuación. Por ejemplo, cuando hagamos un corrector ortográfico, tendremos que decidir si cada palabra está escrita correctamente o no. Si la palabra está errada, se deben tomar medidas. Para hacer esto, necesitamos **estructuras lógicas** (a veces también llamadas \"flujos de control\")."
      ]
    },
    {
      "cell_type": "markdown",
      "id": "7b0ef029-8826-4e68-b15b-372485b7dea4",
      "metadata": {
        "deletable": false,
        "editable": false,
        "tags": []
      },
      "source": [
        "## **Sentencias If (Si...)**\n",
        "La primera estructura que usaremos es la sentencia `if`. \n",
        "\n",
        "```python\n",
        "if condition:\n",
        "    Execute some code\n",
        "```\n",
        "\n",
        "Una sentencia `si` ejecuta un bloque de código sólo si la condición es verdadera. Si la condición es falsa, nos saltamos el bloque de código. La **condición** es una sentencia que da como resultado un valor booleano."
      ]
    },
    {
      "cell_type": "code",
      "execution_count": null,
      "id": "ca447a68-05af-40c9-aabb-b45536e13676",
      "metadata": {
        "tags": []
      },
      "outputs": [],
      "source": [
        "my_var = 3\n",
        "\n",
        "if my_var > 2:\n",
        "    print(\"my_var is larger than 2\")\n",
        "    \n",
        "my_var = 1\n",
        "\n",
        "if my_var > 2:\n",
        "    print(\"my_var is larger than 2\")"
      ]
    },
    {
      "cell_type": "markdown",
      "id": "db1e4e63-fef6-42f7-95e6-d4f4566a1152",
      "metadata": {
        "deletable": false,
        "editable": false,
        "tags": []
      },
      "source": [
        "Observa cómo es utilizada la sangría para definir el bloque de código que la sentencia `if` ejecuta. Si tenemos una sentencia `if` dentro de una sentencia `if`, debemos hacer una doble indentación:"
      ]
    },
    {
      "cell_type": "code",
      "execution_count": null,
      "id": "07f4d8c9-9b19-4341-b3e1-48d2540385fe",
      "metadata": {
        "tags": []
      },
      "outputs": [],
      "source": [
        "my_var = 3\n",
        "\n",
        "if my_var > 2:\n",
        "    if my_var < 4:\n",
        "        print(\"my_var is larger than 2 and smaller than 4\")"
      ]
    },
    {
      "cell_type": "markdown",
      "id": "664888ac-8ad8-4803-bd4a-7a73d25cdc6e",
      "metadata": {
        "deletable": false,
        "editable": false,
        "tags": []
      },
      "source": [
        "### Else (En otro caso...)\n",
        "¿Qué pasa si queremos ejecutar un bloque de código diferente cuando la condición es falsa? Para eso, podemos añadir una cláusula `else` a la declaración `if`."
      ]
    },
    {
      "cell_type": "code",
      "execution_count": null,
      "id": "66feaa8d-a6cb-4332-a987-0f39cf321c42",
      "metadata": {
        "tags": []
      },
      "outputs": [],
      "source": [
        "my_var = 3\n",
        "\n",
        "if my_var > 4:\n",
        "    print(\"my_var is larger than 4\")\n",
        "else:\n",
        "    print(\"my_var is not larger than 4\")"
      ]
    },
    {
      "cell_type": "markdown",
      "id": "98c7a3e7-926b-4272-af2d-d126bf927889",
      "metadata": {
        "deletable": false,
        "editable": false,
        "tags": []
      },
      "source": [
        "### Elif (Si no...)\n",
        "Por último, ¿qué pasa si queremos ejecutar múltiples bloques de código diferentes basados en diferentes condiciones? Para esto, podemos usar la cláusula `elif` (abreviatura de \"else if\" (si no...)). Una cláusula `elif` viene después de la cláusula `si` pero antes de la cláusula `else`, y define condiciones alternativas. Si *ninguna* de las condiciones son verdaderas, entonces la cláusula `else` se ejecuta."
      ]
    },
    {
      "cell_type": "code",
      "execution_count": null,
      "id": "91024ed5-b7aa-4b46-a134-b72a5a82717f",
      "metadata": {
        "tags": []
      },
      "outputs": [],
      "source": [
        "my_var = 3\n",
        "\n",
        "if my_var > 4:\n",
        "    print(\"my_var is larger than 4\")\n",
        "elif my_var > 2:\n",
        "    print(\"my_var is larger than 2\")\n",
        "else:\n",
        "    print(\"my var is not larger than 2\")"
      ]
    },
    {
      "cell_type": "markdown",
      "id": "383b5d8f-8e63-4519-92fc-629e103cc6ab",
      "metadata": {
        "deletable": false,
        "editable": false,
        "tags": []
      },
      "source": [
        "### Condiciones de igualdad\n",
        "En Python, para comprobar si una variable es igual a algún valor debemos usar el operador `==`.\n",
        "\n",
        "<div class=\"alert alert-block alert-warning\">\n",
        "    Asegúrate de no utilizar el operador de asignación `=`, que no producirá el resultado deseado.\n",
        "</div>"
      ]
    },
    {
      "cell_type": "code",
      "execution_count": null,
      "id": "ded9a386-9b3f-4a59-b556-e06ff8427b17",
      "metadata": {
        "tags": []
      },
      "outputs": [],
      "source": [
        "my_string = \"apple\"\n",
        "\n",
        "if my_string == \"apple\":\n",
        "    print(\"We have an apple\")\n",
        "    \n",
        "# We can also use != to check if a variable is not equal to something\n",
        "if my_string != \"banana\":\n",
        "    print(\"We don't have a banana\")"
      ]
    },
    {
      "cell_type": "markdown",
      "id": "b4aa5c6e-2134-4191-872b-32dacb0234f6",
      "metadata": {
        "deletable": false,
        "editable": false,
        "tags": []
      },
      "source": [
        "### Operadores condicionales\n",
        "Además del operador de igualdad, podemos utilizar los siguientes operadores.\n",
        "\n",
        "- Menos que `a < b`\n",
        "- Mayor que `a > b`\n",
        "- Menos o igual que `a <= b`\n",
        "- Mayor o igual que `a >= b`"
      ]
    },
    {
      "cell_type": "markdown",
      "id": "6525a5fa-d9b3-448c-96af-8d4c1de624e7",
      "metadata": {
        "deletable": false,
        "editable": false,
        "tags": []
      },
      "source": [
        "### Combinación de condiciones\n",
        "Por último, tal vez queramos combinar condiciones. Por ejemplo, supongamos que estamos tratando de hallar coincidencias en el nombre completo de una persona, usando su nombre y apellido. Para hacer esto, podemos usar la palabra clave `and`, que requiere que ambas condiciones sean verdaderas."
      ]
    },
    {
      "cell_type": "code",
      "execution_count": null,
      "id": "88597c0e-b78e-4295-be05-0a3273822952",
      "metadata": {
        "tags": []
      },
      "outputs": [],
      "source": [
        "family = \"Smith\"\n",
        "given = \"Joe\"\n",
        "\n",
        "if family == \"Smith\" and given == \"Joe\":\n",
        "    print(\"We found him\")\n",
        "    \n",
        "if family == \"Smith\" and given == \"Sarah\":\n",
        "    print(\"We found her\")"
      ]
    },
    {
      "cell_type": "markdown",
      "id": "1d95e5ea-0057-4295-b98a-c6672fa3ad73",
      "metadata": {
        "deletable": false,
        "editable": false,
        "tags": []
      },
      "source": [
        "¿Qué pasaría si sólo necesitáramos cumplir con una de las condiciones? Para hacer esto, podemos usar la palabra clave `or`, que requiere que solo una de las condiciones sea verdadera."
      ]
    },
    {
      "cell_type": "code",
      "execution_count": null,
      "id": "31455fd3-c7ad-4b47-ace7-f05bfabac55e",
      "metadata": {
        "tags": []
      },
      "outputs": [],
      "source": [
        "family = \"Smith\"\n",
        "given = \"Joe\"\n",
        "\n",
        "if family == \"Smith\" or given == \"Joe\":\n",
        "    print(\"We found a Joe or a Smith\")"
      ]
    },
    {
      "cell_type": "markdown",
      "id": "02420001-10f1-4fce-b8e5-4d9d8840d96f",
      "metadata": {
        "deletable": false,
        "editable": false,
        "tags": []
      },
      "source": [
        "#### **Ejercicio 1**\n",
        "Crea una sentencia `if` que imprima \"Ella puede alquilar un coche\" si la variable `name` contiene \"Sarah\" y la variable `age` es mayor de 25.\n",
        "\n",
        "<details>\n",
        "  <summary>Show answer</summary>\n",
        "      <pre style=\"background-color: honeydew; padding: 10px; border-radius: 5px;\"><code style=\"background: none;\">if name == \"Sarah\" and age > 25:\n",
        "    print(\"She can rent a car\")</code></pre>\n",
        "</details>"
      ]
    },
    {
      "cell_type": "code",
      "execution_count": null,
      "id": "55bce486-84e6-4eed-b7b9-0eb91d99c5f2",
      "metadata": {
        "tags": []
      },
      "outputs": [],
      "source": [
        "name = \"Sarah\"\n",
        "age = 30\n",
        "\n",
        "# TODO: Write your if statement here"
      ]
    },
    {
      "cell_type": "markdown",
      "id": "adca1398-aac4-479e-8bc3-f8808bd25782",
      "metadata": {
        "deletable": false,
        "editable": false,
        "tags": []
      },
      "source": [
        "### Operador ternario\n",
        "También hay un acceso directo para una sentencia `if` llamada `operador ternario`. \n",
        "```python\n",
        "true_result if condition else false_result\n",
        "```\n",
        "Este es útil cuando tu sentencia `if` simplemente necesita devolver un valor."
      ]
    },
    {
      "cell_type": "code",
      "execution_count": null,
      "id": "e6f69838-5328-47b0-b1b9-876f72e1354d",
      "metadata": {
        "tags": []
      },
      "outputs": [],
      "source": [
        "age = 28\n",
        "\n",
        "age_type = 'adult' if age > 18 else 'child'\n",
        "\n",
        "print(age_type)"
      ]
    },
    {
      "cell_type": "markdown",
      "id": "d3c04265-6702-4645-9b47-a402ebc14497",
      "metadata": {
        "deletable": false,
        "editable": false,
        "tags": []
      },
      "source": [
        "## **Bucles**\n",
        "El otro tipo de estructura lógica que usamos a menudo es el *bucle*. \n",
        "\n",
        "```python\n",
        "for variable in collection:\n",
        "    Do something\n",
        "```\n",
        "\n",
        "Un bucle es útil cuando necesitamos que un bloque de código se ejecute varias veces. Por ejemplo, supongamos que queremos imprimir cada número entre 1 y 9. Podríamos hacer lo siguiente:"
      ]
    },
    {
      "cell_type": "code",
      "execution_count": null,
      "id": "1a54300f-c1e8-422f-9c5a-ed406ac01931",
      "metadata": {
        "tags": []
      },
      "outputs": [],
      "source": [
        "print(1)\n",
        "print(2)\n",
        "print(3)\n",
        "print(4)\n",
        "print(5)\n",
        "print(6)\n",
        "print(7)\n",
        "print(8)\n",
        "print(9)"
      ]
    },
    {
      "cell_type": "markdown",
      "id": "12f0e118-8155-44bf-b841-332445040f5a",
      "metadata": {
        "deletable": false,
        "editable": false,
        "tags": []
      },
      "source": [
        "Podemos ver fácilmente cómo este tipo de enfoque no es el más adecuado. En su lugar, podemos usar un bucle que se ejecuta una vez por cada número."
      ]
    },
    {
      "cell_type": "code",
      "execution_count": null,
      "id": "1f20ef91-0d8a-49a1-a01f-85f33f815d0a",
      "metadata": {
        "tags": []
      },
      "outputs": [],
      "source": [
        "# Loop over 1 to 9. The second number is an exclusive upper bound.\n",
        "for number in range(1, 10):\n",
        "    print(number)"
      ]
    },
    {
      "cell_type": "markdown",
      "id": "b63b9b04-8034-407e-b334-0189ded0d97a",
      "metadata": {
        "deletable": false,
        "editable": false,
        "tags": []
      },
      "source": [
        "### Iterando sobre una lista\n",
        "Los bucles son muy útiles para ejecutar un bloque de código una vez por cada elemento de una lista."
      ]
    },
    {
      "cell_type": "code",
      "execution_count": null,
      "id": "5f104bf6-9278-4bb5-866e-26cb18de4e62",
      "metadata": {
        "tags": []
      },
      "outputs": [],
      "source": [
        "my_list = [\"Michael\", \"Mans\", \"Alexis\", \"David\"]\n",
        "\n",
        "for name in my_list:\n",
        "    print(\"Hello, \", name)"
      ]
    },
    {
      "cell_type": "markdown",
      "id": "e5c1b10c-8176-4aac-ac6d-a6206a77f4e6",
      "metadata": {
        "deletable": false,
        "editable": false,
        "tags": []
      },
      "source": [
        "### Enumerar\n",
        "Finalmente, podemos iterar sobre una lista y obtener la posición de cada elemento en la lista usando `enumerate`."
      ]
    },
    {
      "cell_type": "code",
      "execution_count": null,
      "id": "9f1dc93b-87ce-4b29-80a1-fc0c47df3647",
      "metadata": {
        "tags": []
      },
      "outputs": [],
      "source": [
        "my_list = [\"Michael\", \"Mans\", \"Alexis\", \"David\"]\n",
        "\n",
        "for index, name in enumerate(my_list):\n",
        "    print(\"Hello, \", name, \"You are #\", index)"
      ]
    },
    {
      "cell_type": "markdown",
      "id": "5a886732-1a9d-4e78-97d9-f1e6d8cb3572",
      "metadata": {
        "deletable": false,
        "editable": false,
        "tags": []
      },
      "source": [
        "#### **Ejercicio 2**\n",
        "Para cada número en la lista `ages`, imprime \"Puedes alquilar un coche\" si el número es mayor de 25. Usa un bucle con un comando if dentro de él.\n",
        "\n",
        "<details>\n",
        "  <summary>Show answer</summary>\n",
        "      <pre style=\"background-color: honeydew; padding: 10px; border-radius: 5px;\"><code style=\"background: none;\">for age in ages:\n",
        "    if age > 25:\n",
        "        print(\"You can rent a car\")</code></pre>\n",
        "</details>"
      ]
    },
    {
      "cell_type": "code",
      "execution_count": null,
      "id": "0643377f-6b17-4400-9c48-c1c975feb09a",
      "metadata": {
        "tags": []
      },
      "outputs": [],
      "source": [
        "ages = [1, 30, 18, 87, 52]\n",
        "\n",
        "# TODO: Write your loop here\n"
      ]
    },
    {
      "cell_type": "markdown",
      "id": "5a477c46-2f6f-486e-a484-df3f75511390",
      "metadata": {
        "deletable": false,
        "editable": false,
        "tags": []
      },
      "source": [
        "**Resumen**\n",
        "En esta lección aprendimos sobre las principales estructuras lógicas en Python.\n",
        "- Declaraciones `if`, para ejecutar código condicionalmente\n",
        "- Bucles, para ejecutar código múltiples veces\n",
        "\n",
        "\n",
        "A continuación, echaremos un vistazo más de cerca a las listas y otros tipos de colecciones.\n",
        "\n",
        "[Next Lesson](<./5. Lists.ipynb>)"
      ]
    },
    {
      "cell_type": "code",
      "execution_count": null,
      "id": "c80060f4-a955-4666-9ca1-4ab59da6ddd9",
      "metadata": {},
      "outputs": [],
      "source": []
    }
  ],
  "metadata": {
    "kernelspec": {
      "display_name": "Python 3 (ipykernel)",
      "language": "python",
      "name": "python3"
    },
    "language_info": {
      "codemirror_mode": {
        "name": "ipython",
        "version": 3
      },
      "file_extension": ".py",
      "mimetype": "text/x-python",
      "name": "python",
      "nbconvert_exporter": "python",
      "pygments_lexer": "ipython3",
      "version": "3.10.6"
    }
  },
  "nbformat": 4,
  "nbformat_minor": 5
}