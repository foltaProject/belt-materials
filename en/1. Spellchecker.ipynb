{
 "cells": [
  {
   "cell_type": "markdown",
   "id": "91d04320-6db7-403a-9084-6a2026032361",
   "metadata": {
    "deletable": false,
    "editable": true,
    "tags": []
   },
   "source": [
    "# **Spellchecker**\n",
    "\n",
    "<div>\n",
    "<img src=\"../assets/spelling.png\" width=\"500\" style=\" display: block; margin-left: auto; margin-right: auto;\"/>\n",
    "</div>\n",
    "\n",
    "Let's create an app to spellcheck text in our language. While Microsoft Word and other text editors support spellchecking in high-resource languages such as English or Spanish, most low-resource langaguages aren't supported.\n",
    "\n",
    "#### How do we do it?\n",
    "There are two possible approaches to creating a spellchecker system. \n",
    "1. Store a huge list of every word in the language. When the user types a word, check if the word is in that list.\n",
    "2. Store the *stems* or *root words* for every word in your language. When a user types a word, check if the word is a valid form of one of the stems. This will require knowledge about the morphology of the language.\n",
    "\n",
    "Although you might guess otherwise, most modern software uses **Approach 1**. It's easier to implement and runs faster.\n",
    "\n",
    "***"
   ]
  },
  {
   "cell_type": "markdown",
   "id": "3de568f8-3193-44d0-b722-2e9f68019fb1",
   "metadata": {
    "deletable": false,
    "editable": false,
    "tags": []
   },
   "source": [
    "## **Data Preparation**"
   ]
  },
  {
   "cell_type": "markdown",
   "id": "a559e542-643b-4c1d-b879-748d88550772",
   "metadata": {
    "deletable": false,
    "editable": false,
    "tags": []
   },
   "source": [
    "### Load the corpus"
   ]
  },
  {
   "cell_type": "markdown",
   "id": "716e825d-8dcf-411f-8c8c-02516904d901",
   "metadata": {
    "deletable": false,
    "editable": true,
    "tags": []
   },
   "source": [
    "<div>\n",
    "<img src=\"../assets/corpus.png\" width=\"500\" style=\" display: block; margin-left: auto; margin-right: auto;\"/>\n",
    "</div>\n",
    "\n",
    "The **corpus** we will use for this project and future projects is an [Uspanteko](https://www.ethnologue.com/language/usp) corpus. Uspanteko is a Mayan language with around 5,000 speakers, a Latin-based script, and concatenative morphology.\n",
    "\n",
    "Our corpus has 23 plain text files of Uspanteko text. We will read all the files and concatenate them together.\n",
    "\n",
    "<div class=\"alert alert-block alert-warning\">\n",
    "    If you want to use your own language and have a corpus already, feel free to use that instead.\n",
    "</div>"
   ]
  },
  {
   "cell_type": "code",
   "execution_count": null,
   "id": "88373e3e-3551-442a-81e3-89c42d22a80d",
   "metadata": {
    "tags": []
   },
   "outputs": [],
   "source": [
    "from typing import List, Dict, Tuple\n",
    "import os\n",
    "\n",
    "corpus = \"\"\n",
    "\n",
    "\n",
    "# If you're using your own corpus, change this to the correct directory\n",
    "corpus_directory = \"../../corpora/usp\"\n",
    "\n",
    "# Loop over each file in the corpus so we can read it in\n",
    "for file_name in os.listdir(corpus_directory):\n",
    "    \n",
    "    # We will save one corpus entry, 50, for testing\n",
    "    if file_name == \"50.txt\":\n",
    "        continue\n",
    "        \n",
    "    \n",
    "    #  Make sure we only read text files\n",
    "    if \".txt\" not in file_name:\n",
    "        continue\n",
    "        \n",
    "        \n",
    "    # Read the current file as a string\n",
    "    file_path = os.path.join(corpus_directory, file_name)\n",
    "    \n",
    "    with open(file_path, 'r') as file:\n",
    "        file_contents = file.read()\n",
    "        corpus += (file_contents + \"\\n\")\n",
    "        \n",
    "print(corpus[:300])"
   ]
  },
  {
   "cell_type": "markdown",
   "id": "e2503ef9-3038-4c67-b713-2de6032d5f38",
   "metadata": {
    "deletable": false,
    "editable": false,
    "tags": []
   },
   "source": [
    "### Preprocessing\n",
    "Let's preprocess our text a little bit for spellchecking."
   ]
  },
  {
   "cell_type": "code",
   "execution_count": null,
   "id": "5d8f4edb-3350-423f-bd22-7569e94ff2f8",
   "metadata": {
    "tags": []
   },
   "outputs": [],
   "source": [
    "# First, strip accent marks (they aren't usually written in Uspanteko).\n",
    "\n",
    "from util import strip_accents\n",
    "\n",
    "corpus = strip_accents(corpus)\n",
    "strip_accents(\"ójor taq tziij kita' jaa,\")"
   ]
  },
  {
   "cell_type": "markdown",
   "id": "0506efe7-3ba9-4e16-b52e-6dbb628f00d7",
   "metadata": {
    "deletable": false,
    "editable": false,
    "tags": []
   },
   "source": [
    "#### **Exercise 1**\n",
    "Finish the next cell to make the entire corpus lowercase.\n",
    "<details>\n",
    "  <summary>Show answer</summary>\n",
    "      <pre style=\"background-color: honeydew; padding: 10px; border-radius: 5px;\"><code style=\"background: none;\">corpus = corpus.lower()</code></pre>\n",
    "</details>"
   ]
  },
  {
   "cell_type": "code",
   "execution_count": null,
   "id": "4556503f-72df-49c2-ac3a-6e1621944b18",
   "metadata": {
    "tags": []
   },
   "outputs": [],
   "source": [
    "# TODO: Finish me!!\n",
    "\n",
    "\n",
    "print(corpus[:99])"
   ]
  },
  {
   "cell_type": "markdown",
   "id": "32dd7d96-a256-4b7a-98d4-32cae7a7e353",
   "metadata": {
    "deletable": false,
    "editable": false,
    "tags": []
   },
   "source": [
    "## **Creating a Word List**\n",
    "Let's create a list of every word that occurs in our corpus. We will ignore punctuation marks and assume that a word is surrounded by spaces or punctuation. Additionally, we'll keep a count of the frequency of each word for use later on."
   ]
  },
  {
   "cell_type": "markdown",
   "id": "3bd9cda2-0ca6-4e61-afc1-a633c219a8a8",
   "metadata": {
    "deletable": false,
    "editable": false,
    "tags": []
   },
   "source": [
    "### Tokenize words using a regular expression\n",
    "\n",
    "> **Tokenization** refers to the process of breaking a string up into tokens. Tokens might be words, characters, or morphemes. In this case, we are tokenizing into words.\n",
    "\n",
    "We will use a [regular expression](./skills/regex.ipynb) that looks for clumps of letters and apostrophes. When we run the regex over our text, each clump it finds is a separate word.\n",
    "\n",
    "For instance, in the following string:\n",
    "\n",
    "```ójor taq tziij kita' jaa```\n",
    "\n",
    "The regex will produce:\n",
    "\n",
    "```[\"ojor\", \"taq\", \"tziij\", \"kita'\", \"jaa\"]```\n",
    "\n",
    "In Uspanteko, words are always divided by punctuation or whitespace. Therefore, we can assume each clump that contains only letters must be a word.\n",
    "\n",
    "<div class=\"alert alert-block alert-warning\">\n",
    "Your language might need a custom regex for detecting words. Please refer to the lesson on regular expressions for information, and you can use a regex testing tool such as <a href='https://regex101.com'>regex101</a> to make sure your regex works the way you expect.\n",
    "</div>"
   ]
  },
  {
   "cell_type": "code",
   "execution_count": null,
   "id": "a1c7386d-a990-4494-9172-0a3e1aa60e6a",
   "metadata": {
    "tags": []
   },
   "outputs": [],
   "source": [
    "import re\n",
    "\n",
    "# If your language uses some other character within words (like hyphens) you may need to update this regex appropriately\n",
    "word_regex = r\"[\\w|\\']+\"\n",
    "\n",
    "def tokenize(text: str) -> List[str]:\n",
    "    return re.findall(word_regex, text)\n",
    "\n",
    "words = tokenize(corpus)\n",
    "print(words[:100])"
   ]
  },
  {
   "cell_type": "markdown",
   "id": "89287992-57a0-4cd2-859f-2032cac88831",
   "metadata": {
    "deletable": false,
    "editable": false,
    "tags": []
   },
   "source": [
    "### Create a lexicon\n",
    "\n",
    "A **lexicon** refers to the entire vocabulary of words used in the corpus\n",
    "\n",
    "To create a lexicon, we will iterate over every word in the entire corpus. We use a [set](./skills/sets.ipynb) to create a list of all the unique words in the lexicon. "
   ]
  },
  {
   "cell_type": "markdown",
   "id": "ebf21fbd-bbfd-4204-ba86-886127981bcb",
   "metadata": {
    "deletable": false,
    "editable": true,
    "tags": []
   },
   "source": [
    "#### **Exercise 2**\n",
    "Create a set of all the unique words in the lexicon called `lexicon`. Then, print the number of elements in the lexicon.\n",
    "\n",
    "<details>\n",
    "  <summary>Show answer</summary>\n",
    "      <pre style=\"background-color: honeydew; padding: 10px; border-radius: 5px;\"><code style=\"background: none;\">lexicon = set()\n",
    "for word in words:\n",
    "    lexicon.add(word)</code></pre>\n",
    "      <pre style=\"background-color: honeydew; padding: 10px; border-radius: 5px;\"><code style=\"background: none;\">print(len(lexicon))\n",
    "</code></pre>\n",
    "</details>"
   ]
  },
  {
   "cell_type": "code",
   "execution_count": null,
   "id": "86257940-26f6-43bd-bcf3-7d028b4ecc08",
   "metadata": {
    "tags": []
   },
   "outputs": [],
   "source": [
    "# TODO: Loop over the corpus and add each word to the lexicon\n",
    "\n",
    "\n",
    "# TODO: Print the number of elements in the lexicon\n",
    "\n",
    "\n",
    "# Store the lexicon to permanent storage so we can retrieve it later if needed\n",
    "%store lexicon"
   ]
  },
  {
   "cell_type": "markdown",
   "id": "6e87a36c-a221-4994-8af5-3484092f03d7",
   "metadata": {
    "deletable": false,
    "editable": false,
    "tags": []
   },
   "source": [
    "## **Building a Spellchecker**\n",
    "At this point, we have a lexicon with all of our words and their frequencies. Now we're ready to build our spellchecker program. "
   ]
  },
  {
   "cell_type": "markdown",
   "id": "01de21f2-3edc-4101-8e79-98a6ecd2942e",
   "metadata": {
    "deletable": false,
    "editable": false,
    "tags": []
   },
   "source": [
    "### Detect mispelled words\n",
    "Let's create a function that will take a sentence and find any mispelled words. For each word, check if it occurs in our lexicon. If not, it's a spelling error.\n",
    "\n",
    "Right now, any time we see a word that isn't in our lexicon, we report it as a spelling error (even if its a new, correctly spelled word). We'll improve this later."
   ]
  },
  {
   "cell_type": "markdown",
   "id": "3b47ac8a-752c-4439-9abf-2a4f8182d413",
   "metadata": {
    "deletable": false,
    "tags": []
   },
   "source": [
    "#### **Exercise 3**\n",
    "Finish the following code to create a function that finds mispelled words.\n",
    "\n",
    "<details>\n",
    "  <summary>Show answer</summary>\n",
    "      <pre style=\"background-color: honeydew; padding: 10px; border-radius: 5px;\"><code style=\"background: none;\">def spellcheck(s: str):\n",
    "    # Preprocess and tokenize\n",
    "    # TODO: Strip accents\n",
    "    s = strip_accents(s)<br/>\n",
    "    # TODO: Make s lowercase\n",
    "    s = s.lower()<br/>\n",
    "    # TODO: Tokenize s\n",
    "    input_tokenized = tokenize(s)<br/>\n",
    "    # TODO: For each word in the input, check if the word is in the lexicon.\n",
    "    # If not, add the word to \"mispelled_words\".\n",
    "    mispelled_words = []<br/>\n",
    "    for word in input_tokenized:\n",
    "        if word not in lexicon:\n",
    "            mispelled_words.append(word)<br/>\n",
    "    return mispelled_words\n",
    "</code></pre>\n",
    "</details>\n",
    "\n",
    "<details>\n",
    "  <summary>Show alternate answer</summary>\n",
    "      <pre style=\"background-color: honeydew; padding: 10px; border-radius: 5px;\"><code style=\"background: none;\">def spellcheck(s: str):\n",
    "        # Preprocess and tokenize\n",
    "    # TODO: Strip accents\n",
    "    s = strip_accents(s)<br/>\n",
    "    # TODO: Make s lowercase\n",
    "    s = s.lower()<br/>\n",
    "    # TODO: Tokenize s\n",
    "    input_tokenized = tokenize(s)<br/>\n",
    "    # TODO: For each word in the input, check if the word is in the lexicon.\n",
    "    # If not, add the word to \"mispelled_words\".\n",
    "    mispelled_words = [word for word in input_tokenized if word not in lexicon]\n",
    "    return mispelled_words</code></pre>\n",
    "</details>"
   ]
  },
  {
   "cell_type": "code",
   "execution_count": null,
   "id": "cee73016-29bc-452c-a26a-de18713fff5e",
   "metadata": {
    "tags": []
   },
   "outputs": [],
   "source": [
    "def spellcheck(s: str):\n",
    "    # Preprocess and tokenize\n",
    "    # TODO: Strip accents\n",
    "    \n",
    "    \n",
    "    # TODO: Make s lowercase\n",
    "    \n",
    "    \n",
    "    # TODO: Tokenize s\n",
    "    \n",
    "    \n",
    "    # TODO: For each word in the input, check if the word is in the lexicon.\n",
    "    # If not, add the word to \"mispelled_words\".\n",
    "    \n",
    "    # TODO: Return mispelled_words\n",
    "\n",
    "# This sentence has one mispelling ('tzijj')\n",
    "test_sentence = \"Kwand xink'uli'k', re ójr taq tzijj in ák'el na.\"\n",
    "mispelled_words = spellcheck(test_sentence)\n",
    "print(\"Mispelled words:\", mispelled_words)\n",
    "print(\"✅ Correct\" if mispelled_words == ['tzijj'] else \"❌ Incorrect\")"
   ]
  },
  {
   "cell_type": "markdown",
   "id": "ad91f7d6-29b0-4bf4-89e2-12f28e53b2b3",
   "metadata": {
    "deletable": false,
    "editable": false,
    "tags": []
   },
   "source": [
    "### Find mispelled word positions\n",
    "In the future, we might want to know *where* the mispelled words occur in the text. The following function finds the location of mispelled words using our `spellcheck` function."
   ]
  },
  {
   "cell_type": "code",
   "execution_count": null,
   "id": "928fe4e4-4d90-416b-8aa1-cebf16b6a47e",
   "metadata": {
    "tags": []
   },
   "outputs": [],
   "source": [
    "def find_mispelled(text: str):\n",
    "    \"\"\"Finds mispelled words in a string.\n",
    "    :return: A list of tuples. Each tuple is (word, index) where `word` is the mispelled word and `index` is the index where it occurs.\n",
    "    \"\"\"\n",
    "    mispelled_words = spellcheck(text)\n",
    "    \n",
    "    mispelled_words_and_positions = []\n",
    "    \n",
    "    for word in mispelled_words:\n",
    "        # This regex searches for the given word, surrounded by whitespace or punctuation\n",
    "        word_regex = f\"(^|\\W)({word})($|\\W)\"\n",
    "        \n",
    "        # There might be multiple matches if we mispelled a word multiple times\n",
    "        for match in re.finditer(word_regex, text):\n",
    "            mispelled_words_and_positions.append({\n",
    "                'word': word,\n",
    "                'start': match.start(2),\n",
    "                'end': match.start(2) + len(word),\n",
    "                'entity': 'MISPELLED'\n",
    "            })\n",
    "        \n",
    "    # 4. Return the mispelled words, sorted by their position\n",
    "    return {\n",
    "        'text': text,\n",
    "        'entities': sorted(mispelled_words_and_positions, key = lambda x: x['start'])\n",
    "    }\n",
    "\n",
    "print(find_mispelled(test_sentence))"
   ]
  },
  {
   "cell_type": "markdown",
   "id": "79955b23-48a1-43dd-8f1a-3139aa0f65b4",
   "metadata": {
    "deletable": false,
    "editable": false,
    "tags": []
   },
   "source": [
    "## **Make the Spellchecker a Standalone App**\n",
    "\n",
    "Our function `find_mispelled` works to detect spelling errors. But this isn't a great tool for a user to use. Let's create a standalone app that users can use.\n",
    "\n",
    "We will use [Gradio](https://gradio.app), a free framework that lets you turn Python code into shareable web apps. Using Gradio is as easy as three lines of code."
   ]
  },
  {
   "cell_type": "code",
   "execution_count": null,
   "id": "c901a143-3dc7-497b-b5a0-e025ae187ae1",
   "metadata": {
    "tags": []
   },
   "outputs": [],
   "source": [
    "import gradio as gr\n",
    "\n",
    "gr.close_all()\n",
    "\n",
    "spellchecker = gr.Interface(fn=find_mispelled, inputs=\"text\", outputs=\"text\", live=True)\n",
    "spellchecker.launch(share=True)"
   ]
  },
  {
   "cell_type": "markdown",
   "id": "d675821d-b89c-4bf4-81bf-1a854159cc4a",
   "metadata": {
    "deletable": false,
    "editable": false,
    "tags": []
   },
   "source": [
    "### Improving the UI\n",
    "\n",
    "This works great, and we can even share our app using the web link above. Now, let's make the UI a little nicer."
   ]
  },
  {
   "cell_type": "code",
   "execution_count": null,
   "id": "5ab739a2-ddfb-4d16-8b23-140d6433dca0",
   "metadata": {
    "tags": []
   },
   "outputs": [],
   "source": [
    "gr.close_all()\n",
    "\n",
    "with gr.Blocks(theme=gr.themes.Soft(), title=\"Uspanteko Spellchecker\") as spellchecker:\n",
    "    gr.Markdown(\"# Uspanteko Spellchecker\")\n",
    "    \n",
    "    with gr.Row():\n",
    "        input_textbox = gr.Textbox(label=\"Text\", info=\"Text to spellcheck\", lines=3)\n",
    "        output_textbox = gr.HighlightedText(label=\"Spellchecked\", combine_adjacent=True)\n",
    "    \n",
    "    gr.Examples(\n",
    "        examples=[\"Kwand xink'uli'k', re ójr taq tzijj in ák'el na.\"],\n",
    "        inputs=input_textbox,\n",
    "        outputs=output_textbox,\n",
    "        fn=find_mispelled,\n",
    "    )\n",
    "    \n",
    "    # Connect the input to the output using our function\n",
    "    input_textbox.change(find_mispelled, input_textbox, output_textbox)\n",
    "    \n",
    "    \n",
    "spellchecker.launch(share=True)"
   ]
  },
  {
   "cell_type": "markdown",
   "id": "d9271857-5550-4e22-be9a-5bcaacc1fdc4",
   "metadata": {
    "deletable": false,
    "editable": false,
    "tags": []
   },
   "source": [
    "## **Allowing for New Words**\n",
    "There's a few problems with our app. First, if the user types a word that is spelled correctly, but doesn't appear in our corpus, it will be marked as incorrect.\n",
    "\n",
    "Remember when we saved one file from our corpus for testing? Let's see how many unseen words occur in that file."
   ]
  },
  {
   "cell_type": "code",
   "execution_count": null,
   "id": "b09ce01a-d9ea-4033-bbda-f1acc5179f78",
   "metadata": {
    "tags": []
   },
   "outputs": [],
   "source": [
    "test_text = \"\"\n",
    "\n",
    "with open(\"../../corpora/usp/50.txt\", 'r') as file:\n",
    "    test_text = file.read()\n",
    "\n",
    "len(find_mispelled(test_text)['entities'])"
   ]
  },
  {
   "cell_type": "markdown",
   "id": "5f756499-d4a5-4c7a-aa8e-39da4c64c59c",
   "metadata": {
    "deletable": false,
    "editable": false,
    "tags": []
   },
   "source": [
    "### Implementing \"Add word\" button in the UI\n",
    "\n",
    "There's a ton of false spelling errors detected! Because our system was built using only a small corpus, it will not contain every valid word in the language. Common word processing tools fix this problem by easily allowing the user to add a word to the lexicon, so let's modify our tool to do that. \n",
    "\n",
    "To do this, we will introduce the idea of [Gradio State](https://gradio.app/docs/#state). Keeping a `State` lets us use a global variable in our Gradio interfaces. We will use a `State` variable to keep track of the mispelled words.\n",
    "\n",
    "#### **Exercise 4**\n",
    "Finish the function `add_word_to_lexicon` to add the `word` to the `lexicon`. The argument `mispelled` is the result of calling `find_mispelled`.\n",
    "\n",
    "<details>\n",
    "  <summary>Show answer</summary>\n",
    "      <pre style=\"background-color: honeydew; padding: 10px; border-radius: 5px;\"><code style=\"background: none;\">def add_word_to_lexicon(mispelled):\n",
    "    first_mispelled_word = mispelled['entities'][0]['word']<br/>\n",
    "    lexicon.add(first_mispelled_word)</code></pre>\n",
    "</details>"
   ]
  },
  {
   "cell_type": "code",
   "execution_count": null,
   "id": "d6ab8676-d3b5-47cc-9a8d-ad16ad7bfa79",
   "metadata": {
    "tags": []
   },
   "outputs": [],
   "source": [
    "gr.close_all()\n",
    "\n",
    "def add_word_to_lexicon(mispelled):\n",
    "    # TODO: Add the first mispelled word to the lexicon\n",
    "    \n",
    "\n",
    "# NEW: We'll use this function when the input changes instead of `find_mispelled`. \n",
    "# We need to update 1) the output text, 2) the button, and 3) the global state\n",
    "def input_text_changed(text):\n",
    "    mispelled = find_mispelled(text)\n",
    "    \n",
    "    should_show_button = len(mispelled['entities']) > 0\n",
    "    first_mispelled_word = mispelled['entities'][0]['word'] if should_show_button else ''\n",
    "\n",
    "    # Here we use an \"update\" function to change the textbox properties. Learn more: https://gradio.app/docs/#update\n",
    "    add_to_lexicon_button_updater = gr.Button.update(visible=should_show_button, \n",
    "                                                     value=f\"Add '{first_mispelled_word}' to lexicon\")\n",
    "\n",
    "    return mispelled, add_to_lexicon_button_updater, mispelled\n",
    "\n",
    "    \n",
    "# Interface\n",
    "with gr.Blocks(theme=gr.themes.Soft(), title=\"Uspanteko Spellchecker\") as spellchecker:\n",
    "    # NEW: A 'State' variable that keeps track of the mispelled words\n",
    "    mispelled_words_state = gr.State(None)\n",
    "    \n",
    "    gr.Markdown(\"# Uspanteko Spellchecker\")\n",
    "    \n",
    "    with gr.Row():\n",
    "        input_textbox = gr.Textbox(label=\"Text\", info=\"Text to spellcheck\", lines=3)\n",
    "        \n",
    "        with gr.Column():\n",
    "            output_textbox = gr.HighlightedText(label=\"Spellchecked\", combine_adjacent=True)\n",
    "            \n",
    "            # NEW: A button that adds the first mispelled word to the lexicon\n",
    "            add_word_button = gr.Button(value=f\"Add word to lexicon\", visible=False)\n",
    "            \n",
    "    gr.Examples(\n",
    "        examples=[\"Kwand xink'uli'k', re ójr taq tzijj in ák'el na.\"],\n",
    "        inputs=input_textbox,\n",
    "        outputs=output_textbox,\n",
    "        fn=find_mispelled,\n",
    "    )\n",
    "    \n",
    "    input_textbox.change(input_text_changed, input_textbox, [output_textbox, add_word_button, mispelled_words_state])\n",
    "    \n",
    "    # NEW: Run a function when the button is called, then update the state\n",
    "    add_word_button \\\n",
    "        .click(add_word_to_lexicon, [mispelled_words_state]) \\\n",
    "        .then(input_text_changed, input_textbox, [output_textbox, add_word_button, mispelled_words_state])\n",
    "    \n",
    "        \n",
    "spellchecker.launch(share=True)"
   ]
  },
  {
   "cell_type": "markdown",
   "id": "82380b8a-c3f4-4cdf-9cc7-46f3cd22268e",
   "metadata": {},
   "source": [
    "Now, we can easily add any words that are correctly spelled to our dictionary, and they will not be marked as errors in the future!"
   ]
  },
  {
   "cell_type": "markdown",
   "id": "d068ac35-b4bc-49a1-822c-e51ef2cc8ee0",
   "metadata": {
    "deletable": false,
    "editable": false,
    "tags": []
   },
   "source": [
    "## **Spell Correction**\n",
    "Lastly, it would be nice to update our spellchecker so it gives suggestions for correct spelling when there was an error. To do this, we need to determine what word in our lexicon is closest to what was typed. We will use **edit distance**, a measure of how many edits (additions, deletions, changes) it takes to get from one string to another."
   ]
  },
  {
   "cell_type": "code",
   "execution_count": null,
   "id": "f7f39974-5d96-4cd9-991a-5c5885ba222a",
   "metadata": {
    "tags": []
   },
   "outputs": [],
   "source": [
    "import nltk\n",
    "\n",
    "def spelling_suggestions(mispelled_word, n):\n",
    "    # 1. Calculate the edit distance between the word and every word in the lexicon\n",
    "    candidate_spellings = []\n",
    "    \n",
    "    for word in lexicon:\n",
    "        edit_distance = nltk.edit_distance(word, mispelled_word)\n",
    "        candidate_spellings.append((word, edit_distance))\n",
    "    \n",
    "    # 2. Find the top n closest words\n",
    "    sorted_candidates = sorted(candidate_spellings, key=lambda x: (x[1]))\n",
    "    top_n_candidates = sorted_candidates[:n]\n",
    "    top_n_words_only = [candidate[0] for candidate in top_n_candidates]\n",
    "    return top_n_words_only\n",
    "\n",
    "spelling_suggestions(\"tzijj\", 3)"
   ]
  },
  {
   "cell_type": "markdown",
   "id": "dc570d4d-062c-4302-b362-d6d4820b3810",
   "metadata": {
    "deletable": false,
    "editable": false,
    "tags": []
   },
   "source": [
    "### Implementing suggestions in the UI\n",
    "Let's implement this functionality in the UI!"
   ]
  },
  {
   "cell_type": "code",
   "execution_count": null,
   "id": "bc13b84e-326d-42e0-8062-d328c940da89",
   "metadata": {
    "tags": []
   },
   "outputs": [],
   "source": [
    "gr.close_all()\n",
    "\n",
    "def input_text_changed2(text):\n",
    "    mispelled = find_mispelled(text)\n",
    "    \n",
    "    should_show_button = len(mispelled['entities']) > 0\n",
    "    first_mispelled_word = mispelled['entities'][0]['word'] if should_show_button else ''\n",
    "\n",
    "    add_to_lexicon_button_updater = gr.Button.update(visible=should_show_button, \n",
    "                                                     value=f\"Add '{first_mispelled_word}' to lexicon\")\n",
    "    \n",
    "    # NEW: Generate suggestions for the closest spelling\n",
    "    suggestions = spelling_suggestions(first_mispelled_word, 3)\n",
    "    suggestions_text = \" | \".join(suggestions)\n",
    "\n",
    "    return mispelled, add_to_lexicon_button_updater, mispelled, suggestions_text\n",
    "\n",
    "    \n",
    "# Interface\n",
    "with gr.Blocks(theme=gr.themes.Soft(), title=\"Uspanteko Spellchecker\") as spellchecker:\n",
    "    mispelled_words_state = gr.State(None)\n",
    "    \n",
    "    gr.Markdown(\"# Uspanteko Spellchecker\")\n",
    "    \n",
    "    with gr.Row():\n",
    "        input_textbox = gr.Textbox(label=\"Text\", info=\"Text to spellcheck\", lines=3)\n",
    "        \n",
    "        with gr.Column():\n",
    "            output_textbox = gr.HighlightedText(label=\"Spellchecked\", combine_adjacent=True)\n",
    "            add_word_button = gr.Button(value=f\"Add word to lexicon\", visible=False)\n",
    "            \n",
    "            # NEW: Show suggested spellings\n",
    "            suggestions_textbox = gr.Textbox(label=\"Suggestions\", interactive=False)\n",
    "            \n",
    "    gr.Examples(\n",
    "        examples=[\"Kwand xink'uli'k', re ójr taq tzijj in ák'el na.\"],\n",
    "        inputs=input_textbox,\n",
    "        outputs=output_textbox,\n",
    "        fn=find_mispelled,\n",
    "    )\n",
    "    \n",
    "    input_textbox.change(input_text_changed2, input_textbox, [output_textbox, add_word_button, mispelled_words_state, suggestions_textbox])\n",
    "    \n",
    "    add_word_button \\\n",
    "        .click(add_word_to_lexicon, [mispelled_words_state]) \\\n",
    "        .then(input_text_changed2, input_textbox, [output_textbox, add_word_button, mispelled_words_state, suggestions_textbox])\n",
    "    \n",
    "        \n",
    "spellchecker.launch(share=True)"
   ]
  },
  {
   "cell_type": "markdown",
   "id": "624dd3af-c5fd-40ae-839d-d61c282a06fc",
   "metadata": {
    "deletable": false,
    "editable": false,
    "tags": []
   },
   "source": [
    "## **Summary**\n",
    "In this tutorial, we built a spellchecker tool for a low-resource language. This included:\n",
    "- Building a lexicon from source texts\n",
    "- Detecting mispelled words\n",
    "- Predicting the correct spelling using similarity metrics\n",
    "\n",
    "### **Challenges**\n",
    "1. Right now, our spellchecker only lets you add the first mispelled word to the lexicon. Enhance this functionality by creating two new buttons. One button will let you **Add all** mispelled words to the lexicon. The other button will let you **Ignore** a mispelled word and move to the next one. \n",
    "2. Our spellchecker displays suggestions, but it doesn't let you do anything with them. Replace the textbox with buttons for each suggestion. When you click on a suggestion, it should replace the mispelled word in the input textbox."
   ]
  },
  {
   "cell_type": "code",
   "execution_count": null,
   "id": "e64b2aa5-4bf9-41d7-88c2-573a63eb1a79",
   "metadata": {},
   "outputs": [],
   "source": []
  }
 ],
 "metadata": {
  "kernelspec": {
   "display_name": "Python 3 (ipykernel)",
   "language": "python",
   "name": "python3"
  },
  "language_info": {
   "codemirror_mode": {
    "name": "ipython",
    "version": 3
   },
   "file_extension": ".py",
   "mimetype": "text/x-python",
   "name": "python",
   "nbconvert_exporter": "python",
   "pygments_lexer": "ipython3",
   "version": "3.10.0"
  }
 },
 "nbformat": 4,
 "nbformat_minor": 5
}
