{
 "cells": [
  {
   "cell_type": "markdown",
   "id": "694ef20a-2f2c-4d27-972d-d5f53a4b7753",
   "metadata": {
    "deletable": false,
    "editable": false,
    "tags": []
   },
   "source": [
    "# **Reading and Writing Files**\n",
    "This set of skills will focus on specific techniques relevant for building language technologies.\n",
    "\n",
    "We will often need to read in corpus files and write out text. Luckily, Python makes it easy to do this."
   ]
  },
  {
   "cell_type": "markdown",
   "id": "0a9ef92a-32af-43a9-9c94-d594035f3ded",
   "metadata": {
    "deletable": false,
    "editable": false,
    "tags": []
   },
   "source": [
    "## **Reading Files**\n",
    "To read in a file, we will use the following:"
   ]
  },
  {
   "cell_type": "code",
   "execution_count": null,
   "id": "c29f0c38-9838-473b-85f3-8554cde4da64",
   "metadata": {
    "tags": []
   },
   "outputs": [],
   "source": [
    "with open('../../assets/sometext.txt', 'r') as file:\n",
    "    print(file.read())"
   ]
  },
  {
   "cell_type": "markdown",
   "id": "1f0f1378-7d09-41b9-be54-2e50dec4f562",
   "metadata": {
    "deletable": false,
    "editable": false,
    "tags": []
   },
   "source": [
    "The `'r'` argument indicates that we are opening the file to be read. We cannot read and write and file at the same time.\n",
    "\n",
    "### With Blocks\n",
    "This is our first time using a `with` block. \n",
    "\n",
    "```python\n",
    "with statement as variable:\n",
    "    do something using variable\n",
    "```\n",
    "\n",
    "When we open a file for reading or writing, we should close the file when we are done using it. We could do this manually, using `file.close()`, but the `with` block handles closing automatically and ensures we only have the file open as long as we needed."
   ]
  },
  {
   "cell_type": "markdown",
   "id": "4be06263-d3b1-4d55-82b9-8d5c8e763e61",
   "metadata": {
    "deletable": false,
    "editable": false,
    "tags": []
   },
   "source": [
    "#### **Exercise 1**\n",
    "Read in the file `sometext.txt` into a string, then make that string lowercase and print it.\n",
    "\n",
    "<details>\n",
    "  <summary>Show answer</summary>\n",
    "      <pre style=\"background-color: honeydew; padding: 10px; border-radius: 5px;\"><code style=\"background: none;\">with open('sometext.txt', 'r') as file:\n",
    "    my_string = file.read()\n",
    "    print(my_string.lower())</code></pre>\n",
    "</details>"
   ]
  },
  {
   "cell_type": "code",
   "execution_count": null,
   "id": "61c1bed8-50bc-4544-a756-7d6b49b0f490",
   "metadata": {
    "tags": []
   },
   "outputs": [],
   "source": [
    "# TODO: Read in sometext.txt to a string\n",
    "\n",
    "# TODO: Make the string lowercase and print it\n"
   ]
  },
  {
   "cell_type": "markdown",
   "id": "7307f74d-ae30-4b35-b472-a5bc0fd86f43",
   "metadata": {
    "deletable": false,
    "editable": false,
    "tags": []
   },
   "source": [
    "## **Writing Files**\n",
    "Writing to text files is very similar. Instead of the `'r'` flag, we provide either `'w'` to overwrite or `'a'` to append to a file. We can write to a file, even if it doesn't exist yet."
   ]
  },
  {
   "cell_type": "code",
   "execution_count": null,
   "id": "ebe5e19e-7d71-495f-9dcf-f9484f9a4f0e",
   "metadata": {
    "tags": []
   },
   "outputs": [],
   "source": [
    "# Overwrite anything in the file\n",
    "with open('newfile.txt', 'w') as file:\n",
    "    file.write(\"Hello, file!\")\n",
    "    \n",
    "# Add to the end of the file\n",
    "with open('newfile.txt', 'a') as file:\n",
    "    file.write(\"\\nAnd here's some more\")"
   ]
  },
  {
   "cell_type": "markdown",
   "id": "51f9b99f-a9d6-4bf4-84ca-d67393cb256e",
   "metadata": {
    "deletable": false,
    "editable": false,
    "tags": []
   },
   "source": [
    "#### **Exercise 2**\n",
    "Read in the file `sometext.txt` into a string, lowercase it, and split it by spaces. Then, create a dictionary of all the unique words and their counts in that string. Finally, write a new file called `wordcounts.txt` where each line is a word and it's count.\n",
    "\n",
    "<details>\n",
    "  <summary>Show answer</summary>\n",
    "      <pre style=\"background-color: honeydew; padding: 10px; border-radius: 5px;\"><code style=\"background: none;\">with open('sometext.txt', 'r') as file:\n",
    "    text = file.read()\n",
    "    text = text.lower()\n",
    "    text = text.split()<br/>\n",
    "words = dict()\n",
    "for word in text:\n",
    "    if word in words:\n",
    "        words[word] += 1\n",
    "    else:\n",
    "        words[word] = 1<br/>\n",
    "with open('wordcounts.txt', 'w') as file:\n",
    "    for word in words:\n",
    "        file.write(f\"{word}:\\t{words[word]}\\n\")</code></pre>\n",
    "</details>"
   ]
  },
  {
   "cell_type": "code",
   "execution_count": null,
   "id": "f16f69ba-38ab-493e-a19a-304f389f0606",
   "metadata": {
    "tags": []
   },
   "outputs": [],
   "source": [
    "# TODO: Exercise 2"
   ]
  },
  {
   "cell_type": "markdown",
   "id": "521512ba-9894-4ce1-88d9-a4269d572e4d",
   "metadata": {
    "deletable": false,
    "editable": false,
    "tags": []
   },
   "source": [
    "## **Summary**\n",
    "In this lesson, you learned about reading and writing files in Python.\n",
    "- Files can only be opened for reading *or* writing at one time\n",
    "- `with` blocks help manage file closing automatically\n",
    "\n",
    "Next, we'll talk about building real apps with the Gradio platform.\n",
    "\n",
    "[Next Lesson](<./8. Gradio.ipynb>)"
   ]
  },
  {
   "cell_type": "code",
   "execution_count": null,
   "id": "33198116-5c68-4698-a5d8-8c055cfa10a0",
   "metadata": {},
   "outputs": [],
   "source": []
  }
 ],
 "metadata": {
  "kernelspec": {
   "display_name": "Python 3 (ipykernel)",
   "language": "python",
   "name": "python3"
  },
  "language_info": {
   "codemirror_mode": {
    "name": "ipython",
    "version": 3
   },
   "file_extension": ".py",
   "mimetype": "text/x-python",
   "name": "python",
   "nbconvert_exporter": "python",
   "pygments_lexer": "ipython3",
   "version": "3.10.6"
  }
 },
 "nbformat": 4,
 "nbformat_minor": 5
}
