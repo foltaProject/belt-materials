{
 "cells": [
  {
   "cell_type": "markdown",
   "id": "5e2af079-1d6b-4ad5-889c-c3c27b986d88",
   "metadata": {},
   "source": [
    "# 4. Word Games\n",
    "\n",
    "To wrap up our projects, we'll create some fun word games that can be used for enjoyment as well as language learning.\n",
    "\n",
    "## Wordle\n",
    "First, we'll design a variant of [Wordle](https://www.nytimes.com/games/wordle/index.html) for your own language. In Wordle, the player is trying to guess some 5-letter word. "
   ]
  }
 ],
 "metadata": {
  "kernelspec": {
   "display_name": "Python 3 (ipykernel)",
   "language": "python",
   "name": "python3"
  },
  "language_info": {
   "codemirror_mode": {
    "name": "ipython",
    "version": 3
   },
   "file_extension": ".py",
   "mimetype": "text/x-python",
   "name": "python",
   "nbconvert_exporter": "python",
   "pygments_lexer": "ipython3",
   "version": "3.10.6"
  }
 },
 "nbformat": 4,
 "nbformat_minor": 5
}
