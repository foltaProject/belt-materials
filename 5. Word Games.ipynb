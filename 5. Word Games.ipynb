{
 "cells": [
  {
   "cell_type": "markdown",
   "id": "d7f1935e-6740-41ff-89e1-4e6f4b901eaf",
   "metadata": {
    "deletable": false,
    "editable": false,
    "tags": []
   },
   "source": [
    "# **Word Games**\n",
    "\n",
    "To wrap up our projects, we'll create some fun word games that can be used for enjoyment as well as language learning. These projects shouldn't be too technically complex, but they'll let you use your Python skills in a creative and fun way."
   ]
  },
  {
   "cell_type": "markdown",
   "id": "5ce52ed7-ef75-4165-9656-837ad9f8b124",
   "metadata": {
    "deletable": false,
    "editable": false,
    "tags": []
   },
   "source": [
    "## **Unscramble**\n",
    "For the first game, we will random provide a word where the letters are scrambled, and the user has to guess the unscrambled word.\n",
    "\n",
    "### Data Preparation\n",
    "First, let's load the corpus. For this project, we'll use a Latin corpus (but you're welcome to use the English or Uspanteko corpus or your own!"
   ]
  },
  {
   "cell_type": "code",
   "execution_count": null,
   "id": "9943a59c-9649-454c-a7df-2376f07ee218",
   "metadata": {
    "tags": []
   },
   "outputs": [],
   "source": [
    "# Load our data\n",
    "import util\n",
    "\n",
    "# REPLACE WITH YOUR CORPUS DIRECTORY\n",
    "corpus = util.load_raw_text(corpus_directory=\"../corpora/lat\")"
   ]
  },
  {
   "cell_type": "markdown",
   "id": "b4f3142d-dbd8-4025-92bf-c4e03a042c92",
   "metadata": {
    "deletable": false,
    "editable": false,
    "tags": []
   },
   "source": [
    "#### **Exercise 1**\n",
    "We need a set of all the unique words in the corpus. Following the approach used in the Spellchecker and Predictive Text projects, do the following:\n",
    "1. Strip accents\n",
    "1. Make the text lowercase\n",
    "1. Tokenize\n",
    "1. Create and fill a set called `lexicon` with all the unique words.\n",
    "\n",
    "You may use any function in the `util.py` file.\n",
    "\n",
    "<details>\n",
    "  <summary>Show answer</summary>\n",
    "      <pre style=\"background-color: honeydew; padding: 10px; border-radius: 5px;\"><code style=\"background: none;\">import re\n",
    "\n",
    "corpus = util.strip_accents(corpus)\n",
    "corpus = corpus.lower()\n",
    "\n",
    "def tokenize(text: str):\n",
    "    return re.findall(word_regex, text)\n",
    "\n",
    "words = tokenize(corpus)\n",
    "\n",
    "lexicon = set()\n",
    "for word in words:\n",
    "    lexicon.add(word)</code></pre></details>"
   ]
  },
  {
   "cell_type": "code",
   "execution_count": null,
   "id": "7d55f74d-ca3f-4edb-bb20-fe2dd41c59a7",
   "metadata": {
    "tags": []
   },
   "outputs": [],
   "source": [
    "word_regex = r\"[a-z]+\"\n",
    "\n",
    "# TODO: See above!\n",
    "\n",
    "print(len(lexicon), \"unique words\")"
   ]
  },
  {
   "cell_type": "markdown",
   "id": "b28dcae7-030b-4f2d-85a3-c049cd664858",
   "metadata": {
    "deletable": false,
    "editable": false,
    "tags": []
   },
   "source": [
    "Next, let's filter out any words shorter than 4 letters (since those will be too easy) and longer than 8 letters (which will be too difficult)."
   ]
  },
  {
   "cell_type": "code",
   "execution_count": null,
   "id": "9c13525e-13b0-4714-8020-d7b40a5cbf2b",
   "metadata": {
    "tags": []
   },
   "outputs": [],
   "source": [
    "filtered_lexicon = set()\n",
    "\n",
    "for word in lexicon:\n",
    "    if 4 <= len(word) <= 8:\n",
    "        filtered_lexicon.add(word)\n",
    "\n",
    "print(len(filtered_lexicon))"
   ]
  },
  {
   "cell_type": "markdown",
   "id": "6f721e59-9a98-480c-90ad-a19be92e5c26",
   "metadata": {
    "deletable": false,
    "editable": false,
    "tags": []
   },
   "source": [
    "### Scrambling a random word\n",
    "Let's build a function that chooses a random word and scrambles it."
   ]
  },
  {
   "cell_type": "code",
   "execution_count": null,
   "id": "e5e4d06b-bf6f-4a64-b968-7d01ecbf7dc3",
   "metadata": {
    "tags": []
   },
   "outputs": [],
   "source": [
    "import random\n",
    "\n",
    "def random_scramble(lexicon: set):\n",
    "    lexicon = list(lexicon)\n",
    "    \n",
    "    word = random.choice(lexicon)\n",
    "    \n",
    "    # Turn the word into a list of characters \n",
    "    word_chars = list(word)\n",
    "    \n",
    "    # Shuffle those characters\n",
    "    random.shuffle(word_chars)\n",
    "    \n",
    "    # Re-join the characters into a string\n",
    "    shuffled = ''.join(word_chars)\n",
    "    \n",
    "    return {'shuffled': shuffled, 'original': word}\n",
    "\n",
    "random_scramble(filtered_lexicon)"
   ]
  },
  {
   "cell_type": "markdown",
   "id": "ac919d83-890d-4164-a457-99d3b01ebb0e",
   "metadata": {
    "deletable": false,
    "editable": false,
    "tags": []
   },
   "source": [
    "### Build an app\n",
    "Finally, let's use this function to build a loop where the user guesses a word, and the app tells them if it was correct or not."
   ]
  },
  {
   "cell_type": "code",
   "execution_count": null,
   "id": "f41dfd5c-0302-4aa7-9c7f-32e7fe7b9092",
   "metadata": {
    "tags": []
   },
   "outputs": [],
   "source": [
    "import gradio as gr\n",
    "from typing import Tuple\n",
    "\n",
    "def scrambler_game(current_word, guess: str):\n",
    "    \"\"\"\n",
    "    If `guess` is the correct word, return 'Correct' and pick a new word. Otherwise, return 'Incorrect'\n",
    "    Returns (correct_label, scrambled_word, current_word)\n",
    "    \"\"\"\n",
    "    if guess == current_word['original']:\n",
    "        current_word = random_scramble(filtered_lexicon)\n",
    "        return ('Correct', current_word['shuffled'], current_word)\n",
    "    else:\n",
    "        return ('Incorrect', current_word['shuffled'], current_word)\n",
    "    \n",
    "\n",
    "def new_word():\n",
    "    current_word = random_scramble(filtered_lexicon)\n",
    "    return ('', current_word['shuffled'], current_word)\n",
    "                \n",
    "                \n",
    "with gr.Blocks(theme=gr.themes.Soft(), title=\"Latin Unscramble\") as unscramble:\n",
    "    # Start with some initial word\n",
    "    current_word = gr.State(random_scramble(filtered_lexicon))\n",
    "    \n",
    "    gr.Markdown(\"# Latin Unscramble\")\n",
    "    \n",
    "    # Notice how we set the initial value based on the State\n",
    "    scrambled_textbox = gr.Textbox(label=\"Scrambled\", interactive=False, value=current_word.value['shuffled'])\n",
    "    \n",
    "    guess_textbox = gr.Textbox(label=\"Guess\")\n",
    "    guess_button = gr.Button(value=\"Submit\")\n",
    "    \n",
    "    new_word_button = gr.Button(value=\"New Word\")\n",
    "    \n",
    "    output_textbox = gr.Textbox(label=\"Result\", interactive=False)\n",
    "    \n",
    "    guess_button.click(fn=scrambler_game, inputs=[current_word, guess_textbox], outputs=[output_textbox, scrambled_textbox, current_word])\n",
    "    new_word_button.click(fn=new_word, inputs=[], outputs=[output_textbox, scrambled_textbox, current_word])\n",
    "    \n",
    "unscramble.launch()"
   ]
  },
  {
   "cell_type": "markdown",
   "id": "0aff71aa-2310-47cd-b5ca-41e540f3f671",
   "metadata": {
    "deletable": false,
    "editable": false,
    "tags": []
   },
   "source": [
    "### **Exercise 2**\n",
    "Modify the Unscramble game with one or more of the following features:\n",
    "- Add the ability to get a hint, such as the first letter of the unscrambled word\n",
    "- Give the user a limited number of guesses to guess each word\n",
    "- Keep track of how many times the user has gotten the word correct\n",
    "- Clear the user's guess after they click \"Submit\""
   ]
  },
  {
   "cell_type": "code",
   "execution_count": null,
   "id": "0ef3ce92-9ecd-4fc8-9663-9bc43fe97ecf",
   "metadata": {
    "tags": []
   },
   "outputs": [],
   "source": [
    "# TODO: Your improved word games app!"
   ]
  },
  {
   "cell_type": "markdown",
   "id": "495b7efb-c0ed-4979-a4e6-1255c6e97203",
   "metadata": {
    "deletable": false,
    "editable": false,
    "tags": []
   },
   "source": [
    "## **Hangman**\n",
    "\n",
    "Next, let's make a hangman game using our language. In this game, the computer picks a random word, and the player guesses letters one at a time. The player can only have 6 incorrect letters before they lose the game."
   ]
  },
  {
   "cell_type": "code",
   "execution_count": null,
   "id": "91fced9d-d8d5-43cc-8b4d-f5b78ed3ef57",
   "metadata": {
    "tags": []
   },
   "outputs": [],
   "source": [
    "def create_hangman_clue(word, guessed_letters):\n",
    "    \"\"\"\n",
    "    Given a word and a list of letters, create the correct clue. \n",
    "    \n",
    "    For instance, if the word is 'apple' and the guessed letters are 'a' and 'l', the clue should be 'a _ _ l _'\n",
    "    \"\"\"\n",
    "    clue = ''\n",
    "    for letter in word:\n",
    "        if letter in guessed_letters:\n",
    "            clue += letter + ' '\n",
    "        else:\n",
    "            clue += '_ '\n",
    "    return clue\n",
    "    \n",
    "\n",
    "def pick_new_word(lexicon):\n",
    "    lexicon = list(lexicon)\n",
    "    \n",
    "    return {\n",
    "        'word': random.choice(lexicon),\n",
    "        'guessed_letters': set(),\n",
    "        'remaining_chances': 6\n",
    "    }\n",
    "\n",
    "\n",
    "def hangman_game(current_state, guess):\n",
    "    \"\"\"Update the current state based on the guess.\"\"\"\n",
    "    guess = guess.lower()\n",
    "    \n",
    "    if guess in current_state['guessed_letters'] or len(guess) > 1:\n",
    "        # Illegal guess, do nothing\n",
    "        return (current_state, 'Invalid guess')\n",
    "    \n",
    "    current_state['guessed_letters'].add(guess)\n",
    "    \n",
    "    if guess not in current_state['word']:\n",
    "        # Wrong guess\n",
    "        current_state['remaining_chances'] -= 1\n",
    "        \n",
    "        if current_state['remaining_chances'] == 0:\n",
    "            # No more chances! New word\n",
    "            current_state = pick_new_word(filtered_lexicon)\n",
    "            return (current_state, 'You lose!')\n",
    "        else:\n",
    "            return (current_state, 'Wrong guess :(')\n",
    "        \n",
    "    else:\n",
    "        # Right guess, check if there's any letters left\n",
    "        for letter in current_state['word']:\n",
    "            if letter not in current_state['guessed_letters']:\n",
    "                # Still letters remaining\n",
    "                return (current_state, 'Correct guess!')\n",
    "        \n",
    "        # If we made it here, there's no letters left.\n",
    "        current_state = pick_new_word(filtered_lexicon)\n",
    "        return (current_state, 'You win!')\n",
    "    \n",
    "\n",
    "def state_changed(current_state):\n",
    "    clue = create_hangman_clue(current_state['word'], current_state['guessed_letters'])\n",
    "    guessed_letters = current_state['guessed_letters']\n",
    "    remaining_chances = current_state['remaining_chances']\n",
    "    return (clue, guessed_letters, remaining_chances)\n",
    "\n",
    "\n",
    "with gr.Blocks(theme=gr.themes.Soft(), title=\"Latin Hangman\") as hangman:\n",
    "    current_word = gr.State(pick_new_word(filtered_lexicon))\n",
    "    \n",
    "    gr.Markdown(\"# Latin Hangman\")\n",
    "    \n",
    "    with gr.Row():\n",
    "        current_word_textbox = gr.Textbox(label=\"Clue\", interactive=False, value=create_hangman_clue(current_word.value['word'], current_word.value['guessed_letters']))\n",
    "        guessed_letters_textbox = gr.Textbox(label=\"Guessed letters\", interactive=False)\n",
    "        remaining_chances_textbox = gr.Textbox(label=\"Remaining chances\", interactive=False, value=6)\n",
    "    \n",
    "    guess_textbox = gr.Textbox(label=\"Guess\")\n",
    "    guess_button = gr.Button(value=\"Submit\")\n",
    "    \n",
    "    output_textbox = gr.Textbox(label=\"Result\", interactive=False)\n",
    "    \n",
    "    guess_button.click(fn=hangman_game, inputs=[current_word, guess_textbox], outputs=[current_word, output_textbox])\\\n",
    "                .then(fn=state_changed, inputs=[current_word], outputs=[current_word_textbox, guessed_letters_textbox, remaining_chances_textbox])\n",
    "    \n",
    "hangman.launch()"
   ]
  },
  {
   "cell_type": "markdown",
   "id": "afb907fb-2730-4e8f-89c0-029de393cbd5",
   "metadata": {
    "deletable": false,
    "editable": false,
    "tags": []
   },
   "source": [
    "### **Exercise 3**\n",
    "Modify the Hangman game with one or more of the following features:\n",
    "- Add the ability to get a hint, such as a free letter\n",
    "- When the player loses a game, show the correct word\n",
    "- Keep track of how many times the player wins and loses"
   ]
  },
  {
   "cell_type": "code",
   "execution_count": null,
   "id": "8d41886b-0b74-4c7c-81ec-146b44a2f2db",
   "metadata": {
    "tags": []
   },
   "outputs": [],
   "source": [
    "# TODO: Your improved hangman game"
   ]
  },
  {
   "cell_type": "markdown",
   "id": "97a647f2-7cda-48cc-982b-7641768a78fc",
   "metadata": {
    "deletable": false,
    "editable": false,
    "tags": []
   },
   "source": [
    "## **Build your own game**\n",
    "Finally, to really test how much you've learned, pick some word game and build it with a language of your choice. Some ideas include [Wordle](https://www.nytimes.com/games/wordle/index.html), making as many words as possible from a set of letters, or Wheel of Fortune."
   ]
  },
  {
   "cell_type": "code",
   "execution_count": null,
   "id": "470eaacc-46f8-4bee-8ee7-666181357e75",
   "metadata": {
    "tags": []
   },
   "outputs": [],
   "source": [
    "# TODO: Your very own word game"
   ]
  },
  {
   "cell_type": "markdown",
   "id": "86f6baef-2e7b-449b-b787-93656dec0169",
   "metadata": {
    "deletable": false,
    "editable": false,
    "tags": []
   },
   "source": [
    "## **Summary**\n",
    "In this tutorial, we built a few easy and fun games using our language. This included:\n",
    "- Randomly choosing and shuffling words\n",
    "- Creating game logic\n",
    "- More experience with Gradio\n",
    "\n",
    "Although not as technically complex as some of the other projects, word games are a great way to help with language learning, which is critical for an endangered language.\n",
    "\n",
    "If you've made it this far, you've hopefully learned a lot about building language technology, even when resources are very limited. We hope you enjoyed BELT and can start using these skills out in the real world!"
   ]
  },
  {
   "cell_type": "code",
   "execution_count": null,
   "id": "f15a030f-e16e-4e80-b51b-527f4c5ee560",
   "metadata": {},
   "outputs": [],
   "source": []
  }
 ],
 "metadata": {
  "kernelspec": {
   "display_name": "Python 3 (ipykernel)",
   "language": "python",
   "name": "python3"
  },
  "language_info": {
   "codemirror_mode": {
    "name": "ipython",
    "version": 3
   },
   "file_extension": ".py",
   "mimetype": "text/x-python",
   "name": "python",
   "nbconvert_exporter": "python",
   "pygments_lexer": "ipython3",
   "version": "3.10.6"
  }
 },
 "nbformat": 4,
 "nbformat_minor": 5
}
