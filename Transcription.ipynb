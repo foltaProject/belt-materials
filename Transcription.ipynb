{
 "cells": [
  {
   "cell_type": "markdown",
   "id": "624ef182-bd35-40c7-b09a-89826f14ccae",
   "metadata": {},
   "source": [
    "# 5. Transcription\n",
    "\n",
    "Transcription is a vital task in language documentation. State-of-the-art transcription models are trained with huge amounts of recorded and transcribed data; however, a low-resource language likely does not have access to sufficient data.\n",
    "\n",
    "Instead, we will use [Allosaurus](https://github.com/xinjli/allosaurus). Allosaurus is a tool that transcribes audio to any IPA symbol, which we can then filter down to just the IPA sounds in our language."
   ]
  },
  {
   "cell_type": "code",
   "execution_count": 1,
   "id": "b9779ba6-f1d1-4f88-bcbc-84e8dcdb2471",
   "metadata": {},
   "outputs": [
    {
     "name": "stdout",
     "output_type": "stream",
     "text": [
      "Requirement already satisfied: allosaurus in /Users/milesper/miniforge3/lib/python3.10/site-packages (1.0.2)\n",
      "Requirement already satisfied: resampy in /Users/milesper/miniforge3/lib/python3.10/site-packages (from allosaurus) (0.4.2)\n",
      "Requirement already satisfied: numpy in /Users/milesper/miniforge3/lib/python3.10/site-packages (from allosaurus) (1.23.2)\n",
      "Requirement already satisfied: panphon in /Users/milesper/miniforge3/lib/python3.10/site-packages (from allosaurus) (0.20.0)\n",
      "Requirement already satisfied: editdistance in /Users/milesper/miniforge3/lib/python3.10/site-packages (from allosaurus) (0.6.1)\n",
      "Requirement already satisfied: scipy in /Users/milesper/miniforge3/lib/python3.10/site-packages (from allosaurus) (1.9.3)\n",
      "Requirement already satisfied: torch in /Users/milesper/miniforge3/lib/python3.10/site-packages (from allosaurus) (1.14.0.dev20221025)\n",
      "Requirement already satisfied: unicodecsv in /Users/milesper/miniforge3/lib/python3.10/site-packages (from panphon->allosaurus) (0.14.1)\n",
      "Requirement already satisfied: PyYAML in /Users/milesper/miniforge3/lib/python3.10/site-packages (from panphon->allosaurus) (6.0)\n",
      "Requirement already satisfied: munkres in /Users/milesper/miniforge3/lib/python3.10/site-packages (from panphon->allosaurus) (1.1.4)\n",
      "Requirement already satisfied: regex in /Users/milesper/miniforge3/lib/python3.10/site-packages (from panphon->allosaurus) (2022.9.13)\n",
      "Requirement already satisfied: setuptools in /Users/milesper/miniforge3/lib/python3.10/site-packages (from panphon->allosaurus) (65.6.0)\n",
      "Requirement already satisfied: numba>=0.53 in /Users/milesper/miniforge3/lib/python3.10/site-packages (from resampy->allosaurus) (0.56.4)\n",
      "Requirement already satisfied: networkx in /Users/milesper/miniforge3/lib/python3.10/site-packages (from torch->allosaurus) (2.8.7)\n",
      "Requirement already satisfied: typing-extensions in /Users/milesper/miniforge3/lib/python3.10/site-packages (from torch->allosaurus) (4.4.0)\n",
      "Requirement already satisfied: sympy in /Users/milesper/miniforge3/lib/python3.10/site-packages (from torch->allosaurus) (1.11.1)\n",
      "Requirement already satisfied: llvmlite<0.40,>=0.39.0dev0 in /Users/milesper/miniforge3/lib/python3.10/site-packages (from numba>=0.53->resampy->allosaurus) (0.39.1)\n",
      "Requirement already satisfied: mpmath>=0.19 in /Users/milesper/miniforge3/lib/python3.10/site-packages (from sympy->torch->allosaurus) (1.2.1)\n"
     ]
    }
   ],
   "source": [
    "!pip install allosaurus"
   ]
  },
  {
   "cell_type": "markdown",
   "id": "df3fb5a0-0699-4e9c-9f42-78d031e231f8",
   "metadata": {},
   "source": [
    "We will use the attached audio file `1.wav`. First, let's run Allosaurus without any phonetic inventory to transcribe to the closest IPA symbol."
   ]
  },
  {
   "cell_type": "code",
   "execution_count": 2,
   "id": "8d079369-1de4-4c91-8bb5-26ecf61a944a",
   "metadata": {},
   "outputs": [
    {
     "data": {
      "text/plain": [
       "'w o m a b̞ a t̪ i u m a k͡p̚ e tɕ i e ts ɪ ʌ ŋ tʂ ʌ n x ʌ i tsʰ a ɪ t a ɴ t̪ʰ i n iː uə d uə o ʂ y'"
      ]
     },
     "execution_count": 2,
     "metadata": {},
     "output_type": "execute_result"
    }
   ],
   "source": [
    "from allosaurus.app import read_recognizer\n",
    "\n",
    "test_audio_file = '1.wav'\n",
    "\n",
    "model = read_recognizer()\n",
    "model.recognize(test_audio_file)"
   ]
  },
  {
   "cell_type": "markdown",
   "id": "bb34d979-c4c2-4a53-ba2f-f0383d004aeb",
   "metadata": {},
   "source": [
    "The `recognize` function can also take a language argument. You can list the available languages with the following command."
   ]
  },
  {
   "cell_type": "code",
   "execution_count": 10,
   "id": "f1f631c3-f212-49be-8936-bf5df45132c8",
   "metadata": {},
   "outputs": [],
   "source": [
    "# !python -m allosaurus.bin.list_lang"
   ]
  },
  {
   "cell_type": "code",
   "execution_count": 3,
   "id": "aabfea67-1607-4702-9f12-062bf487e25e",
   "metadata": {},
   "outputs": [
    {
     "data": {
      "text/plain": [
       "'w o m a m a t̪ i u m a k e t̪ʰ i e t ɪ ŋ t a n kʰ œ i tʰ a ɪ t a n t̪ʰ i n i t o y'"
      ]
     },
     "execution_count": 3,
     "metadata": {},
     "output_type": "execute_result"
    }
   ],
   "source": [
    "# Try with a pretrained language argument\n",
    "model = read_recognizer()\n",
    "model.recognize(test_audio_file, 'yue')"
   ]
  },
  {
   "cell_type": "markdown",
   "id": "6b4a5450-9ae8-42b8-b71e-f0d9e9303d39",
   "metadata": {},
   "source": [
    "We can also provide a custom inventory. To do this, we specify a file with all of the sounds in the language. For instance, we can see the English inventory using the following command."
   ]
  },
  {
   "cell_type": "code",
   "execution_count": 7,
   "id": "cdde61e8-c517-412a-b4a6-31e0688f74de",
   "metadata": {},
   "outputs": [],
   "source": [
    "!python -m allosaurus.bin.write_phone --lang eng --output eng.txt"
   ]
  },
  {
   "cell_type": "markdown",
   "id": "14feb757-79ce-4691-8114-2340f547770b",
   "metadata": {},
   "source": [
    "For instance, we have provided the Uspanteko inventory in the file `usp.txt`. You can create your own inventory if you are using a different language. Now, we can load the inventory into the model."
   ]
  },
  {
   "cell_type": "code",
   "execution_count": 12,
   "id": "124ce4a6-56a3-4724-8a50-fbc2f3234cf1",
   "metadata": {},
   "outputs": [
    {
     "name": "stdout",
     "output_type": "stream",
     "text": [
      "Traceback (most recent call last):\n",
      "  File \"/Users/milesper/miniforge3/lib/python3.10/runpy.py\", line 196, in _run_module_as_main\n",
      "    return _run_code(code, main_globals, None,\n",
      "  File \"/Users/milesper/miniforge3/lib/python3.10/runpy.py\", line 86, in _run_code\n",
      "    exec(code, run_globals)\n",
      "  File \"/Users/milesper/miniforge3/lib/python3.10/site-packages/allosaurus/bin/update_phone.py\", line 22, in <module>\n",
      "    assert args.lang != 'ipa', \"ipa is not a proper lang to update. use list_lang to find a proper language\"\n",
      "AssertionError: ipa is not a proper lang to update. use list_lang to find a proper language\n"
     ]
    }
   ],
   "source": [
    "!python -m allosaurus.bin.update_phone --lang ipa --input eng.txt"
   ]
  },
  {
   "cell_type": "code",
   "execution_count": 4,
   "id": "6cc3c0c2-037e-4aac-8770-ec2e8498aaee",
   "metadata": {},
   "outputs": [
    {
     "name": "stdout",
     "output_type": "stream",
     "text": [
      "a a̞ e f h i j k kʰ kʷ kʷʰ l l̥ l̪ l̪̥ m m̩ n n̪ o p pʰ r s sʰ t tʰ t̠ t̪ t̪ʰ u w y æ ŋ ŋ̩ œ œ̞ ɐ ɔ ɛ ɪ ɪ̞ ɵ ʃ ʃʰ ʊ ʊ̟ β\n"
     ]
    }
   ],
   "source": [
    "!python -m allosaurus.bin.list_phone --lang yue"
   ]
  },
  {
   "cell_type": "code",
   "execution_count": null,
   "id": "031234e9-92c0-48aa-b955-89279393e2e1",
   "metadata": {},
   "outputs": [],
   "source": []
  }
 ],
 "metadata": {
  "kernelspec": {
   "display_name": "Python 3 (ipykernel)",
   "language": "python",
   "name": "python3"
  },
  "language_info": {
   "codemirror_mode": {
    "name": "ipython",
    "version": 3
   },
   "file_extension": ".py",
   "mimetype": "text/x-python",
   "name": "python",
   "nbconvert_exporter": "python",
   "pygments_lexer": "ipython3",
   "version": "3.10.6"
  }
 },
 "nbformat": 4,
 "nbformat_minor": 5
}
